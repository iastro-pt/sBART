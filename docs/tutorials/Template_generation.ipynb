{
 "cells": [
  {
   "cell_type": "markdown",
   "source": [
    "# Template generation\n",
    "\n",
    "The generation of templates is not directly controlled by the end-user. Instead, s-BART provides two interfaces that will automatically sort the observations (in the different sub-Instruments) and create independent stellar- and telluric-templates for each available sub-Instrument.\n",
    " Furthermore, the goal of these two interfaces (stellar and telluric) is to create the templates and, afterwards, the DataClass will load their relevant information"
   ],
   "metadata": {
    "collapsed": false
   }
  },
  {
   "cell_type": "code",
   "execution_count": null,
   "outputs": [],
   "source": [
    "##\n",
    "#   We start by loading some observations\n",
    "##\n",
    "from pathlib import Path\n",
    "import os\n",
    "\n",
    "resources_path = Path(os.curdir).absolute().parent.parent / \"tests/resources\"\n",
    "input_filepath = [i.as_posix() for i in resources_path.iterdir() if \"fits\" in i.name]\n",
    "from SBART.data_objects import DataClassManager\n",
    "from SBART.Instruments import ESPRESSO\n",
    "manager = DataClassManager()\n",
    "manager.start()\n",
    "\n",
    "\n",
    "data = manager.DataClass(\n",
    "    input_filepath,\n",
    "    storage_path = \"\",\n",
    "    instrument=ESPRESSO,\n",
    "    instrument_options={},\n",
    ")"
   ],
   "metadata": {
    "collapsed": false,
    "pycharm": {
     "is_executing": true
    }
   }
  },
  {
   "cell_type": "markdown",
   "source": [
    "## Handling the telluric features\n"
   ],
   "metadata": {
    "collapsed": false
   }
  },
  {
   "cell_type": "code",
   "execution_count": null,
   "outputs": [],
   "source": [
    "from SBART.template_creation.TelluricModel import TelluricModel\n",
    "\n",
    "# This will be used to control the application of the selected algorithm to the different subInstruments\n",
    "telluric_model_configs = {\"CREATION_MODE\": \"tapas\"}\n",
    "\n",
    "ModelTell = TelluricModel(\n",
    "        usage_mode=\"individual\",\n",
    "        user_configs=telluric_model_configs,\n",
    "        root_folder_path=\"\",\n",
    "    )\n",
    "\n",
    "# The telluric_configs will be used to configure the algorithm that was selected for the construction of the temlate\n",
    "telluric_template_configs = {\"continuum_percentage_drop\": 1,\n",
    "                             \"download_path\": (resources_path / \"tapas.ipac\").as_posix()\n",
    "                             }\n",
    "ModelTell.Generate_Model(\n",
    "    dataClass=data,\n",
    "    telluric_configs=telluric_template_configs,\n",
    "    force_computation=False,\n",
    "    store_templates=True,\n",
    ")\n",
    "\n",
    "# After creating the telluric model, we load it into the DataClass.\n",
    "data.remove_telluric_features(ModelTell)\n",
    "\n",
    "first_frame = data.get_frame_by_ID(0)\n",
    "wave, flux, _ ,mask = first_frame.get_data_from_spectral_order(147)\n",
    "import matplotlib.pyplot as plt\n",
    "plt.scatter(wave[~mask], flux[~mask], color = \"black\", s=9, label = \"Spectra\")\n",
    "plt.scatter(wave[mask], flux[mask], color = \"red\", s=9, label = \"Telluric-rejected features\")\n",
    "plt.legend(loc=4, bbox_to_anchor=(1,1), ncol=2)\n",
    "plt.show()"
   ],
   "metadata": {
    "collapsed": false,
    "pycharm": {
     "is_executing": true
    }
   }
  },
  {
   "cell_type": "markdown",
   "source": [
    "## Stellar Model"
   ],
   "metadata": {
    "collapsed": false
   }
  },
  {
   "cell_type": "code",
   "execution_count": null,
   "outputs": [],
   "source": [],
   "metadata": {
    "collapsed": false
   }
  },
  {
   "cell_type": "code",
   "execution_count": null,
   "outputs": [],
   "source": [],
   "metadata": {
    "collapsed": false
   }
  },
  {
   "cell_type": "code",
   "execution_count": null,
   "outputs": [],
   "source": [],
   "metadata": {
    "collapsed": false
   }
  }
 ],
 "metadata": {
  "kernelspec": {
   "display_name": "Python 3",
   "language": "python",
   "name": "python3"
  },
  "language_info": {
   "codemirror_mode": {
    "name": "ipython",
    "version": 2
   },
   "file_extension": ".py",
   "mimetype": "text/x-python",
   "name": "python",
   "nbconvert_exporter": "python",
   "pygments_lexer": "ipython2",
   "version": "2.7.6"
  }
 },
 "nbformat": 4,
 "nbformat_minor": 0
}
