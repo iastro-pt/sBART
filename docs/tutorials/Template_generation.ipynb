{
 "cells": [
  {
   "cell_type": "markdown",
   "metadata": {
    "collapsed": false
   },
   "source": [
    "# Template generation\n",
    "\n",
    "The generation of templates is not directly controlled by the end-user. Instead, s-BART provides two interfaces that will automatically sort the observations (in the different sub-Instruments) and create independent stellar- and telluric-templates for each available sub-Instrument.\n",
    " Furthermore, the goal of these two interfaces (stellar and telluric) is to create the templates and, afterwards, the DataClass will load their relevant information"
   ]
  },
  {
   "cell_type": "code",
   "execution_count": 1,
   "metadata": {
    "ExecuteTime": {
     "end_time": "2024-01-15T17:30:43.609750618Z",
     "start_time": "2024-01-15T17:30:42.382446585Z"
    },
    "collapsed": false,
    "pycharm": {
     "is_executing": true
    }
   },
   "outputs": [
    {
     "ename": "FileNotFoundError",
     "evalue": "[Errno 2] No such file or directory: '/home/amiguel/phd/tests/resources'",
     "output_type": "error",
     "traceback": [
      "\u001b[0;31m---------------------------------------------------------------------------\u001b[0m",
      "\u001b[0;31mFileNotFoundError\u001b[0m                         Traceback (most recent call last)",
      "Input \u001b[0;32mIn [1]\u001b[0m, in \u001b[0;36m<cell line: 8>\u001b[0;34m()\u001b[0m\n\u001b[1;32m      5\u001b[0m \u001b[38;5;28;01mimport\u001b[39;00m \u001b[38;5;21;01mos\u001b[39;00m\n\u001b[1;32m      7\u001b[0m resources_path \u001b[38;5;241m=\u001b[39m Path(os\u001b[38;5;241m.\u001b[39mcurdir)\u001b[38;5;241m.\u001b[39mabsolute()\u001b[38;5;241m.\u001b[39mparent\u001b[38;5;241m.\u001b[39mparent \u001b[38;5;241m/\u001b[39m \u001b[38;5;124m\"\u001b[39m\u001b[38;5;124mtests/resources\u001b[39m\u001b[38;5;124m\"\u001b[39m\n\u001b[0;32m----> 8\u001b[0m input_filepath \u001b[38;5;241m=\u001b[39m [i\u001b[38;5;241m.\u001b[39mas_posix() \u001b[38;5;28;01mfor\u001b[39;00m i \u001b[38;5;129;01min\u001b[39;00m resources_path\u001b[38;5;241m.\u001b[39miterdir() \u001b[38;5;28;01mif\u001b[39;00m \u001b[38;5;124m\"\u001b[39m\u001b[38;5;124mfits\u001b[39m\u001b[38;5;124m\"\u001b[39m \u001b[38;5;129;01min\u001b[39;00m i\u001b[38;5;241m.\u001b[39mname]\n\u001b[1;32m      9\u001b[0m \u001b[38;5;28;01mfrom\u001b[39;00m \u001b[38;5;21;01mSBART\u001b[39;00m\u001b[38;5;21;01m.\u001b[39;00m\u001b[38;5;21;01mdata_objects\u001b[39;00m \u001b[38;5;28;01mimport\u001b[39;00m DataClassManager\n\u001b[1;32m     10\u001b[0m \u001b[38;5;28;01mfrom\u001b[39;00m \u001b[38;5;21;01mSBART\u001b[39;00m\u001b[38;5;21;01m.\u001b[39;00m\u001b[38;5;21;01mInstruments\u001b[39;00m \u001b[38;5;28;01mimport\u001b[39;00m ESPRESSO\n",
      "Input \u001b[0;32mIn [1]\u001b[0m, in \u001b[0;36m<listcomp>\u001b[0;34m(.0)\u001b[0m\n\u001b[1;32m      5\u001b[0m \u001b[38;5;28;01mimport\u001b[39;00m \u001b[38;5;21;01mos\u001b[39;00m\n\u001b[1;32m      7\u001b[0m resources_path \u001b[38;5;241m=\u001b[39m Path(os\u001b[38;5;241m.\u001b[39mcurdir)\u001b[38;5;241m.\u001b[39mabsolute()\u001b[38;5;241m.\u001b[39mparent\u001b[38;5;241m.\u001b[39mparent \u001b[38;5;241m/\u001b[39m \u001b[38;5;124m\"\u001b[39m\u001b[38;5;124mtests/resources\u001b[39m\u001b[38;5;124m\"\u001b[39m\n\u001b[0;32m----> 8\u001b[0m input_filepath \u001b[38;5;241m=\u001b[39m [i\u001b[38;5;241m.\u001b[39mas_posix() \u001b[38;5;28;01mfor\u001b[39;00m i \u001b[38;5;129;01min\u001b[39;00m resources_path\u001b[38;5;241m.\u001b[39miterdir() \u001b[38;5;28;01mif\u001b[39;00m \u001b[38;5;124m\"\u001b[39m\u001b[38;5;124mfits\u001b[39m\u001b[38;5;124m\"\u001b[39m \u001b[38;5;129;01min\u001b[39;00m i\u001b[38;5;241m.\u001b[39mname]\n\u001b[1;32m      9\u001b[0m \u001b[38;5;28;01mfrom\u001b[39;00m \u001b[38;5;21;01mSBART\u001b[39;00m\u001b[38;5;21;01m.\u001b[39;00m\u001b[38;5;21;01mdata_objects\u001b[39;00m \u001b[38;5;28;01mimport\u001b[39;00m DataClassManager\n\u001b[1;32m     10\u001b[0m \u001b[38;5;28;01mfrom\u001b[39;00m \u001b[38;5;21;01mSBART\u001b[39;00m\u001b[38;5;21;01m.\u001b[39;00m\u001b[38;5;21;01mInstruments\u001b[39;00m \u001b[38;5;28;01mimport\u001b[39;00m ESPRESSO\n",
      "File \u001b[0;32m/usr/lib/python3.8/pathlib.py:1122\u001b[0m, in \u001b[0;36mPath.iterdir\u001b[0;34m(self)\u001b[0m\n\u001b[1;32m   1120\u001b[0m \u001b[38;5;28;01mif\u001b[39;00m \u001b[38;5;28mself\u001b[39m\u001b[38;5;241m.\u001b[39m_closed:\n\u001b[1;32m   1121\u001b[0m     \u001b[38;5;28mself\u001b[39m\u001b[38;5;241m.\u001b[39m_raise_closed()\n\u001b[0;32m-> 1122\u001b[0m \u001b[38;5;28;01mfor\u001b[39;00m name \u001b[38;5;129;01min\u001b[39;00m \u001b[38;5;28;43mself\u001b[39;49m\u001b[38;5;241;43m.\u001b[39;49m\u001b[43m_accessor\u001b[49m\u001b[38;5;241;43m.\u001b[39;49m\u001b[43mlistdir\u001b[49m\u001b[43m(\u001b[49m\u001b[38;5;28;43mself\u001b[39;49m\u001b[43m)\u001b[49m:\n\u001b[1;32m   1123\u001b[0m     \u001b[38;5;28;01mif\u001b[39;00m name \u001b[38;5;129;01min\u001b[39;00m {\u001b[38;5;124m'\u001b[39m\u001b[38;5;124m.\u001b[39m\u001b[38;5;124m'\u001b[39m, \u001b[38;5;124m'\u001b[39m\u001b[38;5;124m..\u001b[39m\u001b[38;5;124m'\u001b[39m}:\n\u001b[1;32m   1124\u001b[0m         \u001b[38;5;66;03m# Yielding a path object for these makes little sense\u001b[39;00m\n\u001b[1;32m   1125\u001b[0m         \u001b[38;5;28;01mcontinue\u001b[39;00m\n",
      "\u001b[0;31mFileNotFoundError\u001b[0m: [Errno 2] No such file or directory: '/home/amiguel/phd/tests/resources'"
     ]
    }
   ],
   "source": [
    "##\n",
    "#   We start by loading some observations\n",
    "##\n",
    "from pathlib import Path\n",
    "import os\n",
    "\n",
    "resources_path = Path(os.curdir).absolute().parent.parent / \"tests/resources\"\n",
    "input_filepath = [i.as_posix() for i in resources_path.iterdir() if \"fits\" in i.name]\n",
    "from SBART.data_objects import DataClassManager\n",
    "from SBART.Instruments import ESPRESSO\n",
    "\n",
    "manager = DataClassManager()\n",
    "manager.start()\n",
    "\n",
    "\n",
    "data = manager.DataClass(\n",
    "    input_filepath,\n",
    "    storage_path=\"\",\n",
    "    instrument=ESPRESSO,\n",
    "    instrument_options={},\n",
    ")"
   ]
  },
  {
   "cell_type": "markdown",
   "metadata": {
    "collapsed": false
   },
   "source": [
    "## Handling the telluric features\n"
   ]
  },
  {
   "cell_type": "code",
   "execution_count": null,
   "metadata": {
    "collapsed": false,
    "pycharm": {
     "is_executing": true
    }
   },
   "outputs": [],
   "source": [
    "from SBART.template_creation.TelluricModel import TelluricModel\n",
    "\n",
    "# This will be used to control the application of the selected algorithm to the different subInstruments\n",
    "telluric_model_configs = {\"CREATION_MODE\": \"tapas\"}\n",
    "\n",
    "ModelTell = TelluricModel(\n",
    "    usage_mode=\"individual\",\n",
    "    user_configs=telluric_model_configs,\n",
    "    root_folder_path=\"\",\n",
    ")\n",
    "\n",
    "# The telluric_configs will be used to configure the algorithm that was selected for the construction of the temlate\n",
    "telluric_template_configs = {\n",
    "    \"continuum_percentage_drop\": 1,\n",
    "    \"download_path\": (resources_path / \"tapas.ipac\").as_posix(),\n",
    "}\n",
    "ModelTell.Generate_Model(\n",
    "    dataClass=data,\n",
    "    telluric_configs=telluric_template_configs,\n",
    "    force_computation=False,\n",
    "    store_templates=True,\n",
    ")\n",
    "\n",
    "# After creating the telluric model, we load it into the DataClass.\n",
    "data.remove_telluric_features(ModelTell)\n",
    "\n",
    "first_frame = data.get_frame_by_ID(0)\n",
    "wave, flux, _, mask = first_frame.get_data_from_spectral_order(147)\n",
    "import matplotlib.pyplot as plt\n",
    "\n",
    "plt.scatter(wave[~mask], flux[~mask], color=\"black\", s=9, label=\"Spectra\")\n",
    "plt.scatter(wave[mask], flux[mask], color=\"red\", s=9, label=\"Telluric-rejected features\")\n",
    "plt.legend(loc=4, bbox_to_anchor=(1, 1), ncol=2)\n",
    "plt.show()"
   ]
  },
  {
   "cell_type": "markdown",
   "metadata": {
    "collapsed": false
   },
   "source": [
    "## Stellar Model"
   ]
  },
  {
   "cell_type": "code",
   "execution_count": null,
   "metadata": {
    "collapsed": false
   },
   "outputs": [],
   "source": []
  },
  {
   "cell_type": "code",
   "execution_count": null,
   "metadata": {
    "collapsed": false
   },
   "outputs": [],
   "source": []
  },
  {
   "cell_type": "code",
   "execution_count": null,
   "metadata": {
    "collapsed": false
   },
   "outputs": [],
   "source": []
  }
 ],
 "metadata": {
  "kernelspec": {
   "display_name": "Python 3",
   "language": "python",
   "name": "python3"
  },
  "language_info": {
   "codemirror_mode": {
    "name": "ipython",
    "version": 2
   },
   "file_extension": ".py",
   "mimetype": "text/x-python",
   "name": "python",
   "nbconvert_exporter": "python",
   "pygments_lexer": "ipython2",
   "version": "2.7.6"
  }
 },
 "nbformat": 4,
 "nbformat_minor": 0
}
