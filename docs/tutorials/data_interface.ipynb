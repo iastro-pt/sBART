{
 "cells": [
  {
   "cell_type": "markdown",
   "source": [
    "# Overview of the data flow in SBART\n",
    "\n",
    "**Goals of this notebook:**\n",
    "\n",
    "- Very brief explanation/overview of the basic user interface to load data from disk:\n",
    "    - Load data from .fits files\n",
    "    - Configure the \"instrument\"\n",
    "    - Reject observations based on different conditions (e.g. HEADER values)\n",
    "    - Reject wavelength regions\n",
    "\n",
    "## Loading data from disk\n",
    "\n",
    "In this Section we look at how we can load spectral data from disk"
   ],
   "metadata": {
    "collapsed": false,
    "pycharm": {
     "name": "#%% md\n"
    }
   }
  },
  {
   "cell_type": "code",
   "execution_count": 1,
   "outputs": [
    {
     "name": "stderr",
     "output_type": "stream",
     "text": [
      "/home/amiguel/.virtualenvs/seminar-Pt5BMgSq-py3.8/lib/python3.8/site-packages/pysynphot/locations.py:46: UserWarning: PYSYN_CDBS is undefined; functionality will be SEVERELY crippled.\n",
      "  warnings.warn(\"PYSYN_CDBS is undefined; functionality will be SEVERELY \"\n",
      "/home/amiguel/.virtualenvs/seminar-Pt5BMgSq-py3.8/lib/python3.8/site-packages/pysynphot/locations.py:345: UserWarning: Extinction files not found in extinction\n",
      "  warnings.warn('Extinction files not found in %s' % (extdir, ))\n"
     ]
    }
   ],
   "source": [
    "from SBART.data_objects import DataClassManager, DataClass\n",
    "from SBART.outside_tools.create_logger import setup_SBART_logger"
   ],
   "metadata": {
    "collapsed": false,
    "pycharm": {
     "name": "#%%\n"
    }
   }
  },
  {
   "cell_type": "markdown",
   "source": [
    "### How to \"point\" towards the .fits files"
   ],
   "metadata": {
    "collapsed": false,
    "pycharm": {
     "name": "#%% md\n"
    }
   }
  },
  {
   "cell_type": "code",
   "execution_count": 2,
   "outputs": [],
   "source": [
    "# Option a) -> path to a disk file that contains (in each line) the full path to the .fits files (either S1D or S2D)\n",
    "data_in_path = '/home/amiguel/seminar/test_new_version/espresso_data_in.txt'\n",
    "\n",
    "# Option b) List with entries that are full paths to the .fits files\n",
    "data_in_list = [\"full_path_1.fits\"]"
   ],
   "metadata": {
    "collapsed": false,
    "pycharm": {
     "name": "#%%\n"
    }
   }
  },
  {
   "cell_type": "markdown",
   "source": [
    "### Selection and configuration of the Instrument"
   ],
   "metadata": {
    "collapsed": false,
    "pycharm": {
     "name": "#%% md\n"
    }
   }
  },
  {
   "cell_type": "code",
   "execution_count": 3,
   "outputs": [],
   "source": [
    "from SBART.Instruments import ESPRESSO, CARMENES\n",
    "\n",
    "# Select one of the available instruments in the SBART.Instruments (currently HARPS/CARMENES/ESPRESSO - HARPS temporarily disabled)\n",
    "instrument = ESPRESSO\n",
    "\n",
    "# Each instrument can be (optionally) configured. The available configurations can only be seen inside the code (no 'external docs') in the following places:\n",
    "#    i) Global configurations to ALL instruments: SBART/Base_Models/Frame.py\n",
    "#    ii) Instrument-specific configurations: SBART/Instruments/<inst_name>.py\n",
    "#\n",
    "# The available configurations and their default values are placed inside the \"controllable_options\" dictionary, as a class attribute.\n",
    "# To change them, we define a dictionary with Keys being the configuration name and values the new value\n",
    "\n",
    "inst_options = {\"minimum_order_SNR\" : 10,\n",
    "                \"spectra_format\" : \"S2D\"  # S1D if we want to use those files; For the S2D mode we can use either S2D_A or S2D_BLAZE_A files\n",
    "                }\n"
   ],
   "metadata": {
    "collapsed": false,
    "pycharm": {
     "name": "#%%\n"
    }
   }
  },
  {
   "cell_type": "markdown",
   "source": [
    "### Configure the logs of the library\n",
    "\n",
    "If this is not used, there will be no information printed on the terminal. Can be called multiple times, to \"point\" towards different folders"
   ],
   "metadata": {
    "collapsed": false,
    "pycharm": {
     "name": "#%% md\n"
    }
   }
  },
  {
   "cell_type": "code",
   "execution_count": 4,
   "outputs": [
    {
     "name": "stdout",
     "output_type": "stream",
     "text": [
      "2021-12-02T22:46:15 - \u001B[36mSBART.outside_tools.create_logger\u001B[0m - \u001B[38;2;241;196;15mWARNING\u001B[0m -Not storing logs to disk\n"
     ]
    }
   ],
   "source": [
    "log_storage_path = \"\"  # Root folder for the logger (path to that folder)\n",
    "rv_method = \"\"         # Name of a folder created inside the root, e.g. log_storage_path/rv_method\n",
    "write_to_file = False # if False, only prints to the terminal\n",
    "setup_SBART_logger(log_storage_path, rv_method, instrument=instrument, write_to_file=False)"
   ],
   "metadata": {
    "collapsed": false,
    "pycharm": {
     "name": "#%%\n"
    }
   }
  },
  {
   "cell_type": "markdown",
   "source": [
    "### Loading the data from disk\n",
    "\n",
    "There are two ways of loading the data from disk (that work in the same fashion):\n",
    "    - A) Load the data as an independent process - **must** be used when we want to compute RVs (to work with parallel code)\n",
    "    - B) Load the data in the main python process\n",
    "\n",
    "**Note:** Generally better to just go with option A) all the time\n",
    "\n",
    "The entire SBART pipeline is built in such a way that it can process data from multiple \"time divisions\" of the same instrument individually.\n",
    "For example, it can recognize data from ESPRESSO18, 19 and 21, create individual stellar templates and compute 'individual' RVs"
   ],
   "metadata": {
    "collapsed": false,
    "pycharm": {
     "name": "#%% md\n"
    }
   }
  },
  {
   "cell_type": "code",
   "execution_count": 5,
   "outputs": [
    {
     "name": "stdout",
     "output_type": "stream",
     "text": [
      "2021-12-02T22:46:15 - \u001B[36mSBART.data_objects.DataClass\u001B[0m - \u001B[38;2;40;180;99mINFO\u001B[0m -DataClass loading data from /home/amiguel/seminar/test_new_version/espresso_data_in.txt\n",
      "2021-12-02T22:46:15 - \u001B[36mSBART.Base_Models.Frame\u001B[0m - \u001B[38;2;40;180;99mINFO\u001B[0m -Updating  class properties from default values of {'bypass_QualCheck': False, 'reject_order_percentage': 0.25, 'minimum_order_SNR': 20, 'spectra_format': 'S2D', 'apply_FluxCorr': False} to: {'minimum_order_SNR': 10}\n",
      "2021-12-02T22:46:15 - \u001B[36mSBART.Base_Models.Frame\u001B[0m - \u001B[38;2;40;180;99mINFO\u001B[0m -Creating frame from: /home/amiguel/seminar/test_new_version/dataset/r.ESPRE.2019-02-10T08:25:37.895_S2D_BLAZE_A.fits\n",
      "2021-12-02T22:46:15 - \u001B[36mSBART.Base_Models.Frame\u001B[0m - \u001B[38;2;208;211;212mDEBUG\u001B[0m -Validating header KeyWords\n",
      "2021-12-02T22:46:15 - \u001B[36mSBART.Instruments.ESPRESSO\u001B[0m - \u001B[38;2;40;180;99mINFO\u001B[0m -Found 0 warning flags in the header KWs\n",
      "2021-12-02T22:46:15 - \u001B[36mSBART.Base_Models.Frame\u001B[0m - \u001B[38;2;40;180;99mINFO\u001B[0m -Frame determined to be from ESPRESSO18\n",
      "2021-12-02T22:46:15 - \u001B[36mSBART.Base_Models.Frame\u001B[0m - \u001B[38;2;40;180;99mINFO\u001B[0m -Creating frame from: /home/amiguel/seminar/test_new_version/dataset/r.ESPRE.2019-02-18T04:41:22.303_S2D_BLAZE_A.fits\n",
      "2021-12-02T22:46:15 - \u001B[36mSBART.Base_Models.Frame\u001B[0m - \u001B[38;2;208;211;212mDEBUG\u001B[0m -Validating header KeyWords\n",
      "2021-12-02T22:46:15 - \u001B[36mSBART.Instruments.ESPRESSO\u001B[0m - \u001B[38;2;40;180;99mINFO\u001B[0m -Found 0 warning flags in the header KWs\n",
      "2021-12-02T22:46:15 - \u001B[36mSBART.Base_Models.Frame\u001B[0m - \u001B[38;2;40;180;99mINFO\u001B[0m -Frame determined to be from ESPRESSO18\n",
      "2021-12-02T22:46:15 - \u001B[36mSBART.Base_Models.Frame\u001B[0m - \u001B[38;2;40;180;99mINFO\u001B[0m -Creating frame from: /home/amiguel/seminar/test_new_version/dataset/r.ESPRE.2019-02-19T07:49:19.028_S2D_BLAZE_A.fits\n",
      "2021-12-02T22:46:15 - \u001B[36mSBART.Base_Models.Frame\u001B[0m - \u001B[38;2;208;211;212mDEBUG\u001B[0m -Validating header KeyWords\n",
      "2021-12-02T22:46:15 - \u001B[36mSBART.Instruments.ESPRESSO\u001B[0m - \u001B[38;2;40;180;99mINFO\u001B[0m -Found 0 warning flags in the header KWs\n",
      "2021-12-02T22:46:15 - \u001B[36mSBART.Base_Models.Frame\u001B[0m - \u001B[38;2;40;180;99mINFO\u001B[0m -Frame determined to be from ESPRESSO18\n",
      "2021-12-02T22:46:15 - \u001B[36mSBART.data_objects.DataClass\u001B[0m - \u001B[38;2;40;180;99mINFO\u001B[0m -Collecting MetaData from the observations\n",
      "2021-12-02T22:46:15 - \u001B[36mSBART.data_objects.Target\u001B[0m - \u001B[38;2;40;180;99mINFO\u001B[0m -Found KOBE dictionary; Loading keys\n",
      "2021-12-02T22:46:15 - \u001B[36mSBART.data_objects.Target\u001B[0m - \u001B[38;2;208;211;212mDEBUG\u001B[0m -Parsing through loaded OBJECTs\n",
      "2021-12-02T22:46:15 - \u001B[36mSBART.data_objects.Target\u001B[0m - \u001B[38;2;40;180;99mINFO\u001B[0m -Validated target to be V V645 Cen\n",
      "2021-12-02T22:46:15 - \u001B[36mSBART.data_objects.DataClass\u001B[0m - \u001B[38;2;40;180;99mINFO\u001B[0m -Loaded data from DRS version {'espdr/2.2.8'}\n",
      "2021-12-02T22:46:15 - \u001B[36mSBART.data_objects.DataClass\u001B[0m - \u001B[38;2;40;180;99mINFO\u001B[0m -Loaded data from DRS version {'M5'}\n",
      "2021-12-02T22:46:15 - \u001B[36mSBART.data_objects.DataClass\u001B[0m - \u001B[38;2;40;180;99mINFO\u001B[0m -\n",
      "+---------------+-----------+----------------------+-------------+\n",
      "| subInstrument | Total OBS | Valid OBS [warnings] | INVALID OBS |\n",
      "+---------------+-----------+----------------------+-------------+\n",
      "| ESPRESSO18    | 3         | 3 [0]                | 0           |\n",
      "+---------------+-----------+----------------------+-------------+\n",
      "| ESPRESSO19    | 0         | 0 [0]                | 0           |\n",
      "+---------------+-----------+----------------------+-------------+\n",
      "| ESPRESSO21    | 0         | 0 [0]                | 0           |\n",
      "+---------------+-----------+----------------------+-------------+\n",
      "| Total         | 3         | 3 [0]                | 0           |\n",
      "+---------------+-----------+----------------------+-------------+\n",
      "\n"
     ]
    }
   ],
   "source": [
    "load_independent_process = False\n",
    "\n",
    "if load_independent_process: # Option A)\n",
    "    manager = DataClassManager()\n",
    "    manager.start()\n",
    "\n",
    "    data = manager.DataClass(data_in_path,\n",
    "                             instrument=ESPRESSO,\n",
    "                             instrument_options=inst_options,\n",
    "                             storage_path=\"\"\n",
    "                             )\n",
    "else: # Option B)\n",
    "    data = DataClass(data_in_path,\n",
    "                     instrument=instrument,\n",
    "                     instrument_options=inst_options,\n",
    "                     storage_path=\"\"\n",
    "                     )"
   ],
   "metadata": {
    "collapsed": false,
    "pycharm": {
     "name": "#%%\n"
    }
   }
  },
  {
   "cell_type": "markdown",
   "source": [],
   "metadata": {
    "collapsed": false,
    "pycharm": {
     "name": "#%% md\n"
    }
   }
  },
  {
   "cell_type": "markdown",
   "source": [
    "## Removing activity indicators (Optional)\n",
    "\n",
    "- By default, we remove lines that are typically used as activity indicators\n",
    "- This interface can also be used to manuall remove other wavelength regions"
   ],
   "metadata": {
    "collapsed": false,
    "pycharm": {
     "name": "#%% md\n"
    }
   }
  },
  {
   "cell_type": "code",
   "execution_count": 12,
   "outputs": [],
   "source": [
    "from SBART.Quality_Control.activity_indicators import Indicators\n",
    "\n",
    "inds = Indicators()"
   ],
   "metadata": {
    "collapsed": false,
    "pycharm": {
     "name": "#%%\n"
    }
   }
  },
  {
   "cell_type": "markdown",
   "source": [
    "### Removing extra regions\n",
    "\n",
    "- We must define a unique name (i.e. no repetitions, even among the default \"features\"\n",
    "- We must define a region that will be removed from **all** observations that have been loaded from disk\n",
    "- BY default we assume that the region is defined in air. Change to vacuum by passing vacuum_wavelength=True"
   ],
   "metadata": {
    "collapsed": false,
    "pycharm": {
     "name": "#%% md\n"
    }
   }
  },
  {
   "cell_type": "code",
   "execution_count": 13,
   "outputs": [],
   "source": [
    "inds.add_feature(name=\"feature_1\",\n",
    "                 region=[5000, 5500],\n",
    "                 vacuum_wavelengths=True\n",
    "                )"
   ],
   "metadata": {
    "collapsed": false,
    "pycharm": {
     "name": "#%%\n"
    }
   }
  },
  {
   "cell_type": "markdown",
   "source": [
    "### Applying the selected region"
   ],
   "metadata": {
    "collapsed": false,
    "pycharm": {
     "name": "#%% md\n"
    }
   }
  },
  {
   "cell_type": "code",
   "execution_count": 14,
   "outputs": [
    {
     "name": "stdout",
     "output_type": "stream",
     "text": [
      "2021-12-02T22:46:15 - \u001B[36mSBART.data_objects.DataClass\u001B[0m - \u001B[38;2;40;180;99mINFO\u001B[0m -Computing activity windows for each RV measurements\n"
     ]
    }
   ],
   "source": [
    "data.remove_activity_lines(inds)"
   ],
   "metadata": {
    "collapsed": false,
    "pycharm": {
     "name": "#%%\n"
    }
   }
  }
 ],
 "metadata": {
  "kernelspec": {
   "name": "python3812jvsc74a57bd03818f3b572e15e90ac86ebaf263bb0b74827ccea8002cfc33e0a4cd2e7e3cf3f",
   "language": "python",
   "display_name": "Python 3.8.12 64-bit ('seminar-Pt5BMgSq-py3.8': virtualenv)"
  },
  "language_info": {
   "codemirror_mode": {
    "name": "ipython",
    "version": 2
   },
   "file_extension": ".py",
   "mimetype": "text/x-python",
   "name": "python",
   "nbconvert_exporter": "python",
   "pygments_lexer": "ipython2",
   "version": "2.7.6"
  }
 },
 "nbformat": 4,
 "nbformat_minor": 0
}