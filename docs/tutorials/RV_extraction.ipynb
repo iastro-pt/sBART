{
 "cells": [
  {
   "cell_type": "markdown",
   "source": [
    "# Setting up the RV extraction"
   ],
   "metadata": {
    "collapsed": false,
    "pycharm": {
     "name": "#%% md\n"
    }
   }
  },
  {
   "cell_type": "code",
   "execution_count": 9,
   "outputs": [
    {
     "data": {
      "text/plain": "SBART.Samplers.chi_squared.CHI_squared_Sampler"
     },
     "execution_count": 9,
     "metadata": {},
     "output_type": "execute_result"
    }
   ],
   "source": [
    "import SBART.Samplers\n",
    "SBART.Samplers.chi_squared.CHI_squared_Sampler\n"
   ],
   "metadata": {
    "collapsed": false,
    "pycharm": {
     "name": "#%%\n"
    }
   }
  },
  {
   "cell_type": "code",
   "execution_count": 5,
   "outputs": [
    {
     "ename": "TypeError",
     "evalue": "__init__() missing 4 required positional arguments: 'processes', 'sub_processes', 'RV_configs', and 'sampler'",
     "output_type": "error",
     "traceback": [
      "\u001B[0;31m---------------------------------------------------------------------------\u001B[0m",
      "\u001B[0;31mTypeError\u001B[0m                                 Traceback (most recent call last)",
      "Input \u001B[0;32mIn [5]\u001B[0m, in \u001B[0;36m<cell line: 3>\u001B[0;34m()\u001B[0m\n\u001B[1;32m      1\u001B[0m \u001B[38;5;28;01mfrom\u001B[39;00m \u001B[38;5;21;01mSBART\u001B[39;00m\u001B[38;5;21;01m.\u001B[39;00m\u001B[38;5;21;01mrv_calculation\u001B[39;00m \u001B[38;5;28;01mimport\u001B[39;00m RV_Bayesian\n\u001B[0;32m----> 3\u001B[0m \u001B[43mRV_Bayesian\u001B[49m\u001B[38;5;241;43m.\u001B[39;49m\u001B[43mRV_Bayesian\u001B[49m\u001B[43m(\u001B[49m\u001B[43m)\u001B[49m\n",
      "\u001B[0;31mTypeError\u001B[0m: __init__() missing 4 required positional arguments: 'processes', 'sub_processes', 'RV_configs', and 'sampler'"
     ]
    }
   ],
   "source": [
    "from SBART.rv_calculation import RV_Bayesian\n",
    "\n",
    "RV_Bayesian.RV_Bayesian()"
   ],
   "metadata": {
    "collapsed": false,
    "pycharm": {
     "name": "#%%\n"
    }
   }
  },
  {
   "cell_type": "markdown",
   "source": [
    "## Classical template matching"
   ],
   "metadata": {
    "collapsed": false,
    "pycharm": {
     "name": "#%% md\n"
    }
   }
  },
  {
   "cell_type": "code",
   "execution_count": 2,
   "outputs": [],
   "source": [
    "import SBART\n",
    "\n",
    "from SBART.Base_Models import RV_routine\n",
    "\n",
    "from SBART.data_objects import DataClass, DataClassManager\n",
    "from SBART.Instruments import ESPRESSO\n",
    "from SBART.data_objects import  Target\n",
    "from SBART.utils.units import convert_data, kilometer_second\n",
    "from SBART.template_creation.stellar_templates import Stellar_Template\n",
    "\n",
    "from SBART.Samplers import CHI_squared_Sampler, Laplace_approx, MCMC_sampler\n"
   ],
   "metadata": {
    "collapsed": false,
    "pycharm": {
     "name": "#%%\n"
    }
   }
  },
  {
   "cell_type": "markdown",
   "source": [
    "## s-BART model\n",
    "\n",
    "\n",
    "The sBART model has two different samplers:\n",
    "\n",
    "- :py:class:`~SBART.Samplers.chi_squared.CHI_squared_Sampler` - Implements the"
   ],
   "metadata": {
    "collapsed": false,
    "pycharm": {
     "name": "#%% md\n"
    }
   }
  },
  {
   "cell_type": "code",
   "execution_count": 1,
   "outputs": [],
   "source": [
    "# from SBART.Samplers import LaPlace"
   ],
   "metadata": {
    "collapsed": false,
    "pycharm": {
     "name": "#%%\n"
    }
   }
  },
  {
   "cell_type": "code",
   "execution_count": null,
   "outputs": [],
   "source": [],
   "metadata": {
    "collapsed": false,
    "pycharm": {
     "name": "#%%\n"
    }
   }
  }
 ],
 "metadata": {
  "kernelspec": {
   "display_name": "Python 3",
   "language": "python",
   "name": "python3"
  },
  "language_info": {
   "codemirror_mode": {
    "name": "ipython",
    "version": 2
   },
   "file_extension": ".py",
   "mimetype": "text/x-python",
   "name": "python",
   "nbconvert_exporter": "python",
   "pygments_lexer": "ipython2",
   "version": "2.7.6"
  }
 },
 "nbformat": 4,
 "nbformat_minor": 0
}