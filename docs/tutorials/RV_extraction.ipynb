{
 "cells": [
  {
   "cell_type": "markdown",
   "metadata": {
    "collapsed": false,
    "pycharm": {
     "name": "#%% md\n"
    }
   },
   "source": [
    "# Setting up the RV extraction"
   ]
  },
  {
   "cell_type": "code",
   "execution_count": 9,
   "metadata": {
    "collapsed": false,
    "pycharm": {
     "name": "#%%\n"
    }
   },
   "outputs": [
    {
     "data": {
      "text/plain": "SBART.Samplers.chi_squared.CHI_squared_Sampler"
     },
     "execution_count": 9,
     "metadata": {},
     "output_type": "execute_result"
    }
   ],
   "source": [
    "import SBART.Samplers\n",
    "\n",
    "SBART.Samplers.chi_squared.CHI_squared_Sampler"
   ]
  },
  {
   "cell_type": "code",
   "execution_count": 5,
   "metadata": {
    "collapsed": false,
    "pycharm": {
     "name": "#%%\n"
    }
   },
   "outputs": [
    {
     "ename": "TypeError",
     "evalue": "__init__() missing 4 required positional arguments: 'processes', 'sub_processes', 'RV_configs', and 'sampler'",
     "output_type": "error",
     "traceback": [
      "\u001b[0;31m---------------------------------------------------------------------------\u001b[0m",
      "\u001b[0;31mTypeError\u001b[0m                                 Traceback (most recent call last)",
      "Input \u001b[0;32mIn [5]\u001b[0m, in \u001b[0;36m<cell line: 3>\u001b[0;34m()\u001b[0m\n\u001b[1;32m      1\u001b[0m \u001b[38;5;28;01mfrom\u001b[39;00m \u001b[38;5;21;01mSBART\u001b[39;00m\u001b[38;5;21;01m.\u001b[39;00m\u001b[38;5;21;01mrv_calculation\u001b[39;00m \u001b[38;5;28;01mimport\u001b[39;00m RV_Bayesian\n\u001b[0;32m----> 3\u001b[0m \u001b[43mRV_Bayesian\u001b[49m\u001b[38;5;241;43m.\u001b[39;49m\u001b[43mRV_Bayesian\u001b[49m\u001b[43m(\u001b[49m\u001b[43m)\u001b[49m\n",
      "\u001b[0;31mTypeError\u001b[0m: __init__() missing 4 required positional arguments: 'processes', 'sub_processes', 'RV_configs', and 'sampler'"
     ]
    }
   ],
   "source": [
    "from SBART.rv_calculation import RV_Bayesian\n",
    "\n",
    "RV_Bayesian.RV_Bayesian()"
   ]
  },
  {
   "cell_type": "markdown",
   "metadata": {
    "collapsed": false,
    "pycharm": {
     "name": "#%% md\n"
    }
   },
   "source": [
    "## Classical template matching"
   ]
  },
  {
   "cell_type": "code",
   "execution_count": 2,
   "metadata": {
    "collapsed": false,
    "pycharm": {
     "name": "#%%\n"
    }
   },
   "outputs": [],
   "source": [
    "import SBART\n",
    "\n",
    "from SBART.Base_Models import RV_routine\n",
    "\n",
    "from SBART.data_objects import DataClass, DataClassManager\n",
    "from SBART.Instruments import ESPRESSO\n",
    "from SBART.data_objects import Target\n",
    "from SBART.utils.units import convert_data, kilometer_second\n",
    "from SBART.template_creation.stellar_templates import Stellar_Template\n",
    "\n",
    "from SBART.Samplers import CHI_squared_Sampler, Laplace_approx, MCMC_sampler"
   ]
  },
  {
   "cell_type": "markdown",
   "metadata": {
    "collapsed": false,
    "pycharm": {
     "name": "#%% md\n"
    }
   },
   "source": [
    "## s-BART model\n",
    "\n",
    "\n",
    "The sBART model has two different samplers:\n",
    "\n",
    "- :py:class:`~SBART.Samplers.chi_squared.CHI_squared_Sampler` - Implements the"
   ]
  },
  {
   "cell_type": "code",
   "execution_count": 1,
   "metadata": {
    "collapsed": false,
    "pycharm": {
     "name": "#%%\n"
    }
   },
   "outputs": [],
   "source": [
    "# from SBART.Samplers import LaPlace"
   ]
  },
  {
   "cell_type": "code",
   "execution_count": null,
   "metadata": {
    "collapsed": false,
    "pycharm": {
     "name": "#%%\n"
    }
   },
   "outputs": [],
   "source": []
  }
 ],
 "metadata": {
  "kernelspec": {
   "display_name": "Python 3",
   "language": "python",
   "name": "python3"
  },
  "language_info": {
   "codemirror_mode": {
    "name": "ipython",
    "version": 2
   },
   "file_extension": ".py",
   "mimetype": "text/x-python",
   "name": "python",
   "nbconvert_exporter": "python",
   "pygments_lexer": "ipython2",
   "version": "2.7.6"
  }
 },
 "nbformat": 4,
 "nbformat_minor": 0
}