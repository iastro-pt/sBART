{
 "cells": [
  {
   "cell_type": "markdown",
   "source": [
    "# Goals of this notebook\n",
    "\n",
    "- Closer look into the \"Frame\" interface\n",
    "- User-facing data access tools"
   ],
   "metadata": {
    "collapsed": false,
    "pycharm": {
     "name": "#%% md\n"
    }
   }
  },
  {
   "cell_type": "markdown",
   "source": [
    "## Data access from the DataClass interface"
   ],
   "metadata": {
    "collapsed": false,
    "pycharm": {
     "name": "#%% md\n"
    }
   }
  },
  {
   "cell_type": "code",
   "execution_count": 1,
   "outputs": [
    {
     "name": "stderr",
     "output_type": "stream",
     "text": [
      "/home/amiguel/.virtualenvs/sbart-xwoIdkmx-py3.8/lib/python3.8/site-packages/pysynphot/locations.py:46: UserWarning: PYSYN_CDBS is undefined; functionality will be SEVERELY crippled.\n",
      "  warnings.warn(\"PYSYN_CDBS is undefined; functionality will be SEVERELY \"\n",
      "/home/amiguel/.virtualenvs/sbart-xwoIdkmx-py3.8/lib/python3.8/site-packages/pysynphot/locations.py:345: UserWarning: Extinction files not found in extinction\n",
      "  warnings.warn('Extinction files not found in %s' % (extdir, ))\n"
     ]
    },
    {
     "name": "stdout",
     "output_type": "stream",
     "text": [
      "2022-07-04T19:24:11 - \u001B[36mSBART.outside_tools.create_logger\u001B[0m - \u001B[38;2;241;196;15mWARNING\u001B[0m - Not storing logs to disk\n",
      "2022-07-04T19:24:11 - \u001B[36mSBART.utils.UserConfigs\u001B[0m - \u001B[38;2;208;211;212mDEBUG\u001B[0m - Generating internal configs of  - \n",
      "2022-07-04T19:24:11 - \u001B[36mSBART.utils.UserConfigs\u001B[0m - \u001B[38;2;40;180;99mINFO\u001B[0m - Checking for any parameter that will take default value\n",
      "2022-07-04T19:24:11 - \u001B[36mSBART.data_objects.DataClass\u001B[0m - \u001B[38;2;40;180;99mINFO\u001B[0m - DataClass opening 2 files from a list/tuple\n",
      "2022-07-04T19:24:11 - \u001B[36mSBART.utils.UserConfigs\u001B[0m - \u001B[38;2;208;211;212mDEBUG\u001B[0m - Generating internal configs of Frame - ESPRESSO\n",
      "2022-07-04T19:24:11 - \u001B[36mSBART.utils.UserConfigs\u001B[0m - \u001B[38;2;208;211;212mDEBUG\u001B[0m - Configuration <minimum_order_SNR> taking the value: 10\n",
      "2022-07-04T19:24:11 - \u001B[36mSBART.utils.UserConfigs\u001B[0m - \u001B[38;2;208;211;212mDEBUG\u001B[0m - Configuration <spectra_format> taking the value: S2D\n",
      "2022-07-04T19:24:11 - \u001B[36mSBART.utils.UserConfigs\u001B[0m - \u001B[38;2;40;180;99mINFO\u001B[0m - Checking for any parameter that will take default value\n",
      "2022-07-04T19:24:11 - \u001B[36mSBART.utils.UserConfigs\u001B[0m - \u001B[38;2;208;211;212mDEBUG\u001B[0m - Configuration <bypass_QualCheck> using the default value: False\n",
      "2022-07-04T19:24:11 - \u001B[36mSBART.utils.UserConfigs\u001B[0m - \u001B[38;2;208;211;212mDEBUG\u001B[0m - Configuration <reject_order_percentage> using the default value: 0.25\n",
      "2022-07-04T19:24:11 - \u001B[36mSBART.utils.UserConfigs\u001B[0m - \u001B[38;2;208;211;212mDEBUG\u001B[0m - Configuration <apply_FluxCorr> using the default value: False\n",
      "2022-07-04T19:24:11 - \u001B[36mSBART.utils.UserConfigs\u001B[0m - \u001B[38;2;208;211;212mDEBUG\u001B[0m - Configuration <Telluric_Corrected> using the default value: False\n",
      "2022-07-04T19:24:11 - \u001B[36mSBART.utils.UserConfigs\u001B[0m - \u001B[38;2;208;211;212mDEBUG\u001B[0m - Configuration <INTERPOL_MODE> using the default value: splines\n",
      "2022-07-04T19:24:11 - \u001B[36mSBART.Base_Models.Frame\u001B[0m - \u001B[38;2;40;180;99mINFO\u001B[0m - Creating frame from: /home/amiguel/phd/tools/sBART_private/tests/resources/r.ESPRE.2019-09-25T23:19:55.406_S2D_A.fits\n",
      "2022-07-04T19:24:11 - \u001B[36mSBART.Base_Models.Frame\u001B[0m - \u001B[38;2;208;211;212mDEBUG\u001B[0m - Validating header KeyWords\n",
      "2022-07-04T19:24:11 - \u001B[36mSBART.Base_Models.Frame\u001B[0m - \u001B[38;2;208;211;212mDEBUG\u001B[0m - Frame determined to be from ESPRESSO19\n",
      "2022-07-04T19:24:11 - \u001B[36mSBART.Base_Models.Frame\u001B[0m - \u001B[38;2;40;180;99mINFO\u001B[0m - Creating frame from: /home/amiguel/phd/tools/sBART_private/tests/resources/r.ESPRE.2019-09-26T23:17:01.034_S2D_A.fits\n",
      "2022-07-04T19:24:11 - \u001B[36mSBART.Base_Models.Frame\u001B[0m - \u001B[38;2;208;211;212mDEBUG\u001B[0m - Validating header KeyWords\n",
      "2022-07-04T19:24:11 - \u001B[36mSBART.Base_Models.Frame\u001B[0m - \u001B[38;2;208;211;212mDEBUG\u001B[0m - Frame determined to be from ESPRESSO19\n",
      "2022-07-04T19:24:11 - \u001B[36mSBART.data_objects.DataClass\u001B[0m - \u001B[38;2;208;211;212mDEBUG\u001B[0m - Selected 2 observations from disk\n",
      "2022-07-04T19:24:11 - \u001B[36mSBART.data_objects.DataClass\u001B[0m - \u001B[38;2;40;180;99mINFO\u001B[0m - Collecting MetaData from the observations\n",
      "2022-07-04T19:24:11 - \u001B[36mSBART.data_objects.Target\u001B[0m - \u001B[38;2;208;211;212mDEBUG\u001B[0m - Parsing through loaded OBJECTs\n",
      "2022-07-04T19:24:11 - \u001B[36mSBART.data_objects.Target\u001B[0m - \u001B[38;2;40;180;99mINFO\u001B[0m - Validated target to be V V645 Cen\n",
      "2022-07-04T19:24:11 - \u001B[36mSBART.data_objects.DataClass\u001B[0m - \u001B[38;2;40;180;99mINFO\u001B[0m - Loaded data from KW : DRS-VERSION\n",
      "2022-07-04T19:24:11 - \u001B[36mSBART.data_objects.DataClass\u001B[0m - \u001B[38;2;40;180;99mINFO\u001B[0m - Loaded data from KW : SPEC_TYPE\n",
      "2022-07-04T19:24:11 - \u001B[36mSBART.data_objects.DataClass\u001B[0m - \u001B[38;2;40;180;99mINFO\u001B[0m - \n",
      "+---------------+-----------+----------------------+-------------+\n",
      "| subInstrument | Total OBS | Valid OBS [warnings] | INVALID OBS |\n",
      "+---------------+-----------+----------------------+-------------+\n",
      "| ESPRESSO18    | 0         | 0 [0]                | 0           |\n",
      "+---------------+-----------+----------------------+-------------+\n",
      "| ESPRESSO19    | 2         | 2 [0]                | 0           |\n",
      "+---------------+-----------+----------------------+-------------+\n",
      "| ESPRESSO21    | 0         | 0 [0]                | 0           |\n",
      "+---------------+-----------+----------------------+-------------+\n",
      "| Total         | 2         | 2 [0]                | 0           |\n",
      "+---------------+-----------+----------------------+-------------+\n",
      "\n",
      "2022-07-04T19:24:11 - \u001B[36mSBART.data_objects.DataClass\u001B[0m - \u001B[38;2;40;180;99mINFO\u001B[0m - Checking if the instrument has extra data to load\n",
      "2022-07-04T19:24:11 - \u001B[36mSBART.data_objects.DataClass\u001B[0m - \u001B[38;2;40;180;99mINFO\u001B[0m - Current instrument does not need to load anything from the outside\n"
     ]
    }
   ],
   "source": [
    "from pathlib import Path\n",
    "# Loading data from a list of paths\n",
    "\n",
    "from SBART.data_objects import DataClassManager, DataClass\n",
    "from SBART.Instruments import ESPRESSO\n",
    "from SBART.outside_tools.create_logger import setup_SBART_logger\n",
    "\n",
    "data_in_path = list(Path(\"/home/amiguel/phd/tools/sBART_private/tests/resources\").iterdir())\n",
    "\n",
    "instrument = ESPRESSO\n",
    "inst_options = {\"minimum_order_SNR\" : 10,   # Minimum SNR to avoid discarding the spectral order (this is not used for S1D files)\n",
    "                \"spectra_format\" : \"S2D\"  # S1D if we want to use those files; For the S2D mode we can use either S2D_A or S2D_BLAZE_A files\n",
    "                }\n",
    "\n",
    "log_storage_path = \"\"  # Root folder for the logger (path to that folder)\n",
    "rv_method = \"\"         # Name of a folder created inside the root, e.g. log_storage_path/rv_method\n",
    "write_to_file = False # if False, only prints to the terminal\n",
    "setup_SBART_logger(log_storage_path, rv_method, instrument=instrument, write_to_file=False)\n",
    "data = DataClass(data_in_path,\n",
    "                 instrument=instrument,\n",
    "                 instrument_options=inst_options,\n",
    "                 storage_path=\"\"\n",
    "                 )\n"
   ],
   "metadata": {
    "collapsed": false,
    "pycharm": {
     "name": "#%%\n"
    }
   }
  },
  {
   "cell_type": "markdown",
   "source": [
    "## Handling the individual observations:\n",
    "\n",
    "Each loaded observation (inside the DataClass) will have the following properties:\n",
    "\n",
    "    - valid: True or False - can be triggered during data loading if QC flags are 'bad' or manually by the user\n",
    "    - frameID: unique integer that is attributed to each observation (follows the order presented in the data_in_path file)\n",
    "\n",
    "Independently of the chosen Instrument, there is a 'standard' name for quantities that are loaded from the header of the .fits file.\n",
    "The full list of available header values is:\n",
    "['BERV',\n",
    " 'previousRV',\n",
    " 'previousRV_ERR',\n",
    " 'drift',\n",
    " 'drift_ERR',\n",
    " 'MAX_BERV',\n",
    " 'relative_humidity',\n",
    " 'ambient_temperature',\n",
    " 'airmass',\n",
    " 'orderwise_SNRs',\n",
    " 'OBJECT',\n",
    " 'BJD',\n",
    " 'MJD',\n",
    " 'DRS-VERSION',\n",
    " 'MD5-CHECK',\n",
    " 'ISO-DATE',\n",
    " 'CONTRAST',\n",
    " 'FWHM',\n",
    " 'BIS SPAN',\n",
    " 'RA',\n",
    " 'DEC',\n",
    " 'SPEC_TYPE']\n",
    "\n",
    "Each KeyWord will have default value of NaN if a given instrument does not support it.\n",
    "Some KeyWords are represented as SBART.utils.units values (i.e. meter_second or kilometer_second). Such keywords are:\n",
    "\n",
    "['BERV',\n",
    " 'previousRV',\n",
    " 'previousRV_ERR',\n",
    " 'drift',\n",
    " 'drift_ERR',\n",
    " 'MAX_BERV',\n",
    "]\n",
    "**Note**: Check the Frame.py file for a more up-to-date list\n",
    "\n",
    "To access the individual observations we can either:\n",
    "a) manually call for each frameID\n",
    "b) Iterate over pre-built lists of frameIDs"
   ],
   "metadata": {
    "collapsed": false,
    "pycharm": {
     "name": "#%% md\n"
    }
   }
  },
  {
   "cell_type": "code",
   "execution_count": 5,
   "outputs": [
    {
     "name": "stdout",
     "output_type": "stream",
     "text": [
      "ESPRESSO18 :: ID = 0\n",
      "ESPRESSO18 :: ID = 1\n",
      "ESPRESSO18 :: ID = 2\n"
     ]
    }
   ],
   "source": [
    "# Get the OBS with an ID of zero\n",
    "frame = data.get_frame_by_ID(frameID=0)\n",
    "\n",
    "# To iterate over all frameIDs of all subInstruments\n",
    "for subInstrument in data.get_subInstruments_with_valid_frames():\n",
    "    # By default we are only interested in using the observations that are marked as \"valid\".\n",
    "    # If we do want all of them, we can pass include_invalid = True\n",
    "    for frameID in data.get_frameIDs_from_subInst(subInstrument, include_invalid=False):\n",
    "        frame = data.get_frame_by_ID(frameID)\n",
    "        print(\"{} :: ID = {}\".format(subInstrument, frameID))"
   ],
   "metadata": {
    "collapsed": false,
    "pycharm": {
     "name": "#%%\n"
    }
   }
  },
  {
   "cell_type": "markdown",
   "source": [
    "## Access the keywords:"
   ],
   "metadata": {
    "collapsed": false,
    "pycharm": {
     "name": "#%% md\n"
    }
   }
  },
  {
   "cell_type": "code",
   "execution_count": 8,
   "outputs": [
    {
     "name": "stdout",
     "output_type": "stream",
     "text": [
      "[1.32, 1.944, 1.321]\n",
      "1.32\n"
     ]
    }
   ],
   "source": [
    "# From all frames of a given subInstrument:\n",
    "\n",
    "all_measurements = data.collect_KW_observations(KW = \"airmass\",\n",
    "                                                subInstruments=[\"ESPRESSO18\"], # add other subInstruments to the list to also collect the keyword from them\n",
    "                                                include_invalid=False\n",
    "                                            )\n",
    "print(all_measurements)\n",
    "\n",
    "# from a given frame\n",
    "\n",
    "single_measure = data.get_KW_from_frameID(KW = \"airmass\", frameID=0)\n",
    "print(single_measure)"
   ],
   "metadata": {
    "collapsed": false,
    "pycharm": {
     "name": "#%%\n"
    }
   }
  },
  {
   "cell_type": "markdown",
   "source": [
    "## Dealing with the SBART.utils.units"
   ],
   "metadata": {
    "collapsed": false,
    "pycharm": {
     "name": "#%% md\n"
    }
   }
  },
  {
   "cell_type": "code",
   "execution_count": 16,
   "outputs": [
    {
     "name": "stdout",
     "output_type": "stream",
     "text": [
      "BERV_values: [<Quantity 21.25864312 km / s>, <Quantity 21.56800565 km / s>, <Quantity 21.45014697 km / s>]\n",
      "Converted BERV: [21.2586431189802, 21.5680056474341, 21.4501469690604]\n",
      "Converted BERV: [21258.6431189802, 21568.0056474341, 21450.1469690604]\n"
     ]
    }
   ],
   "source": [
    "from SBART.utils.units import meter_second, kilometer_second, convert_data\n",
    "BERV_values = all_measurements = data.collect_KW_observations(KW='BERV',\n",
    "                                                              subInstruments=[\"ESPRESSO18\"]\n",
    "                                                            )\n",
    "print(\"BERV_values: {}\".format(BERV_values))\n",
    "print(\"Converted BERV: {}\".format(convert_data(BERV_values, new_units=kilometer_second, as_value=True)))\n",
    "print(\"Converted BERV: {}\".format(convert_data(BERV_values, new_units=meter_second, as_value=True)))"
   ],
   "metadata": {
    "collapsed": false,
    "pycharm": {
     "name": "#%%\n"
    }
   }
  },
  {
   "cell_type": "markdown",
   "source": [
    "## Properties from the frames:"
   ],
   "metadata": {
    "collapsed": false,
    "pycharm": {
     "name": "#%% md\n"
    }
   }
  },
  {
   "cell_type": "code",
   "execution_count": 9,
   "outputs": [
    {
     "name": "stdout",
     "output_type": "stream",
     "text": [
      "Filename is: r.ESPRE.2019-02-10T08:25:37.895_S2D_BLAZE_A.fits\n",
      "File path is: /home/amiguel/seminar/test_new_version/dataset/r.ESPRE.2019-02-10T08:25:37.895_S2D_BLAZE_A.fits\n"
     ]
    }
   ],
   "source": [
    "filename = data.get_filename_from_frameID(frameID=0, full_path=False)\n",
    "file_path = data.get_filename_from_frameID(frameID=0, full_path=True)\n",
    "\n",
    "print(\"Filename is: {}\".format(filename))\n",
    "print(\"File path is: {}\".format(file_path))"
   ],
   "metadata": {
    "collapsed": false,
    "pycharm": {
     "name": "#%%\n"
    }
   }
  },
  {
   "cell_type": "markdown",
   "source": [
    "## Access the spectral data from the frames:\n",
    "\n",
    "- Option A) Using the DataClass interface\n",
    "- Option B) Directly using the frame\n",
    "\n",
    "\n",
    "The data is always returned in the following format:\n",
    "- Wavelengths\n",
    "- Fluxes\n",
    "- Uncertainties\n",
    "- Binary mask (1 in places of \"bad\" pixels)\n",
    "\n",
    "**Note**: this bad pixel mask will contain the rejected regions from the Telluric Template and the Activity Indicators (if they are passed to the dataClass -  check data_interface notebook to see how)\n",
    "\n",
    "The spectral orders can also be flagged as \"invalid\", due to:\n",
    "    - Low SNR\n",
    "    - Large percentage of the order being flagged (by default, > 75%)\n",
    "\n",
    "If we request data from one of the \"invalid\" orders, it will raise an error, unless the \"include_invalid=True\") is passed as argument\n"
   ],
   "metadata": {
    "collapsed": false,
    "pycharm": {
     "name": "#%% md\n"
    }
   }
  },
  {
   "cell_type": "code",
   "execution_count": 13,
   "outputs": [
    {
     "name": "stdout",
     "output_type": "stream",
     "text": [
      "2021-12-03T14:21:24 - \u001B[36mSBART.Base_Models.Frame\u001B[0m - \u001B[38;2;40;180;99mINFO\u001B[0m -Serving data from: r.ESPRE.2019-02-10T08:25:37.895_S2D_BLAZE_A.fits\n"
     ]
    },
    {
     "data": {
      "text/plain": "<Figure size 432x288 with 1 Axes>",
      "image/png": "[encoded data removed]"
     },
     "metadata": {
      "needs_background": "light"
     },
     "output_type": "display_data"
    }
   ],
   "source": [
    "# Option A:\n",
    "\n",
    "# Get the data from all spectral orders:\n",
    "wavelength, fluxes, uncertainties, bad_pixel_location = data.get_frame_arrays_by_ID(frameID=0)\n",
    "\n",
    "for order in range(data.get_instrument_information()[\"array_size\"][0]):\n",
    "    # Inverting the bad pixel mask, to have the \"valid locations\"\n",
    "    valid_pixel_order = ~bad_pixel_location[order]\n",
    "\n",
    "    clean_wave = wavelength[order][valid_pixel_order]\n",
    "    clean_flux = fluxes[order][valid_pixel_order]\n",
    "    clean_uncertainties = fluxes[order][valid_pixel_order]\n",
    "\n",
    "order_wavelength, order_fluxes, order_uncertainties, bad_pixel_location = data.get_frame_OBS_order(frameID=0, order = 100,  include_invalid=False)\n",
    "\n",
    "import matplotlib.pyplot as plt\n",
    "plt.plot(order_wavelength[~bad_pixel_location], order_fluxes[~bad_pixel_location])\n",
    "plt.xlabel(r\"$\\lambda [\\AA]$\")\n",
    "plt.ylabel(\"Flux\")\n",
    "plt.show()"
   ],
   "metadata": {
    "collapsed": false,
    "pycharm": {
     "name": "#%%\n"
    }
   }
  },
  {
   "cell_type": "code",
   "execution_count": 19,
   "outputs": [
    {
     "name": "stdout",
     "output_type": "stream",
     "text": [
      "2021-12-03T15:12:03 - \u001B[36mSBART.Base_Models.Frame\u001B[0m - \u001B[38;2;40;180;99mINFO\u001B[0m -Creating frame from: /home/amiguel/seminar/test_new_version/dataset/r.ESPRE.2019-02-10T08:25:37.895_S2D_BLAZE_A.fits\n",
      "2021-12-03T15:12:03 - \u001B[36mSBART.Base_Models.Frame\u001B[0m - \u001B[38;2;208;211;212mDEBUG\u001B[0m -Validating header KeyWords\n",
      "2021-12-03T15:12:03 - \u001B[36mSBART.Instruments.ESPRESSO\u001B[0m - \u001B[38;2;40;180;99mINFO\u001B[0m -Found 0 warning flags in the header KWs\n",
      "2021-12-03T15:12:03 - \u001B[36mSBART.Base_Models.Frame\u001B[0m - \u001B[38;2;40;180;99mINFO\u001B[0m -Frame determined to be from ESPRESSO18\n",
      "2021-12-03T15:12:03 - \u001B[36mSBART.Base_Models.Frame\u001B[0m - \u001B[38;2;40;180;99mINFO\u001B[0m -Serving data from: r.ESPRE.2019-02-10T08:25:37.895_S2D_BLAZE_A.fits\n",
      "2021-12-03T15:12:03 - \u001B[36mSBART.Base_Models.Frame\u001B[0m - \u001B[38;2;208;211;212mDEBUG\u001B[0m -Opening the S2D arrays from r.ESPRE.2019-02-10T08:25:37.895_S2D_BLAZE_A.fits\n",
      "2021-12-03T15:12:03 - \u001B[36mSBART.Instruments.ESPRESSO\u001B[0m - \u001B[38;2;241;196;15mWARNING\u001B[0m -Not applying correction to blue-red flux balance!\n",
      "2021-12-03T15:12:03 - \u001B[36mSBART.Base_Models.Frame\u001B[0m - \u001B[38;2;208;211;212mDEBUG\u001B[0m -Creating spectral mask\n",
      "2021-12-03T15:12:03 - \u001B[36mSBART.Base_Models.Frame\u001B[0m - \u001B[38;2;40;180;99mINFO\u001B[0m -Frame rejected 0 orders due to they only having less than 0.25 valid pixels: set()\n",
      "2021-12-03T15:12:03 - \u001B[36mSBART.Base_Models.Frame\u001B[0m - \u001B[38;2;40;180;99mINFO\u001B[0m -Frame rejected 43 orders due to they having SNR smaller than 10: [0, 1, 2, 3, 4, 5, 6, 7, 8, 9, 10, 11, 12, 13, 14, 15, 16, 17, 18, 19, 20, 21, 22, 23, 24, 25, 26, 27, 28, 29, 30, 31, 32, 33, 34, 35, 36, 37, 38, 39, 40, 41, 42]\n"
     ]
    }
   ],
   "source": [
    "\n",
    "# Option B) Load a single frame:\n",
    "\n",
    "frame = ESPRESSO(file_path=\"/home/amiguel/seminar/test_new_version/dataset/r.ESPRE.2019-02-10T08:25:37.895_S2D_BLAZE_A.fits\")\n",
    "\n",
    "BERV = frame.get_KW_value(KW = \"BERV\")\n",
    "\n",
    "# all spectral orders\n",
    "wavelength, fluxes, uncertainties, bad_pixel_location = frame.get_OBS_arrays()\n",
    "\n",
    "# Single spectral order\n",
    "wavelength, fluxes, uncertainties, bad_pixel_location = frame.get_OBS_order(order = 100, include_invalid=True)\n"
   ],
   "metadata": {
    "collapsed": false,
    "pycharm": {
     "name": "#%%\n"
    }
   }
  }
 ],
 "metadata": {
  "kernelspec": {
   "display_name": "Python 3",
   "language": "python",
   "name": "python3"
  },
  "language_info": {
   "codemirror_mode": {
    "name": "ipython",
    "version": 2
   },
   "file_extension": ".py",
   "mimetype": "text/x-python",
   "name": "python",
   "nbconvert_exporter": "python",
   "pygments_lexer": "ipython2",
   "version": "2.7.6"
  }
 },
 "nbformat": 4,
 "nbformat_minor": 0
}