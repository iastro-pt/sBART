{
 "cells": [
  {
   "cell_type": "markdown",
   "source": [
    "# Quick start look into sBART\n",
    "\n",
    "The sBART pipeline provides the user with all the necessary pieces to construct a template matching algorithm, by selecting\n",
    "the Stellar and Telluric templates, the underlying RV model and the method with which new, tentative RVs, are given to the model.\n",
    "\n",
    "In this Section we showcase a small example of building a RV model from the different parts of SBART.\n",
    "\n",
    "**Note:** it is highly advised to not run SBART inside jupyter notebooks, as one might run into issues due to  terminal logging.\n",
    "\n",
    "## Specifying the input and output paths\n",
    "\n",
    "**Note**: the disk files are not present in the GB repository due to space limitations"
   ],
   "metadata": {
    "collapsed": false,
    "pycharm": {
     "name": "#%% md\n"
    }
   }
  },
  {
   "cell_type": "code",
   "execution_count": 1,
   "outputs": [],
   "source": [
    "from SBART.Instruments import ESPRESSO, HARPS\n",
    "from pathlib import Path\n",
    "\n",
    "\n",
    "# Either define the path to a text file where each line is a complete path to a S2D file\n",
    "input_filepath = \"\"\n",
    "\n",
    "# or give a list of disk files\n",
    "input_filepath = [i.as_posix() for i in Path(\"/home/amiguel/phd/tools/sBART_private/tests/resources\").iterdir()]\n",
    "\n",
    "instrument = ESPRESSO\n",
    "\n",
    "# Folder in which SBART will store its outputs\n",
    "storage_path = Path(\"/home/amiguel/phd/tools/sBART_private/tests/documentation_outputs\")\n"
   ],
   "metadata": {
    "collapsed": false,
    "pycharm": {
     "name": "#%%\n"
    }
   }
  },
  {
   "cell_type": "markdown",
   "source": [
    "## Configure the pipeline"
   ],
   "metadata": {
    "collapsed": false,
    "pycharm": {
     "name": "#%% md\n"
    }
   }
  },
  {
   "cell_type": "code",
   "execution_count": 2,
   "outputs": [],
   "source": [
    "from SBART.utils.units import meter_second\n",
    "rv_method = \"classical\" # Either classical or Laplace\n",
    "\n",
    "# Define the step that will be used for numerical calculations near max/min points\n",
    "RVstep = 0.1 * meter_second\n",
    "\n",
    "# Define the window, around the CCF RV, inside which the models can search for the optimal RV\n",
    "RV_limits = [200*meter_second, 200*meter_second]\n",
    "\n",
    "\n",
    "# List with orders to \"throw\" away\n",
    "orders_to_skip = []\n",
    "\n",
    "# Number of cores to use\n",
    "N_cores = 10\n"
   ],
   "metadata": {
    "collapsed": false,
    "pycharm": {
     "name": "#%%\n"
    }
   }
  },
  {
   "cell_type": "markdown",
   "source": [
    "### Configure the different settings of SBART"
   ],
   "metadata": {
    "collapsed": false,
    "pycharm": {
     "name": "#%% md\n"
    }
   }
  },
  {
   "cell_type": "code",
   "execution_count": 3,
   "outputs": [],
   "source": [
    "# For the S2D loading stage\n",
    "inst_options = {}\n",
    "\n",
    "# For the creation of the Telluric Model (i.e. the \"template generator\")\n",
    "telluric_model_configs = {\"CREATION_MODE\": \"telfit\"\n",
    "                          }\n",
    "\n",
    "# For the creation of the individual Telluric templates\n",
    "telluric_template_genesis_configs = {}\n",
    "\n",
    "\n",
    "# For the creation of the Stellar Model (i.e. the \"template generator\")\n",
    "\n",
    "stellar_model_configs = {}\n",
    "\n",
    "# For the creation of the individual Stellar templates\n",
    "stellar_template_genesis_configs = {\"MINIMUM_NUMBER_OBS\": 2\n",
    "                                    }\n",
    "\n",
    "\n",
    "confsRV = {\"MEMORY_SAVE_MODE\": True}\n",
    "\n",
    "\n"
   ],
   "metadata": {
    "collapsed": false,
    "pycharm": {
     "name": "#%%\n"
    }
   }
  },
  {
   "cell_type": "markdown",
   "source": [
    "## Setting up the library\n",
    "\n",
    "By default, SBART's logger is disabled and it will not:\n",
    "\n",
    "- print information to the terminal\n",
    "- store a log file to disk\n",
    "\n",
    "To do so, we must enable the logging interface:"
   ],
   "metadata": {
    "collapsed": false,
    "pycharm": {
     "name": "#%% md\n"
    }
   }
  },
  {
   "cell_type": "code",
   "execution_count": 4,
   "outputs": [],
   "source": [
    "from SBART.outside_tools.create_logger import setup_SBART_logger\n",
    "\n",
    "setup_SBART_logger(\n",
    "    storage_path=storage_path / \"logs\",\n",
    "    RV_method=rv_method,\n",
    "    instrument=instrument,\n",
    "    log_to_terminal=False,  # Set to True if you want to have logs showing on the terminal,\n",
    "    write_to_file=True\n",
    ")"
   ],
   "metadata": {
    "collapsed": false,
    "pycharm": {
     "name": "#%%\n"
    }
   }
  },
  {
   "cell_type": "markdown",
   "source": [
    "## Loading data\n",
    "\n",
    "We start by \"pointing\" sBART towards a few observations:"
   ],
   "metadata": {
    "collapsed": false,
    "pycharm": {
     "name": "#%% md\n"
    }
   }
  },
  {
   "cell_type": "code",
   "execution_count": 5,
   "outputs": [
    {
     "name": "stderr",
     "output_type": "stream",
     "text": [
      "/home/amiguel/.virtualenvs/sbart-xwoIdkmx-py3.8/lib/python3.8/site-packages/pysynphot/locations.py:46: UserWarning: PYSYN_CDBS is undefined; functionality will be SEVERELY crippled.\n",
      "  warnings.warn(\"PYSYN_CDBS is undefined; functionality will be SEVERELY \"\n",
      "/home/amiguel/.virtualenvs/sbart-xwoIdkmx-py3.8/lib/python3.8/site-packages/pysynphot/locations.py:345: UserWarning: Extinction files not found in extinction\n",
      "  warnings.warn('Extinction files not found in %s' % (extdir, ))\n"
     ]
    }
   ],
   "source": [
    "from SBART.data_objects import DataClassManager\n",
    "\n",
    "manager = DataClassManager()\n",
    "manager.start()\n",
    "\n",
    "\n",
    "data = manager.DataClass(\n",
    "    input_filepath,\n",
    "    instrument=instrument,\n",
    "    instrument_options=inst_options,\n",
    ")"
   ],
   "metadata": {
    "collapsed": false,
    "pycharm": {
     "name": "#%%\n"
    }
   }
  },
  {
   "cell_type": "markdown",
   "source": [
    "## Pre-processing the data\n",
    "\n",
    "Removing activity-sensitive lines"
   ],
   "metadata": {
    "collapsed": false,
    "pycharm": {
     "name": "#%% md\n"
    }
   }
  },
  {
   "cell_type": "markdown",
   "source": [],
   "metadata": {
    "collapsed": false,
    "pycharm": {
     "name": "#%% md\n"
    }
   }
  },
  {
   "cell_type": "code",
   "execution_count": 6,
   "outputs": [],
   "source": [
    "from SBART.Quality_Control.activity_indicators import Indicators\n",
    "\n",
    "inds = Indicators()\n",
    "data.remove_activity_lines(inds)"
   ],
   "metadata": {
    "collapsed": false,
    "pycharm": {
     "name": "#%%\n"
    }
   }
  },
  {
   "cell_type": "markdown",
   "source": [
    "## Creating a telluric model to remove those features"
   ],
   "metadata": {
    "collapsed": false,
    "pycharm": {
     "name": "#%% md\n"
    }
   }
  },
  {
   "cell_type": "code",
   "execution_count": 7,
   "outputs": [],
   "source": [
    "from SBART.template_creation.TelluricModel import TelluricModel\n",
    "\n",
    "ModelTell = TelluricModel(\n",
    "    usage_mode=\"individual\",\n",
    "    user_configs=telluric_model_configs,\n",
    "    root_folder_path=storage_path,\n",
    ")\n",
    "\n",
    "ModelTell.Generate_Model(\n",
    "    dataClass=data,\n",
    "    telluric_configs=telluric_template_genesis_configs,\n",
    "    force_computation=False,\n",
    "    store_templates=True,\n",
    ")\n",
    "data.remove_telluric_features(ModelTell)"
   ],
   "metadata": {
    "collapsed": false,
    "pycharm": {
     "name": "#%%\n"
    }
   }
  },
  {
   "cell_type": "markdown",
   "source": [
    "## Creating the stellar templates\n"
   ],
   "metadata": {
    "collapsed": false,
    "pycharm": {
     "name": "#%% md\n"
    }
   }
  },
  {
   "cell_type": "code",
   "execution_count": 8,
   "outputs": [],
   "source": [
    "from SBART.template_creation.StellarModel import StellarModel\n",
    "\n",
    "ModelStell = StellarModel(user_configs=stellar_model_configs,\n",
    "                          root_folder_path=storage_path\n",
    "                          )"
   ],
   "metadata": {
    "collapsed": false,
    "pycharm": {
     "name": "#%%\n"
    }
   }
  },
  {
   "cell_type": "markdown",
   "source": [
    "\n",
    "When creating the stellar templates we can also reject, temporarily, some observations. They will **not** be used to create\n",
    "the stellar template, but they will still be used during the RV extraction."
   ],
   "metadata": {
    "collapsed": false,
    "pycharm": {
     "name": "#%% md\n"
    }
   }
  },
  {
   "cell_type": "code",
   "execution_count": 9,
   "outputs": [
    {
     "name": "stderr",
     "output_type": "stream",
     "text": [
      "                                     \r"
     ]
    }
   ],
   "source": [
    "from SBART.utils.spectral_conditions import Empty_condition\n",
    "\n",
    "StellarTemplateConditions = Empty_condition()\n",
    "\n",
    "ModelStell.Generate_Model(\n",
    "        data,\n",
    "        stellar_template_genesis_configs,\n",
    "        StellarTemplateConditions,\n",
    "        force_computation=False,\n",
    "    )\n",
    "\n",
    "ModelStell.store_templates_to_disk(storage_path)\n",
    "\n",
    "data.ingest_StellarModel(ModelStell)\n"
   ],
   "metadata": {
    "collapsed": false,
    "pycharm": {
     "name": "#%%\n"
    }
   }
  },
  {
   "cell_type": "markdown",
   "source": [
    "## Extracting Radial Velocities\n",
    "\n",
    "Lastly, we only need to define the RV model that we want to use"
   ],
   "metadata": {
    "collapsed": false,
    "pycharm": {
     "name": "#%% md\n"
    }
   }
  },
  {
   "cell_type": "code",
   "execution_count": 10,
   "outputs": [
    {
     "name": "stderr",
     "output_type": "stream",
     "text": [
      "/home/amiguel/.virtualenvs/sbart-xwoIdkmx-py3.8/lib/python3.8/site-packages/astroquery/simbad/core.py:135: UserWarning: Warning: The script line number 3 raised an error (recorded in the `errors` attribute of the result table): 'simul': No known catalog could be found\n",
      "  warnings.warn(\"Warning: The script line number %i raised \"\n"
     ]
    }
   ],
   "source": [
    "from SBART.rv_calculation.RV_Bayesian.RV_Bayesian import RV_Bayesian\n",
    "from SBART.rv_calculation.rv_stepping.RV_step import RV_step\n",
    "from SBART.Samplers import chi_squared_sampler, Laplace_approx\n",
    "import os\n",
    "\n",
    "\n",
    "if rv_method == \"classical\":\n",
    "    sampler = chi_squared_sampler(RVstep, RV_limits)\n",
    "    rv_model = RV_step(\n",
    "        processes=N_cores,\n",
    "        sub_processes=1,\n",
    "        RV_configs=confsRV,\n",
    "        sampler=sampler,\n",
    "    )\n",
    "\n",
    "    orders = orders_to_skip\n",
    "elif rv_method == \"Laplace\":\n",
    "    sampler = Laplace_approx(RVstep, RV_limits)\n",
    "    rv_model = RV_Bayesian(\n",
    "        processes=N_cores,\n",
    "        sub_processes=1,\n",
    "        RV_configs=confsRV,\n",
    "        sampler=sampler,\n",
    "    )\n",
    "    orders = os.path.join(storage_path, \"Iteration_0/RV_step\")\n",
    "else:\n",
    "    raise Exception\n",
    "\n",
    "# warning is raised as this was ran over simulated data and we used a non-existing target name\n",
    "rv_model.run_routine(data, storage_path, orders)"
   ],
   "metadata": {
    "collapsed": false,
    "pycharm": {
     "name": "#%%\n"
    }
   }
  }
 ],
 "metadata": {
  "kernelspec": {
   "display_name": "Python 3",
   "language": "python",
   "name": "python3"
  },
  "language_info": {
   "codemirror_mode": {
    "name": "ipython",
    "version": 2
   },
   "file_extension": ".py",
   "mimetype": "text/x-python",
   "name": "python",
   "nbconvert_exporter": "python",
   "pygments_lexer": "ipython2",
   "version": "2.7.6"
  }
 },
 "nbformat": 4,
 "nbformat_minor": 0
}