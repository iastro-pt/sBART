{
 "cells": [
  {
   "attachments": {},
   "cell_type": "markdown",
   "metadata": {
    "collapsed": false,
    "pycharm": {
     "name": "#%% md\n"
    }
   },
   "source": [
    "# Quick start look into sBART\n",
    "\n",
    "The sBART pipeline provides the user with all the necessary pieces to construct a template matching algorithm, by selecting\n",
    "the Stellar and Telluric templates, the underlying RV model and the method with which new, tentative RVs, are given to the model.\n",
    "\n",
    "In this Section we showcase a small example of building a RV model from the different parts of SBART. At the root of the repository it is also possible to find a *sbart_example.py* which contains the code from this notebook as a single python script\n",
    "\n",
    "**Note:** it is highly advised to not run SBART inside jupyter notebooks, as one might run into issues due to  terminal logging.\n",
    "\n",
    "## Specifying the input and output paths\n",
    "\n",
    "**Note**: the disk files are not present in the GB repository due to space limitations"
   ]
  },
  {
   "cell_type": "code",
   "execution_count": 3,
   "metadata": {
    "collapsed": false,
    "pycharm": {
     "name": "#%%\n"
    }
   },
   "outputs": [],
   "source": [
    "from SBART.Instruments import ESPRESSO, HARPS\n",
    "from pathlib import Path\n",
    "\n",
    "\n",
    "# Either define the path to a text file where each line is a complete path to a S2D file\n",
    "input_filepath = \"\"\n",
    "\n",
    "# or give a list of disk files\n",
    "input_filepath = [i.as_posix() for i in Path(\"/home/amiguel/phd/tools/sBART_private/tests/resources\").glob(\"*.fits\")]\n",
    "\n",
    "instrument = ESPRESSO\n",
    "\n",
    "# Folder in which SBART will store its outputs\n",
    "storage_path = Path(\"/home/amiguel/phd/tools/sBART_private/tests/documentation_outputs\")"
   ]
  },
  {
   "cell_type": "code",
   "execution_count": 4,
   "metadata": {},
   "outputs": [
    {
     "name": "stdout",
     "output_type": "stream",
     "text": [
      "Configurations:\n",
      "\n",
      "Name:: bypass_QualCheck\n",
      "\tDescription:: None\n",
      "\tMandatory:: False\n",
      "\tDefault value:: False\n",
      "\tConstraints:: Value from dtype <(<class 'bool'>,)>\n",
      " \n",
      "Name:: open_without_BervCorr\n",
      "\tDescription:: Ensure that the Frame is not BERV corrected, independently of correction being applied or not in the official pipeline\n",
      "\tMandatory:: False\n",
      "\tDefault value:: False\n",
      "\tConstraints:: Value from dtype <(<class 'bool'>,)>\n",
      " \n",
      "Name:: apply_FluxCorr\n",
      "\tDescription:: Apply the blue-red flux correction due to the wavelength dependence of the atmospheric extinction. Only available on data from ESO pipeline (ESPRESSO)\n",
      "\tMandatory:: False\n",
      "\tDefault value:: False\n",
      "\tConstraints:: Value from dtype <(<class 'bool'>,)>\n",
      " \n",
      "Name:: use_air_wavelengths\n",
      "\tDescription:: Use air wavelengths, instead of the vacuum ones\n",
      "\tMandatory:: False\n",
      "\tDefault value:: False\n",
      "\tConstraints:: Value from dtype <(<class 'bool'>,)>\n",
      " \n",
      "Name:: apply_FluxBalance_Norm\n",
      "\tDescription:: None\n",
      "\tMandatory:: False\n",
      "\tDefault value:: False\n",
      "\tConstraints:: Value from dtype <(<class 'bool'>,)>\n",
      " \n",
      "Name:: reject_order_percentage\n",
      "\tDescription:: None\n",
      "\tMandatory:: False\n",
      "\tDefault value:: 0.25\n",
      "\tConstraints:: Value inside interval <(0, 1)>; Edges: True\n",
      " \n",
      "Name:: minimum_order_SNR\n",
      "\tDescription:: SNR threshold under which the spectral order is rejected\n",
      "\tMandatory:: False\n",
      "\tDefault value:: 5\n",
      "\tConstraints:: Value inside interval <[0, inf]>; Edges: True\n",
      " \n",
      "Name:: bypass_ST_designation\n",
      "\tDescription:: None\n",
      "\tMandatory:: False\n",
      "\tDefault value:: None\n",
      "\tConstraints:: Value from list <(None, 'S2D', 'S1D')>\n",
      " \n",
      "Name:: Telluric_Corrected\n",
      "\tDescription:: The Frame was already corrected from telluric features\n",
      "\tMandatory:: False\n",
      "\tDefault value:: False\n",
      "\tConstraints:: Value from dtype <(<class 'bool'>,)>\n",
      " \n",
      "Name:: UseMolecfit\n",
      "\tDescription:: None\n",
      "\tMandatory:: False\n",
      "\tDefault value:: False\n",
      "\tConstraints:: Value from dtype <(<class 'bool'>,)>\n",
      " \n",
      "Name:: use_old_pipeline\n",
      "\tDescription:: Use data from the old pipeline. Only available to selected instruments\n",
      "\tMandatory:: False\n",
      "\tDefault value:: False\n",
      "\tConstraints:: Value from dtype <(<class 'bool'>,)>\n",
      " \n",
      "Name:: SCIRED_CHECK_IS_FATAL\n",
      "\tDescription:: Automatically reject frames with QC SCIRED CHECK = 0 \n",
      "\tMandatory:: False\n",
      "\tDefault value:: True\n",
      "\tConstraints:: Value from dtype <(<class 'bool'>,)>\n",
      " \n",
      "\n"
     ]
    }
   ],
   "source": [
    "# To check the available configurations of ESPRESSO data:\n",
    "ESPRESSO.config_help()"
   ]
  },
  {
   "attachments": {},
   "cell_type": "markdown",
   "metadata": {
    "collapsed": false,
    "pycharm": {
     "name": "#%% md\n"
    }
   },
   "source": [
    "## Configure the pipeline"
   ]
  },
  {
   "cell_type": "code",
   "execution_count": 5,
   "metadata": {
    "collapsed": false,
    "pycharm": {
     "name": "#%%\n"
    }
   },
   "outputs": [],
   "source": [
    "from SBART.utils.units import meter_second\n",
    "\n",
    "rv_method = \"classical\"  # Either classical or Laplace\n",
    "\n",
    "# Define the step that will be used for numerical calculations near max/min points\n",
    "RVstep = 0.1 * meter_second\n",
    "\n",
    "# Define the window, around the CCF RV, inside which the models can search for the optimal RV\n",
    "RV_limits = [200 * meter_second, 200 * meter_second]\n",
    "\n",
    "\n",
    "# List with orders to \"throw\" away\n",
    "orders_to_skip = []\n",
    "\n",
    "# Number of cores to use\n",
    "N_cores = 10"
   ]
  },
  {
   "attachments": {},
   "cell_type": "markdown",
   "metadata": {
    "collapsed": false,
    "pycharm": {
     "name": "#%% md\n"
    }
   },
   "source": [
    "### Configure the different settings of SBART"
   ]
  },
  {
   "cell_type": "code",
   "execution_count": 6,
   "metadata": {
    "collapsed": false,
    "pycharm": {
     "name": "#%%\n"
    }
   },
   "outputs": [],
   "source": [
    "# For the S2D loading stage\n",
    "inst_options = {}\n",
    "\n",
    "# For the creation of the Telluric Model (i.e. the \"template generator\")\n",
    "telluric_model_configs = {\"CREATION_MODE\": \"telfit\"}\n",
    "\n",
    "# For the creation of the individual Telluric templates\n",
    "telluric_template_genesis_configs = {}\n",
    "\n",
    "\n",
    "# For the creation of the Stellar Model (i.e. the \"template generator\")\n",
    "\n",
    "stellar_model_configs = {}\n",
    "\n",
    "# For the creation of the individual Stellar templates\n",
    "stellar_template_genesis_configs = {\"MINIMUM_NUMBER_OBS\": 2}\n",
    "\n",
    "\n",
    "confsRV = {\"MEMORY_SAVE_MODE\": True}"
   ]
  },
  {
   "attachments": {},
   "cell_type": "markdown",
   "metadata": {
    "collapsed": false,
    "pycharm": {
     "name": "#%% md\n"
    }
   },
   "source": [
    "## Setting up the library\n",
    "\n",
    "By default, SBART's logger is disabled and it will not:\n",
    "\n",
    "- print information to the terminal\n",
    "- store a log file to disk\n",
    "\n",
    "To do so, we must enable the logging interface:"
   ]
  },
  {
   "cell_type": "code",
   "execution_count": 7,
   "metadata": {
    "collapsed": false,
    "pycharm": {
     "name": "#%%\n"
    }
   },
   "outputs": [],
   "source": [
    "from SBART.outside_tools.create_logger import setup_SBART_logger\n",
    "\n",
    "setup_SBART_logger(\n",
    "    storage_path=storage_path / \"logs\",\n",
    "    RV_method=rv_method,\n",
    "    instrument=instrument,\n",
    "    log_to_terminal=False,  # Set to True if you want to have logs showing on the terminal,\n",
    "    write_to_file=True,\n",
    ")"
   ]
  },
  {
   "attachments": {},
   "cell_type": "markdown",
   "metadata": {
    "collapsed": false,
    "pycharm": {
     "name": "#%% md\n"
    }
   },
   "source": [
    "## Loading data\n",
    "\n",
    "We start by \"pointing\" sBART towards a few observations:"
   ]
  },
  {
   "cell_type": "code",
   "execution_count": 8,
   "metadata": {
    "collapsed": false,
    "pycharm": {
     "name": "#%%\n"
    }
   },
   "outputs": [],
   "source": [
    "from SBART.data_objects import DataClassManager\n",
    "\n",
    "manager = DataClassManager()\n",
    "manager.start()\n",
    "\n",
    "data = manager.DataClass(\n",
    "    input_filepath,\n",
    "    storage_path=storage_path,\n",
    "    instrument=instrument,\n",
    "    instrument_options=inst_options,\n",
    ")"
   ]
  },
  {
   "attachments": {},
   "cell_type": "markdown",
   "metadata": {
    "collapsed": false,
    "pycharm": {
     "name": "#%% md\n"
    }
   },
   "source": [
    "## Pre-processing the data\n",
    "\n",
    "Removing activity-sensitive lines"
   ]
  },
  {
   "attachments": {},
   "cell_type": "markdown",
   "metadata": {
    "collapsed": false,
    "pycharm": {
     "name": "#%% md\n"
    }
   },
   "source": []
  },
  {
   "cell_type": "code",
   "execution_count": 9,
   "metadata": {
    "collapsed": false,
    "pycharm": {
     "name": "#%%\n"
    }
   },
   "outputs": [],
   "source": [
    "from SBART.Quality_Control.activity_indicators import Indicators\n",
    "\n",
    "inds = Indicators()\n",
    "data.remove_activity_lines(inds)"
   ]
  },
  {
   "attachments": {},
   "cell_type": "markdown",
   "metadata": {
    "collapsed": false,
    "pycharm": {
     "name": "#%% md\n"
    }
   },
   "source": [
    "## Creating a telluric model to remove those features"
   ]
  },
  {
   "cell_type": "code",
   "execution_count": 10,
   "metadata": {
    "collapsed": false,
    "pycharm": {
     "name": "#%%\n"
    }
   },
   "outputs": [],
   "source": [
    "from SBART.template_creation.TelluricModel import TelluricModel\n",
    "\n",
    "ModelTell = TelluricModel(\n",
    "    usage_mode=\"individual\",\n",
    "    user_configs=telluric_model_configs,\n",
    "    root_folder_path=storage_path,\n",
    ")\n",
    "\n",
    "ModelTell.Generate_Model(\n",
    "    dataClass=data,\n",
    "    telluric_configs=telluric_template_genesis_configs,\n",
    "    force_computation=False,\n",
    "    store_templates=True,\n",
    ")\n",
    "data.remove_telluric_features(ModelTell)"
   ]
  },
  {
   "attachments": {},
   "cell_type": "markdown",
   "metadata": {
    "collapsed": false,
    "pycharm": {
     "name": "#%% md\n"
    }
   },
   "source": [
    "## Creating the stellar templates\n"
   ]
  },
  {
   "cell_type": "code",
   "execution_count": 11,
   "metadata": {
    "collapsed": false,
    "pycharm": {
     "name": "#%%\n"
    }
   },
   "outputs": [],
   "source": [
    "from SBART.template_creation.StellarModel import StellarModel\n",
    "\n",
    "ModelStell = StellarModel(user_configs=stellar_model_configs, root_folder_path=storage_path)"
   ]
  },
  {
   "attachments": {},
   "cell_type": "markdown",
   "metadata": {
    "collapsed": false,
    "pycharm": {
     "name": "#%% md\n"
    }
   },
   "source": [
    "\n",
    "When creating the stellar templates we can also reject, temporarily, some observations. They will **not** be used to create\n",
    "the stellar template, but they will still be used during the RV extraction."
   ]
  },
  {
   "cell_type": "code",
   "execution_count": 12,
   "metadata": {
    "collapsed": false,
    "pycharm": {
     "name": "#%%\n"
    }
   },
   "outputs": [
    {
     "name": "stderr",
     "output_type": "stream",
     "text": [
      "                                     \r"
     ]
    }
   ],
   "source": [
    "from SBART.utils.spectral_conditions import Empty_condition\n",
    "\n",
    "StellarTemplateConditions = Empty_condition()\n",
    "\n",
    "ModelStell.Generate_Model(\n",
    "    data,\n",
    "    stellar_template_genesis_configs,\n",
    "    StellarTemplateConditions,\n",
    "    force_computation=False,\n",
    ")\n",
    "\n",
    "ModelStell.store_templates_to_disk(storage_path)\n",
    "\n",
    "data.ingest_StellarModel(ModelStell)"
   ]
  },
  {
   "attachments": {},
   "cell_type": "markdown",
   "metadata": {
    "collapsed": false,
    "pycharm": {
     "name": "#%% md\n"
    }
   },
   "source": [
    "## Extracting Radial Velocities\n",
    "\n",
    "Lastly, we only need to define the RV model that we want to use"
   ]
  },
  {
   "cell_type": "code",
   "execution_count": 13,
   "metadata": {
    "collapsed": false,
    "pycharm": {
     "name": "#%%\n"
    }
   },
   "outputs": [
    {
     "name": "stderr",
     "output_type": "stream",
     "text": [
      "/home/amiguel/phd/tools/sBART_private/src/SBART/data_objects/RV_cube.py:792: RuntimeWarning: invalid value encountered in divide\n",
      "  empty_array /= np.max(empty_array, axis=1)[:, None]  # normalize across the orders\n",
      "/home/amiguel/phd/tools/sBART_private/src/SBART/utils/math_tools/weighted_mean.py:13: RuntimeWarning: invalid value encountered in divide\n",
      "  final_RV = np.nansum(np.multiply(weights, orders_RV), axis=1) / sum_weights\n",
      "/home/amiguel/phd/tools/sBART_private/src/SBART/utils/math_tools/weighted_mean.py:17: RuntimeWarning: divide by zero encountered in divide\n",
      "  final_error = np.sqrt(1 / (sum_weights))\n",
      "/home/amiguel/phd/tools/sBART_private/src/SBART/data_objects/RV_cube.py:792: RuntimeWarning: invalid value encountered in divide\n",
      "  empty_array /= np.max(empty_array, axis=1)[:, None]  # normalize across the orders\n",
      "/home/amiguel/phd/tools/sBART_private/.venv/lib/python3.8/site-packages/matplotlib/axes/_axes.py:1148: RuntimeWarning: All-NaN axis encountered\n",
      "  miny = np.nanmin(masked_verts[..., 1])\n",
      "/home/amiguel/phd/tools/sBART_private/.venv/lib/python3.8/site-packages/matplotlib/axes/_axes.py:1149: RuntimeWarning: All-NaN axis encountered\n",
      "  maxy = np.nanmax(masked_verts[..., 1])\n"
     ]
    }
   ],
   "source": [
    "from SBART.rv_calculation.RV_Bayesian.RV_Bayesian import RV_Bayesian\n",
    "from SBART.rv_calculation.rv_stepping.RV_step import RV_step\n",
    "from SBART.Samplers import chi_squared_sampler, Laplace_approx\n",
    "import os\n",
    "\n",
    "\n",
    "if rv_method == \"classical\":\n",
    "    sampler = chi_squared_sampler(RVstep, RV_limits)\n",
    "    rv_model = RV_step(\n",
    "        processes=N_cores,\n",
    "        RV_configs=confsRV,\n",
    "        sampler=sampler,\n",
    "    )\n",
    "\n",
    "    orders = orders_to_skip\n",
    "elif rv_method == \"Laplace\":\n",
    "    sampler = Laplace_approx(RVstep, RV_limits)\n",
    "    rv_model = RV_Bayesian(\n",
    "        processes=N_cores,\n",
    "        RV_configs=confsRV,\n",
    "        sampler=sampler,\n",
    "    )\n",
    "    orders = os.path.join(storage_path, \"Iteration_0/RV_step\")\n",
    "else:\n",
    "    raise Exception\n",
    "\n",
    "# warning is raised as this was ran over simulated data and we used a non-existing target name\n",
    "rv_model.run_routine(data, storage_path, orders)"
   ]
  }
 ],
 "metadata": {
  "kernelspec": {
   "display_name": "Python 3",
   "language": "python",
   "name": "python3"
  },
  "language_info": {
   "codemirror_mode": {
    "name": "ipython",
    "version": 3
   },
   "file_extension": ".py",
   "mimetype": "text/x-python",
   "name": "python",
   "nbconvert_exporter": "python",
   "pygments_lexer": "ipython3",
   "version": "3.8.12"
  }
 },
 "nbformat": 4,
 "nbformat_minor": 0
}
