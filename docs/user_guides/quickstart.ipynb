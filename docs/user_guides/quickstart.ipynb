{
 "cells": [
  {
   "cell_type": "markdown",
   "source": [
    "# Quick start look into sBART\n",
    "\n",
    "The sBART pipeline provides the user with all the necessary pieces to construct a template matching algorithm, by selecting\n",
    "the Stellar and Telluric templates, the underlying RV model and the method with which new, tentative RVs, are given to the model.\n",
    "\n",
    "In this Section we showcase a small example of building a RV model from the different parts of SBART.\n",
    "\n",
    "**Note:** it is highly advised to not run SBART inside jupyter notebooks, as one might run into issues due to  terminal logging.\n",
    "\n",
    "## Specifying the input and output paths\n",
    "\n",
    "**Note**: the disk files are not present in the GB repository due to space limitations"
   ],
   "metadata": {
    "collapsed": false,
    "pycharm": {
     "name": "#%% md\n"
    }
   }
  },
  {
   "cell_type": "code",
   "execution_count": 11,
   "outputs": [],
   "source": [
    "from SBART.Instruments import ESPRESSO, HARPS\n",
    "from pathlib import Path\n",
    "\n",
    "\n",
    "# Either define the path to a text file where each line is a complete path to a S2D file\n",
    "input_filepath = \"\"\n",
    "\n",
    "# or give a list of disk files\n",
    "input_filepath = [i.as_posix() for i in Path(\"/home/amiguel/phd/tools/sBART_private/tests/resources\").iterdir()]\n",
    "\n",
    "instrument = ESPRESSO\n",
    "\n",
    "# Folder in which SBART will store its outputs\n",
    "storage_path = Path(\"/home/amiguel/phd/tools/sBART_private/tests/documentation_outputs\")\n"
   ],
   "metadata": {
    "collapsed": false,
    "pycharm": {
     "name": "#%%\n"
    }
   }
  },
  {
   "cell_type": "markdown",
   "source": [
    "## Configure the pipeline"
   ],
   "metadata": {
    "collapsed": false,
    "pycharm": {
     "name": "#%% md\n"
    }
   }
  },
  {
   "cell_type": "code",
   "execution_count": 5,
   "outputs": [],
   "source": [
    "from SBART.utils.units import meter_second\n",
    "rv_method = \"classical\" # Either classical or Laplace\n",
    "\n",
    "# Define the step that will be used for numerical calculations near max/min points\n",
    "RVstep = 0.1 * meter_second\n",
    "\n",
    "# Define the window, around the CCF RV, inside which the models can search for the optimal RV\n",
    "RV_limits = [200*meter_second, 200*meter_second]\n",
    "\n",
    "\n",
    "# List with orders to \"throw\" away\n",
    "orders_to_skip = []\n",
    "\n",
    "# Number of cores to use\n",
    "N_cores = 10\n"
   ],
   "metadata": {
    "collapsed": false,
    "pycharm": {
     "name": "#%%\n"
    }
   }
  },
  {
   "cell_type": "markdown",
   "source": [
    "### Configure the different settings of SBART"
   ],
   "metadata": {
    "collapsed": false,
    "pycharm": {
     "name": "#%% md\n"
    }
   }
  },
  {
   "cell_type": "code",
   "execution_count": 17,
   "outputs": [],
   "source": [
    "# For the S2D loading stage\n",
    "inst_options = {}\n",
    "\n",
    "# For the creation of the Telluric Model (i.e. the \"template generator\")\n",
    "telluric_model_configs = {\"CREATION_MODE\": \"telfit\"\n",
    "                          }\n",
    "\n",
    "# For the creation of the individual Telluric templates\n",
    "telluric_template_genesis_configs = {}\n",
    "\n",
    "\n",
    "# For the creation of the Stellar Model (i.e. the \"template generator\")\n",
    "\n",
    "stellar_model_configs = {}\n",
    "\n",
    "# For the creation of the individual Stellar templates\n",
    "stellar_template_genesis_configs = {\"MINIMUM_NUMBER_OBS\": 2\n",
    "                                    }\n",
    "\n",
    "\n",
    "confsRV = {\"MEMORY_SAVE_MODE\": True}\n",
    "\n",
    "\n"
   ],
   "metadata": {
    "collapsed": false,
    "pycharm": {
     "name": "#%%\n"
    }
   }
  },
  {
   "cell_type": "markdown",
   "source": [
    "## Setting up the library\n",
    "\n",
    "By default, SBART's logger is disabled and it will not:\n",
    "\n",
    "- print information to the terminal\n",
    "- store a log file to disk\n",
    "\n",
    "To do so, we must enable the logging interface:"
   ],
   "metadata": {
    "collapsed": false,
    "pycharm": {
     "name": "#%% md\n"
    }
   }
  },
  {
   "cell_type": "code",
   "execution_count": 7,
   "outputs": [
    {
     "name": "stdout",
     "output_type": "stream",
     "text": [
      "2022-05-16T15:46:38 - \u001B[36mSBART.outside_tools.create_logger\u001B[0m - \u001B[38;2;40;180;99mINFO\u001B[0m - /home/amiguel/phd/tools/sBART_private/tests/documentation_outputs/logs\n"
     ]
    }
   ],
   "source": [
    "from SBART.outside_tools.create_logger import setup_SBART_logger\n",
    "\n",
    "setup_SBART_logger(\n",
    "    storage_path=storage_path / \"logs\",\n",
    "    RV_method=rv_method,\n",
    "    instrument=instrument,\n",
    "    log_to_terminal=True,\n",
    ")"
   ],
   "metadata": {
    "collapsed": false,
    "pycharm": {
     "name": "#%%\n"
    }
   }
  },
  {
   "cell_type": "markdown",
   "source": [
    "## Loading data\n",
    "\n",
    "We start by \"pointing\" sBART towards a few observations:"
   ],
   "metadata": {
    "collapsed": false,
    "pycharm": {
     "name": "#%% md\n"
    }
   }
  },
  {
   "cell_type": "code",
   "execution_count": 12,
   "outputs": [
    {
     "name": "stdout",
     "output_type": "stream",
     "text": [
      "2022-05-16T15:47:24 - \u001B[36mSBART.utils.UserConfigs\u001B[0m - \u001B[38;2;208;211;212mDEBUG\u001B[0m - Generating internal configs of  - \n",
      "2022-05-16T15:47:24 - \u001B[36mSBART.data_objects.DataClass\u001B[0m - \u001B[38;2;40;180;99mINFO\u001B[0m - DataClass opening 2 files from a list/tuple\n",
      "2022-05-16T15:47:24 - \u001B[36mSBART.utils.UserConfigs\u001B[0m - \u001B[38;2;208;211;212mDEBUG\u001B[0m - Generating internal configs of Frame - ESPRESSO\n",
      "2022-05-16T15:47:24 - \u001B[36mSBART.utils.UserConfigs\u001B[0m - \u001B[38;2;208;211;212mDEBUG\u001B[0m - Configuration <bypass_QualCheck> using the default value: False\n",
      "2022-05-16T15:47:24 - \u001B[36mSBART.utils.UserConfigs\u001B[0m - \u001B[38;2;208;211;212mDEBUG\u001B[0m - Configuration <reject_order_percentage> using the default value: 0.25\n",
      "2022-05-16T15:47:24 - \u001B[36mSBART.utils.UserConfigs\u001B[0m - \u001B[38;2;208;211;212mDEBUG\u001B[0m - Configuration <minimum_order_SNR> using the default value: 20\n",
      "2022-05-16T15:47:24 - \u001B[36mSBART.utils.UserConfigs\u001B[0m - \u001B[38;2;208;211;212mDEBUG\u001B[0m - Configuration <spectra_format> using the default value: S2D\n",
      "2022-05-16T15:47:24 - \u001B[36mSBART.utils.UserConfigs\u001B[0m - \u001B[38;2;208;211;212mDEBUG\u001B[0m - Configuration <apply_FluxCorr> using the default value: False\n",
      "2022-05-16T15:47:24 - \u001B[36mSBART.utils.UserConfigs\u001B[0m - \u001B[38;2;208;211;212mDEBUG\u001B[0m - Configuration <Telluric_Corrected> using the default value: False\n",
      "2022-05-16T15:47:24 - \u001B[36mSBART.Base_Models.Frame\u001B[0m - \u001B[38;2;40;180;99mINFO\u001B[0m - Creating frame from: /home/amiguel/phd/tools/sBART_private/tests/resources/simulation_1.fits\n",
      "2022-05-16T15:47:24 - \u001B[36mSBART.Base_Models.Frame\u001B[0m - \u001B[38;2;208;211;212mDEBUG\u001B[0m - Validating header KeyWords\n",
      "2022-05-16T15:47:24 - \u001B[36mSBART.Instruments.ESPRESSO\u001B[0m - \u001B[38;2;241;196;15mWARNING\u001B[0m - QC flag HIERARCH ESO QC SCIRED FLUX CORR CHECK does not exist\n",
      "2022-05-16T15:47:24 - \u001B[36mSBART.Instruments.ESPRESSO\u001B[0m - \u001B[38;2;241;196;15mWARNING\u001B[0m - QC flag HIERARCH ESO QC SCIRED DRIFT CHECK does not exist\n",
      "2022-05-16T15:47:24 - \u001B[36mSBART.Instruments.ESPRESSO\u001B[0m - \u001B[38;2;241;196;15mWARNING\u001B[0m - QC flag HIERARCH ESO QC SCIRED DRIFT FLUX_RATIO CHECK does not exist\n",
      "2022-05-16T15:47:24 - \u001B[36mSBART.Instruments.ESPRESSO\u001B[0m - \u001B[38;2;241;196;15mWARNING\u001B[0m - QC flag HIERARCH ESO QC SCIRED DRIFT CHI2 CHECK does not exist\n",
      "2022-05-16T15:47:24 - \u001B[36mSBART.Instruments.ESPRESSO\u001B[0m - \u001B[38;2;231;76;60mCRITICAL\u001B[0m - Did not find the entry for the following UT related metric: HIERARCH ESO INS{} ADC{} RA\n"
     ]
    },
    {
     "name": "stderr",
     "output_type": "stream",
     "text": [
      "2022-05-16T15:47:24 - SBART.Instruments.ESPRESSO - CRITICAL - Did not find the entry for the following UT related metric: HIERARCH ESO INS{} ADC{} RA\n"
     ]
    },
    {
     "name": "stdout",
     "output_type": "stream",
     "text": [
      "2022-05-16T15:47:24 - \u001B[36mSBART.Instruments.ESPRESSO\u001B[0m - \u001B[38;2;231;76;60mCRITICAL\u001B[0m - Did not find the entry for the following UT related metric: HIERARCH ESO INS{} ADC{} dec\n"
     ]
    },
    {
     "name": "stderr",
     "output_type": "stream",
     "text": [
      "2022-05-16T15:47:24 - SBART.Instruments.ESPRESSO - CRITICAL - Did not find the entry for the following UT related metric: HIERARCH ESO INS{} ADC{} dec\n"
     ]
    },
    {
     "name": "stdout",
     "output_type": "stream",
     "text": [
      "2022-05-16T15:47:24 - \u001B[36mSBART.Instruments.ESPRESSO\u001B[0m - \u001B[38;2;231;76;60mCRITICAL\u001B[0m - Did not find the entry for the following UT related metric: HIERARCH ESO INS{} ADC{} SENS1\n"
     ]
    },
    {
     "name": "stderr",
     "output_type": "stream",
     "text": [
      "2022-05-16T15:47:24 - SBART.Instruments.ESPRESSO - CRITICAL - Did not find the entry for the following UT related metric: HIERARCH ESO INS{} ADC{} SENS1\n"
     ]
    },
    {
     "name": "stdout",
     "output_type": "stream",
     "text": [
      "2022-05-16T15:47:24 - \u001B[36mSBART.Instruments.ESPRESSO\u001B[0m - \u001B[38;2;231;76;60mCRITICAL\u001B[0m - Did not find the entry for the following UT related metric: HIERARCH ESO INS{} ADC{} TEMP\n"
     ]
    },
    {
     "name": "stderr",
     "output_type": "stream",
     "text": [
      "2022-05-16T15:47:24 - SBART.Instruments.ESPRESSO - CRITICAL - Did not find the entry for the following UT related metric: HIERARCH ESO INS{} ADC{} TEMP\n"
     ]
    },
    {
     "name": "stdout",
     "output_type": "stream",
     "text": [
      "2022-05-16T15:47:24 - \u001B[36mSBART.Instruments.ESPRESSO\u001B[0m - \u001B[38;2;241;196;15mWARNING\u001B[0m - Found 1 warning flags in the header KWs\n",
      "2022-05-16T15:47:24 - \u001B[36mSBART.Base_Models.Frame\u001B[0m - \u001B[38;2;208;211;212mDEBUG\u001B[0m - Frame determined to be from ESPRESSO18\n",
      "2022-05-16T15:47:24 - \u001B[36mSBART.utils.UserConfigs\u001B[0m - \u001B[38;2;208;211;212mDEBUG\u001B[0m - Generating internal configs of Frame - ESPRESSO\n",
      "2022-05-16T15:47:24 - \u001B[36mSBART.utils.UserConfigs\u001B[0m - \u001B[38;2;208;211;212mDEBUG\u001B[0m - Configuration <bypass_QualCheck> using the default value: False\n",
      "2022-05-16T15:47:24 - \u001B[36mSBART.utils.UserConfigs\u001B[0m - \u001B[38;2;208;211;212mDEBUG\u001B[0m - Configuration <reject_order_percentage> using the default value: 0.25\n",
      "2022-05-16T15:47:24 - \u001B[36mSBART.utils.UserConfigs\u001B[0m - \u001B[38;2;208;211;212mDEBUG\u001B[0m - Configuration <minimum_order_SNR> using the default value: 20\n",
      "2022-05-16T15:47:24 - \u001B[36mSBART.utils.UserConfigs\u001B[0m - \u001B[38;2;208;211;212mDEBUG\u001B[0m - Configuration <spectra_format> using the default value: S2D\n",
      "2022-05-16T15:47:24 - \u001B[36mSBART.utils.UserConfigs\u001B[0m - \u001B[38;2;208;211;212mDEBUG\u001B[0m - Configuration <apply_FluxCorr> using the default value: False\n",
      "2022-05-16T15:47:24 - \u001B[36mSBART.utils.UserConfigs\u001B[0m - \u001B[38;2;208;211;212mDEBUG\u001B[0m - Configuration <Telluric_Corrected> using the default value: False\n",
      "2022-05-16T15:47:24 - \u001B[36mSBART.Base_Models.Frame\u001B[0m - \u001B[38;2;40;180;99mINFO\u001B[0m - Creating frame from: /home/amiguel/phd/tools/sBART_private/tests/resources/simulation_0.fits\n",
      "2022-05-16T15:47:24 - \u001B[36mSBART.Base_Models.Frame\u001B[0m - \u001B[38;2;208;211;212mDEBUG\u001B[0m - Validating header KeyWords\n",
      "2022-05-16T15:47:24 - \u001B[36mSBART.Instruments.ESPRESSO\u001B[0m - \u001B[38;2;241;196;15mWARNING\u001B[0m - QC flag HIERARCH ESO QC SCIRED FLUX CORR CHECK does not exist\n",
      "2022-05-16T15:47:24 - \u001B[36mSBART.Instruments.ESPRESSO\u001B[0m - \u001B[38;2;241;196;15mWARNING\u001B[0m - QC flag HIERARCH ESO QC SCIRED DRIFT CHECK does not exist\n",
      "2022-05-16T15:47:24 - \u001B[36mSBART.Instruments.ESPRESSO\u001B[0m - \u001B[38;2;241;196;15mWARNING\u001B[0m - QC flag HIERARCH ESO QC SCIRED DRIFT FLUX_RATIO CHECK does not exist\n",
      "2022-05-16T15:47:24 - \u001B[36mSBART.Instruments.ESPRESSO\u001B[0m - \u001B[38;2;241;196;15mWARNING\u001B[0m - QC flag HIERARCH ESO QC SCIRED DRIFT CHI2 CHECK does not exist\n",
      "2022-05-16T15:47:24 - \u001B[36mSBART.Instruments.ESPRESSO\u001B[0m - \u001B[38;2;231;76;60mCRITICAL\u001B[0m - Did not find the entry for the following UT related metric: HIERARCH ESO INS{} ADC{} RA\n"
     ]
    },
    {
     "name": "stderr",
     "output_type": "stream",
     "text": [
      "2022-05-16T15:47:24 - SBART.Instruments.ESPRESSO - CRITICAL - Did not find the entry for the following UT related metric: HIERARCH ESO INS{} ADC{} RA\n"
     ]
    },
    {
     "name": "stdout",
     "output_type": "stream",
     "text": [
      "2022-05-16T15:47:24 - \u001B[36mSBART.Instruments.ESPRESSO\u001B[0m - \u001B[38;2;231;76;60mCRITICAL\u001B[0m - Did not find the entry for the following UT related metric: HIERARCH ESO INS{} ADC{} dec\n"
     ]
    },
    {
     "name": "stderr",
     "output_type": "stream",
     "text": [
      "2022-05-16T15:47:24 - SBART.Instruments.ESPRESSO - CRITICAL - Did not find the entry for the following UT related metric: HIERARCH ESO INS{} ADC{} dec\n"
     ]
    },
    {
     "name": "stdout",
     "output_type": "stream",
     "text": [
      "2022-05-16T15:47:24 - \u001B[36mSBART.Instruments.ESPRESSO\u001B[0m - \u001B[38;2;231;76;60mCRITICAL\u001B[0m - Did not find the entry for the following UT related metric: HIERARCH ESO INS{} ADC{} SENS1\n"
     ]
    },
    {
     "name": "stderr",
     "output_type": "stream",
     "text": [
      "2022-05-16T15:47:24 - SBART.Instruments.ESPRESSO - CRITICAL - Did not find the entry for the following UT related metric: HIERARCH ESO INS{} ADC{} SENS1\n"
     ]
    },
    {
     "name": "stdout",
     "output_type": "stream",
     "text": [
      "2022-05-16T15:47:24 - \u001B[36mSBART.Instruments.ESPRESSO\u001B[0m - \u001B[38;2;231;76;60mCRITICAL\u001B[0m - Did not find the entry for the following UT related metric: HIERARCH ESO INS{} ADC{} TEMP\n"
     ]
    },
    {
     "name": "stderr",
     "output_type": "stream",
     "text": [
      "2022-05-16T15:47:24 - SBART.Instruments.ESPRESSO - CRITICAL - Did not find the entry for the following UT related metric: HIERARCH ESO INS{} ADC{} TEMP\n"
     ]
    },
    {
     "name": "stdout",
     "output_type": "stream",
     "text": [
      "2022-05-16T15:47:24 - \u001B[36mSBART.Instruments.ESPRESSO\u001B[0m - \u001B[38;2;241;196;15mWARNING\u001B[0m - Found 1 warning flags in the header KWs\n",
      "2022-05-16T15:47:24 - \u001B[36mSBART.Base_Models.Frame\u001B[0m - \u001B[38;2;208;211;212mDEBUG\u001B[0m - Frame determined to be from ESPRESSO18\n",
      "2022-05-16T15:47:24 - \u001B[36mSBART.data_objects.DataClass\u001B[0m - \u001B[38;2;208;211;212mDEBUG\u001B[0m - Selected 2 observations from disk\n",
      "2022-05-16T15:47:24 - \u001B[36mSBART.data_objects.DataClass\u001B[0m - \u001B[38;2;40;180;99mINFO\u001B[0m - Collecting MetaData from the observations\n",
      "2022-05-16T15:47:24 - \u001B[36mSBART.data_objects.Target\u001B[0m - \u001B[38;2;208;211;212mDEBUG\u001B[0m - Parsing through loaded OBJECTs\n",
      "2022-05-16T15:47:24 - \u001B[36mSBART.data_objects.Target\u001B[0m - \u001B[38;2;40;180;99mINFO\u001B[0m - Validated target to be simul\n",
      "2022-05-16T15:47:24 - \u001B[36mSBART.data_objects.DataClass\u001B[0m - \u001B[38;2;40;180;99mINFO\u001B[0m - Loaded data from KW : DRS-VERSION\n",
      "2022-05-16T15:47:24 - \u001B[36mSBART.data_objects.DataClass\u001B[0m - \u001B[38;2;40;180;99mINFO\u001B[0m - Loaded data from KW : SPEC_TYPE\n",
      "2022-05-16T15:47:24 - \u001B[36mSBART.data_objects.DataClass\u001B[0m - \u001B[38;2;40;180;99mINFO\u001B[0m - \n",
      "+---------------+-----------+----------------------+-------------+\n",
      "| subInstrument | Total OBS | Valid OBS [warnings] | INVALID OBS |\n",
      "+---------------+-----------+----------------------+-------------+\n",
      "| ESPRESSO18    | 2         | 2 [2]                | 0           |\n",
      "+---------------+-----------+----------------------+-------------+\n",
      "| ESPRESSO19    | 0         | 0 [0]                | 0           |\n",
      "+---------------+-----------+----------------------+-------------+\n",
      "| ESPRESSO21    | 0         | 0 [0]                | 0           |\n",
      "+---------------+-----------+----------------------+-------------+\n",
      "| Total         | 2         | 2 [2]                | 0           |\n",
      "+---------------+-----------+----------------------+-------------+\n",
      "\n"
     ]
    }
   ],
   "source": [
    "from SBART.data_objects import DataClassManager\n",
    "\n",
    "manager = DataClassManager()\n",
    "manager.start()\n",
    "\n",
    "\n",
    "data = manager.DataClass(\n",
    "    input_filepath,\n",
    "    instrument=instrument,\n",
    "    instrument_options=inst_options,\n",
    ")"
   ],
   "metadata": {
    "collapsed": false,
    "pycharm": {
     "name": "#%%\n"
    }
   }
  },
  {
   "cell_type": "markdown",
   "source": [
    "## Pre-processing the data\n",
    "\n",
    "Removing activity-sensitive lines"
   ],
   "metadata": {
    "collapsed": false,
    "pycharm": {
     "name": "#%% md\n"
    }
   }
  },
  {
   "cell_type": "markdown",
   "source": [],
   "metadata": {
    "collapsed": false,
    "pycharm": {
     "name": "#%% md\n"
    }
   }
  },
  {
   "cell_type": "code",
   "execution_count": 13,
   "outputs": [],
   "source": [
    "from SBART.Quality_Control.activity_indicators import Indicators\n",
    "\n",
    "inds = Indicators()\n",
    "data.remove_activity_lines(inds)"
   ],
   "metadata": {
    "collapsed": false,
    "pycharm": {
     "name": "#%%\n"
    }
   }
  },
  {
   "cell_type": "markdown",
   "source": [
    "## Creating a telluric model to remove those features"
   ],
   "metadata": {
    "collapsed": false,
    "pycharm": {
     "name": "#%% md\n"
    }
   }
  },
  {
   "cell_type": "code",
   "execution_count": 14,
   "outputs": [
    {
     "name": "stdout",
     "output_type": "stream",
     "text": [
      "2022-05-16T15:47:38 - \u001B[36mSBART.Base_Models.TemplateFramework\u001B[0m - \u001B[38;2;40;180;99mINFO\u001B[0m - Starting Telluric Model\n",
      "2022-05-16T15:47:38 - \u001B[36mSBART.utils.UserConfigs\u001B[0m - \u001B[38;2;208;211;212mDEBUG\u001B[0m - Generating internal configs of BASE - TemplateFramework\n",
      "2022-05-16T15:47:38 - \u001B[36mSBART.utils.UserConfigs\u001B[0m - \u001B[38;2;208;211;212mDEBUG\u001B[0m - Configuration <CREATION_MODE> taking the value: telfit\n",
      "2022-05-16T15:47:38 - \u001B[36mSBART.utils.UserConfigs\u001B[0m - \u001B[38;2;208;211;212mDEBUG\u001B[0m - Configuration <APPLICATION_MODE> using the default value: removal\n",
      "2022-05-16T15:47:38 - \u001B[36mSBART.utils.UserConfigs\u001B[0m - \u001B[38;2;208;211;212mDEBUG\u001B[0m - Configuration <EXTENSION_MODE> using the default value: lines\n",
      "2022-05-16T15:47:38 - \u001B[36mSBART.template_creation.TelluricModel\u001B[0m - \u001B[38;2;40;180;99mINFO\u001B[0m - Starting Telluric Model\n",
      "2022-05-16T15:47:38 - \u001B[36mSBART.Base_Models.TemplateFramework\u001B[0m - \u001B[38;2;208;211;212mDEBUG\u001B[0m - Starting the creation of Telluric models!\n",
      "2022-05-16T15:47:38 - \u001B[36mSBART.Base_Models.TemplateFramework\u001B[0m - \u001B[38;2;40;180;99mINFO\u001B[0m - Attempting to load previous Templates from disk before creating them\n",
      "2022-05-16T15:47:38 - \u001B[36mSBART.Base_Models.TemplateFramework\u001B[0m - \u001B[38;2;208;211;212mDEBUG\u001B[0m - Searching in : /home/amiguel/phd/tools/sBART_private/tests/documentation_outputs/templates/Telluric for telfit\n",
      "2022-05-16T15:47:38 - \u001B[36mSBART.template_creation.TelluricModel\u001B[0m - \u001B[38;2;40;180;99mINFO\u001B[0m - Loading Telluric template from disk inside directory\n",
      "2022-05-16T15:47:38 - \u001B[36mSBART.template_creation.TelluricModel\u001B[0m - \u001B[38;2;40;180;99mINFO\u001B[0m - \t/home/amiguel/phd/tools/sBART_private/tests/documentation_outputs/templates/Telluric\n",
      "2022-05-16T15:47:38 - \u001B[36mSBART.template_creation.TelluricModel\u001B[0m - \u001B[38;2;40;180;99mINFO\u001B[0m - Found 0 available templates: [] of type Telfit\n",
      "2022-05-16T15:47:38 - \u001B[36mSBART.template_creation.TelluricModel\u001B[0m - \u001B[38;2;231;76;60mCRITICAL\u001B[0m - Could not find templates to load!\n"
     ]
    },
    {
     "name": "stderr",
     "output_type": "stream",
     "text": [
      "2022-05-16T15:47:38 - SBART.template_creation.TelluricModel - CRITICAL - Could not find templates to load!\n"
     ]
    },
    {
     "name": "stdout",
     "output_type": "stream",
     "text": [
      "2022-05-16T15:47:38 - \u001B[36mSBART.Base_Models.TemplateFramework\u001B[0m - \u001B[38;2;40;180;99mINFO\u001B[0m - No templates to load from disk. Creating all from scratch\n",
      "2022-05-16T15:47:38 - \u001B[36mSBART.template_creation.TelluricModel\u001B[0m - \u001B[38;2;40;180;99mINFO\u001B[0m - Using template of type: telfit\n",
      "2022-05-16T15:47:38 - \u001B[36mSBART.utils.UserConfigs\u001B[0m - \u001B[38;2;208;211;212mDEBUG\u001B[0m - Generating internal configs of Telfit-Telluric from ESPRESSO18\n",
      "2022-05-16T15:47:38 - \u001B[36mSBART.utils.UserConfigs\u001B[0m - \u001B[38;2;208;211;212mDEBUG\u001B[0m - Configuration <continuum_percentage_drop> using the default value: 1\n",
      "2022-05-16T15:47:38 - \u001B[36mSBART.utils.UserConfigs\u001B[0m - \u001B[38;2;208;211;212mDEBUG\u001B[0m - Configuration <force_download> using the default value: False\n",
      "2022-05-16T15:47:38 - \u001B[36mSBART.utils.UserConfigs\u001B[0m - \u001B[38;2;208;211;212mDEBUG\u001B[0m - Configuration <atmosphere_profile> using the default value: download\n",
      "2022-05-16T15:47:38 - \u001B[36mSBART.utils.UserConfigs\u001B[0m - \u001B[38;2;208;211;212mDEBUG\u001B[0m - Configuration <FIT_MODEL> using the default value: False\n",
      "2022-05-16T15:47:38 - \u001B[36mSBART.utils.UserConfigs\u001B[0m - \u001B[38;2;208;211;212mDEBUG\u001B[0m - Configuration <FIT_WAVELENGTH_STEP_SIZE> using the default value: 0.001\n",
      "2022-05-16T15:47:38 - \u001B[36mSBART.utils.UserConfigs\u001B[0m - \u001B[38;2;208;211;212mDEBUG\u001B[0m - Configuration <PARAMS_TO_FIT> using the default value: ['pressure', 'humidity']\n",
      "2022-05-16T15:47:38 - \u001B[36mSBART.ModelParameters.Model\u001B[0m - \u001B[38;2;40;180;99mINFO\u001B[0m - Generating model with following available parameters: []\n",
      "2022-05-16T15:47:38 - \u001B[36mSBART.utils.UserConfigs\u001B[0m - \u001B[38;2;208;211;212mDEBUG\u001B[0m - Generating internal configs of  - ModelParameter\n",
      "2022-05-16T15:47:38 - \u001B[36mSBART.utils.UserConfigs\u001B[0m - \u001B[38;2;208;211;212mDEBUG\u001B[0m - Configuration <GENERATION_MODE> using the default value: GLOBAL\n",
      "2022-05-16T15:47:38 - \u001B[36mSBART.utils.UserConfigs\u001B[0m - \u001B[38;2;208;211;212mDEBUG\u001B[0m - Generating internal configs of  - ModelParameter\n",
      "2022-05-16T15:47:38 - \u001B[36mSBART.utils.UserConfigs\u001B[0m - \u001B[38;2;208;211;212mDEBUG\u001B[0m - Configuration <GENERATION_MODE> using the default value: GLOBAL\n",
      "2022-05-16T15:47:38 - \u001B[36mSBART.utils.UserConfigs\u001B[0m - \u001B[38;2;208;211;212mDEBUG\u001B[0m - Generating internal configs of  - ModelParameter\n",
      "2022-05-16T15:47:38 - \u001B[36mSBART.utils.UserConfigs\u001B[0m - \u001B[38;2;208;211;212mDEBUG\u001B[0m - Configuration <GENERATION_MODE> using the default value: GLOBAL\n",
      "2022-05-16T15:47:38 - \u001B[36mSBART.utils.UserConfigs\u001B[0m - \u001B[38;2;208;211;212mDEBUG\u001B[0m - Generating internal configs of  - ModelParameter\n",
      "2022-05-16T15:47:38 - \u001B[36mSBART.utils.UserConfigs\u001B[0m - \u001B[38;2;208;211;212mDEBUG\u001B[0m - Configuration <GENERATION_MODE> using the default value: GLOBAL\n",
      "2022-05-16T15:47:38 - \u001B[36mSBART.utils.UserConfigs\u001B[0m - \u001B[38;2;208;211;212mDEBUG\u001B[0m - Generating internal configs of  - ModelParameter\n",
      "2022-05-16T15:47:38 - \u001B[36mSBART.utils.UserConfigs\u001B[0m - \u001B[38;2;208;211;212mDEBUG\u001B[0m - Configuration <GENERATION_MODE> using the default value: GLOBAL\n",
      "2022-05-16T15:47:38 - \u001B[36mSBART.utils.UserConfigs\u001B[0m - \u001B[38;2;208;211;212mDEBUG\u001B[0m - Generating internal configs of  - ModelParameter\n",
      "2022-05-16T15:47:38 - \u001B[36mSBART.utils.UserConfigs\u001B[0m - \u001B[38;2;208;211;212mDEBUG\u001B[0m - Configuration <GENERATION_MODE> using the default value: GLOBAL\n",
      "2022-05-16T15:47:38 - \u001B[36mSBART.template_creation.telluric_templates.Telluric_Template\u001B[0m - \u001B[38;2;208;211;212mDEBUG\u001B[0m - Template Telfit-Telluric from ESPRESSO18 loading data from the dataClass\n",
      "2022-05-16T15:47:38 - \u001B[36mSBART.template_creation.telluric_templates.Telluric_Template\u001B[0m - \u001B[38;2;208;211;212mDEBUG\u001B[0m - Generating the parameters of the model applied in Telfit-Telluric from ESPRESSO18\n",
      "2022-05-16T15:47:38 - \u001B[36mSBART.ModelParameters.Model\u001B[0m - \u001B[38;2;40;180;99mINFO\u001B[0m - Generating priors of the model' parameters\n",
      "2022-05-16T15:47:38 - \u001B[36mSBART.template_creation.telluric_templates.telluric_from_telfit\u001B[0m - \u001B[38;2;40;180;99mINFO\u001B[0m - Telfit-Telluric from ESPRESSO18 not fitting temperature. Fixing it to initial guess\n",
      "2022-05-16T15:47:38 - \u001B[36mSBART.template_creation.telluric_templates.telluric_from_telfit\u001B[0m - \u001B[38;2;40;180;99mINFO\u001B[0m - Telfit-Telluric from ESPRESSO18 not fitting co2. Fixing it to initial guess\n",
      "2022-05-16T15:47:38 - \u001B[36mSBART.template_creation.telluric_templates.telluric_from_telfit\u001B[0m - \u001B[38;2;40;180;99mINFO\u001B[0m - Telfit-Telluric from ESPRESSO18 not fitting ch4. Fixing it to initial guess\n",
      "2022-05-16T15:47:38 - \u001B[36mSBART.template_creation.telluric_templates.telluric_from_telfit\u001B[0m - \u001B[38;2;40;180;99mINFO\u001B[0m - Telfit-Telluric from ESPRESSO18 not fitting n2o. Fixing it to initial guess\n",
      "2022-05-16T15:47:38 - \u001B[36mSBART.template_creation.telluric_templates.Telluric_Template\u001B[0m - \u001B[38;2;40;180;99mINFO\u001B[0m - Starting creation of Telluric template from ESPRESSO18\n",
      "2022-05-16T15:47:38 - \u001B[36mSBART.template_creation.telluric_templates.Telluric_Template\u001B[0m - \u001B[38;2;208;211;212mDEBUG\u001B[0m - Using Relative humidity as the selection criterion for reference observation\n",
      "2022-05-16T15:47:38 - \u001B[36mSBART.template_creation.telluric_templates.Telluric_Template\u001B[0m - \u001B[38;2;40;180;99mINFO\u001B[0m - Telluric Template from ESPRESSO18 using Frame of ESPRESSO : ESPRESSO18 data (2019-02-10T08:25:37.894; ID = 0) as the reference\n",
      "2022-05-16T15:47:38 - \u001B[36mSBART.template_creation.telluric_templates.Telluric_Template\u001B[0m - \u001B[38;2;40;180;99mINFO\u001B[0m - Starting telluric template creation, with reference ID = 0\n",
      "2022-05-16T15:47:38 - \u001B[36mSBART.ModelParameters.Parameter\u001B[0m - \u001B[38;2;241;196;15mWARNING\u001B[0m - Attempting to disable param that is already disabled: temperature\n",
      "2022-05-16T15:47:38 - \u001B[36mSBART.ModelParameters.Parameter\u001B[0m - \u001B[38;2;241;196;15mWARNING\u001B[0m - Attempting to disable param that is already disabled: co2\n",
      "2022-05-16T15:47:38 - \u001B[36mSBART.ModelParameters.Parameter\u001B[0m - \u001B[38;2;241;196;15mWARNING\u001B[0m - Attempting to disable param that is already disabled: ch4\n",
      "2022-05-16T15:47:38 - \u001B[36mSBART.ModelParameters.Parameter\u001B[0m - \u001B[38;2;241;196;15mWARNING\u001B[0m - Attempting to disable param that is already disabled: n2o\n",
      "2022-05-16T15:47:38 - \u001B[36mSBART.template_creation.telluric_templates.telluric_from_telfit\u001B[0m - \u001B[38;2;40;180;99mINFO\u001B[0m - Configuring the Telfit modeler for Frame of ESPRESSO : ESPRESSO18 data (2019-02-10T08:25:37.894; ID = 0)\n",
      "2022-05-16T15:47:38 - \u001B[36mSBART.template_creation.telluric_templates.telluric_from_telfit\u001B[0m - \u001B[38;2;40;180;99mINFO\u001B[0m - Preparing GDAS data load!\n",
      "2022-05-16T15:47:38 - \u001B[36mSBART.template_creation.telluric_templates.telluric_from_telfit\u001B[0m - \u001B[38;2;40;180;99mINFO\u001B[0m - Launching GDAS profile downloader\n",
      "2022-05-16T15:47:38 - \u001B[36mSBART.template_creation.telluric_templates.telluric_from_telfit\u001B[0m - \u001B[38;2;40;180;99mINFO\u001B[0m - Looking for GDAS atmosphere profile in /home/amiguel/phd/tools/sBART_private/SBART/resources/atmosphere_profiles/gdas_profiles_C-70.4-24.6.tar.gz\n",
      "2022-05-16T15:47:38 - \u001B[36mSBART.template_creation.telluric_templates.telluric_from_telfit\u001B[0m - \u001B[38;2;40;180;99mINFO\u001B[0m - Closest GDAS atmospheric profile is C-70.4-24.6D2019-02-10T09.gdas\n",
      "2022-05-16T15:47:38 - \u001B[36mSBART.template_creation.telluric_templates.telluric_from_telfit\u001B[0m - \u001B[38;2;40;180;99mINFO\u001B[0m - Extracting file from the archive\n",
      "2022-05-16T15:47:41 - \u001B[36mSBART.template_creation.telluric_templates.telluric_from_telfit\u001B[0m - \u001B[38;2;40;180;99mINFO\u001B[0m - Finished configurating the modeler\n",
      "2022-05-16T15:47:41 - \u001B[36mSBART.template_creation.telluric_templates.telluric_from_telfit\u001B[0m - \u001B[38;2;40;180;99mINFO\u001B[0m - Using params: [286.52, 750, 58.5, 385.34, 1819.0, 325.1]\n",
      "2022-05-16T15:48:00 - \u001B[36mSBART.template_creation.telluric_templates.telluric_from_telfit\u001B[0m - \u001B[38;2;40;180;99mINFO\u001B[0m - Telfit model is complete.\n",
      "2022-05-16T15:48:00 - \u001B[36mSBART.template_creation.telluric_templates.Telluric_Template\u001B[0m - \u001B[38;2;40;180;99mINFO\u001B[0m - Converting from transmittance spectra to binary mask!\n",
      "2022-05-16T15:48:00 - \u001B[36mSBART.template_creation.telluric_templates.Telluric_Template\u001B[0m - \u001B[38;2;40;180;99mINFO\u001B[0m - Creating list of blocked features due to tellurics\n",
      "2022-05-16T15:48:00 - \u001B[36mSBART.template_creation.telluric_templates.Telluric_Template\u001B[0m - \u001B[38;2;40;180;99mINFO\u001B[0m - Extending telluric features with the mode: <lines>\n",
      "2022-05-16T15:48:02 - \u001B[36mSBART.Base_Models.BASE\u001B[0m - \u001B[38;2;208;211;212mDEBUG\u001B[0m - Setting root path of Telfit-Telluric from ESPRESSO18 to /home/amiguel/phd/tools/sBART_private/tests/documentation_outputs/templates/Telluric\n",
      "2022-05-16T15:48:02 - \u001B[36mSBART.template_creation.TelluricModel\u001B[0m - \u001B[38;2;40;180;99mINFO\u001B[0m - Using template of type: telfit\n",
      "2022-05-16T15:48:02 - \u001B[36mSBART.utils.UserConfigs\u001B[0m - \u001B[38;2;208;211;212mDEBUG\u001B[0m - Generating internal configs of Telfit-Telluric from ESPRESSO19\n",
      "2022-05-16T15:48:02 - \u001B[36mSBART.utils.UserConfigs\u001B[0m - \u001B[38;2;208;211;212mDEBUG\u001B[0m - Configuration <continuum_percentage_drop> using the default value: 1\n",
      "2022-05-16T15:48:02 - \u001B[36mSBART.utils.UserConfigs\u001B[0m - \u001B[38;2;208;211;212mDEBUG\u001B[0m - Configuration <force_download> using the default value: False\n",
      "2022-05-16T15:48:02 - \u001B[36mSBART.utils.UserConfigs\u001B[0m - \u001B[38;2;208;211;212mDEBUG\u001B[0m - Configuration <atmosphere_profile> using the default value: download\n",
      "2022-05-16T15:48:02 - \u001B[36mSBART.utils.UserConfigs\u001B[0m - \u001B[38;2;208;211;212mDEBUG\u001B[0m - Configuration <FIT_MODEL> using the default value: False\n",
      "2022-05-16T15:48:02 - \u001B[36mSBART.utils.UserConfigs\u001B[0m - \u001B[38;2;208;211;212mDEBUG\u001B[0m - Configuration <FIT_WAVELENGTH_STEP_SIZE> using the default value: 0.001\n",
      "2022-05-16T15:48:02 - \u001B[36mSBART.utils.UserConfigs\u001B[0m - \u001B[38;2;208;211;212mDEBUG\u001B[0m - Configuration <PARAMS_TO_FIT> using the default value: ['pressure', 'humidity']\n",
      "2022-05-16T15:48:02 - \u001B[36mSBART.ModelParameters.Model\u001B[0m - \u001B[38;2;40;180;99mINFO\u001B[0m - Generating model with following available parameters: []\n",
      "2022-05-16T15:48:02 - \u001B[36mSBART.utils.UserConfigs\u001B[0m - \u001B[38;2;208;211;212mDEBUG\u001B[0m - Generating internal configs of  - ModelParameter\n",
      "2022-05-16T15:48:02 - \u001B[36mSBART.utils.UserConfigs\u001B[0m - \u001B[38;2;208;211;212mDEBUG\u001B[0m - Configuration <GENERATION_MODE> using the default value: GLOBAL\n",
      "2022-05-16T15:48:02 - \u001B[36mSBART.utils.UserConfigs\u001B[0m - \u001B[38;2;208;211;212mDEBUG\u001B[0m - Generating internal configs of  - ModelParameter\n",
      "2022-05-16T15:48:02 - \u001B[36mSBART.utils.UserConfigs\u001B[0m - \u001B[38;2;208;211;212mDEBUG\u001B[0m - Configuration <GENERATION_MODE> using the default value: GLOBAL\n",
      "2022-05-16T15:48:02 - \u001B[36mSBART.utils.UserConfigs\u001B[0m - \u001B[38;2;208;211;212mDEBUG\u001B[0m - Generating internal configs of  - ModelParameter\n",
      "2022-05-16T15:48:02 - \u001B[36mSBART.utils.UserConfigs\u001B[0m - \u001B[38;2;208;211;212mDEBUG\u001B[0m - Configuration <GENERATION_MODE> using the default value: GLOBAL\n",
      "2022-05-16T15:48:02 - \u001B[36mSBART.utils.UserConfigs\u001B[0m - \u001B[38;2;208;211;212mDEBUG\u001B[0m - Generating internal configs of  - ModelParameter\n",
      "2022-05-16T15:48:02 - \u001B[36mSBART.utils.UserConfigs\u001B[0m - \u001B[38;2;208;211;212mDEBUG\u001B[0m - Configuration <GENERATION_MODE> using the default value: GLOBAL\n",
      "2022-05-16T15:48:02 - \u001B[36mSBART.utils.UserConfigs\u001B[0m - \u001B[38;2;208;211;212mDEBUG\u001B[0m - Generating internal configs of  - ModelParameter\n",
      "2022-05-16T15:48:02 - \u001B[36mSBART.utils.UserConfigs\u001B[0m - \u001B[38;2;208;211;212mDEBUG\u001B[0m - Configuration <GENERATION_MODE> using the default value: GLOBAL\n",
      "2022-05-16T15:48:02 - \u001B[36mSBART.utils.UserConfigs\u001B[0m - \u001B[38;2;208;211;212mDEBUG\u001B[0m - Generating internal configs of  - ModelParameter\n",
      "2022-05-16T15:48:02 - \u001B[36mSBART.utils.UserConfigs\u001B[0m - \u001B[38;2;208;211;212mDEBUG\u001B[0m - Configuration <GENERATION_MODE> using the default value: GLOBAL\n",
      "2022-05-16T15:48:02 - \u001B[36mSBART.template_creation.telluric_templates.Telluric_Template\u001B[0m - \u001B[38;2;208;211;212mDEBUG\u001B[0m - Template Telfit-Telluric from ESPRESSO19 loading data from the dataClass\n",
      "2022-05-16T15:48:02 - \u001B[36mSBART.template_creation.telluric_templates.Telluric_Template\u001B[0m - \u001B[38;2;241;196;15mWARNING\u001B[0m - ESPRESSO19 has no valid observations. Not computing telluric template\n",
      "2022-05-16T15:48:02 - \u001B[36mSBART.template_creation.telluric_templates.Telluric_Template\u001B[0m - \u001B[38;2;40;180;99mINFO\u001B[0m - Starting creation of Telluric template from ESPRESSO19\n",
      "2022-05-16T15:48:02 - \u001B[36mSBART.template_creation.telluric_templates.Telluric_Template\u001B[0m - \u001B[38;2;241;196;15mWARNING\u001B[0m - ESPRESSO19 has no valid observations. Not computing telluric template\n",
      "2022-05-16T15:48:02 - \u001B[36mSBART.Base_Models.Template_Model\u001B[0m - \u001B[38;2;241;196;15mWARNING\u001B[0m - Template will not be created. Check previous error messages\n",
      "2022-05-16T15:48:02 - \u001B[36mSBART.Base_Models.BASE\u001B[0m - \u001B[38;2;208;211;212mDEBUG\u001B[0m - Setting root path of Telfit-Telluric from ESPRESSO19 to /home/amiguel/phd/tools/sBART_private/tests/documentation_outputs/templates/Telluric\n",
      "2022-05-16T15:48:02 - \u001B[36mSBART.template_creation.TelluricModel\u001B[0m - \u001B[38;2;40;180;99mINFO\u001B[0m - Using template of type: telfit\n",
      "2022-05-16T15:48:02 - \u001B[36mSBART.utils.UserConfigs\u001B[0m - \u001B[38;2;208;211;212mDEBUG\u001B[0m - Generating internal configs of Telfit-Telluric from ESPRESSO21\n",
      "2022-05-16T15:48:02 - \u001B[36mSBART.utils.UserConfigs\u001B[0m - \u001B[38;2;208;211;212mDEBUG\u001B[0m - Configuration <continuum_percentage_drop> using the default value: 1\n",
      "2022-05-16T15:48:02 - \u001B[36mSBART.utils.UserConfigs\u001B[0m - \u001B[38;2;208;211;212mDEBUG\u001B[0m - Configuration <force_download> using the default value: False\n",
      "2022-05-16T15:48:02 - \u001B[36mSBART.utils.UserConfigs\u001B[0m - \u001B[38;2;208;211;212mDEBUG\u001B[0m - Configuration <atmosphere_profile> using the default value: download\n",
      "2022-05-16T15:48:02 - \u001B[36mSBART.utils.UserConfigs\u001B[0m - \u001B[38;2;208;211;212mDEBUG\u001B[0m - Configuration <FIT_MODEL> using the default value: False\n",
      "2022-05-16T15:48:02 - \u001B[36mSBART.utils.UserConfigs\u001B[0m - \u001B[38;2;208;211;212mDEBUG\u001B[0m - Configuration <FIT_WAVELENGTH_STEP_SIZE> using the default value: 0.001\n",
      "2022-05-16T15:48:02 - \u001B[36mSBART.utils.UserConfigs\u001B[0m - \u001B[38;2;208;211;212mDEBUG\u001B[0m - Configuration <PARAMS_TO_FIT> using the default value: ['pressure', 'humidity']\n",
      "2022-05-16T15:48:02 - \u001B[36mSBART.ModelParameters.Model\u001B[0m - \u001B[38;2;40;180;99mINFO\u001B[0m - Generating model with following available parameters: []\n",
      "2022-05-16T15:48:02 - \u001B[36mSBART.utils.UserConfigs\u001B[0m - \u001B[38;2;208;211;212mDEBUG\u001B[0m - Generating internal configs of  - ModelParameter\n",
      "2022-05-16T15:48:02 - \u001B[36mSBART.utils.UserConfigs\u001B[0m - \u001B[38;2;208;211;212mDEBUG\u001B[0m - Configuration <GENERATION_MODE> using the default value: GLOBAL\n",
      "2022-05-16T15:48:02 - \u001B[36mSBART.utils.UserConfigs\u001B[0m - \u001B[38;2;208;211;212mDEBUG\u001B[0m - Generating internal configs of  - ModelParameter\n",
      "2022-05-16T15:48:02 - \u001B[36mSBART.utils.UserConfigs\u001B[0m - \u001B[38;2;208;211;212mDEBUG\u001B[0m - Configuration <GENERATION_MODE> using the default value: GLOBAL\n",
      "2022-05-16T15:48:02 - \u001B[36mSBART.utils.UserConfigs\u001B[0m - \u001B[38;2;208;211;212mDEBUG\u001B[0m - Generating internal configs of  - ModelParameter\n",
      "2022-05-16T15:48:02 - \u001B[36mSBART.utils.UserConfigs\u001B[0m - \u001B[38;2;208;211;212mDEBUG\u001B[0m - Configuration <GENERATION_MODE> using the default value: GLOBAL\n",
      "2022-05-16T15:48:02 - \u001B[36mSBART.utils.UserConfigs\u001B[0m - \u001B[38;2;208;211;212mDEBUG\u001B[0m - Generating internal configs of  - ModelParameter\n",
      "2022-05-16T15:48:02 - \u001B[36mSBART.utils.UserConfigs\u001B[0m - \u001B[38;2;208;211;212mDEBUG\u001B[0m - Configuration <GENERATION_MODE> using the default value: GLOBAL\n",
      "2022-05-16T15:48:02 - \u001B[36mSBART.utils.UserConfigs\u001B[0m - \u001B[38;2;208;211;212mDEBUG\u001B[0m - Generating internal configs of  - ModelParameter\n",
      "2022-05-16T15:48:02 - \u001B[36mSBART.utils.UserConfigs\u001B[0m - \u001B[38;2;208;211;212mDEBUG\u001B[0m - Configuration <GENERATION_MODE> using the default value: GLOBAL\n",
      "2022-05-16T15:48:02 - \u001B[36mSBART.utils.UserConfigs\u001B[0m - \u001B[38;2;208;211;212mDEBUG\u001B[0m - Generating internal configs of  - ModelParameter\n",
      "2022-05-16T15:48:02 - \u001B[36mSBART.utils.UserConfigs\u001B[0m - \u001B[38;2;208;211;212mDEBUG\u001B[0m - Configuration <GENERATION_MODE> using the default value: GLOBAL\n",
      "2022-05-16T15:48:02 - \u001B[36mSBART.template_creation.telluric_templates.Telluric_Template\u001B[0m - \u001B[38;2;208;211;212mDEBUG\u001B[0m - Template Telfit-Telluric from ESPRESSO21 loading data from the dataClass\n",
      "2022-05-16T15:48:02 - \u001B[36mSBART.template_creation.telluric_templates.Telluric_Template\u001B[0m - \u001B[38;2;241;196;15mWARNING\u001B[0m - ESPRESSO21 has no valid observations. Not computing telluric template\n",
      "2022-05-16T15:48:02 - \u001B[36mSBART.template_creation.telluric_templates.Telluric_Template\u001B[0m - \u001B[38;2;40;180;99mINFO\u001B[0m - Starting creation of Telluric template from ESPRESSO21\n",
      "2022-05-16T15:48:02 - \u001B[36mSBART.template_creation.telluric_templates.Telluric_Template\u001B[0m - \u001B[38;2;241;196;15mWARNING\u001B[0m - ESPRESSO21 has no valid observations. Not computing telluric template\n",
      "2022-05-16T15:48:02 - \u001B[36mSBART.Base_Models.Template_Model\u001B[0m - \u001B[38;2;241;196;15mWARNING\u001B[0m - Template will not be created. Check previous error messages\n",
      "2022-05-16T15:48:02 - \u001B[36mSBART.Base_Models.BASE\u001B[0m - \u001B[38;2;208;211;212mDEBUG\u001B[0m - Setting root path of Telfit-Telluric from ESPRESSO21 to /home/amiguel/phd/tools/sBART_private/tests/documentation_outputs/templates/Telluric\n",
      "2022-05-16T15:48:02 - \u001B[36mSBART.Base_Models.TemplateFramework\u001B[0m - \u001B[38;2;40;180;99mINFO\u001B[0m - Storing templates from <Telluric> under the directory\n",
      "2022-05-16T15:48:02 - \u001B[36mSBART.Base_Models.TemplateFramework\u001B[0m - \u001B[38;2;40;180;99mINFO\u001B[0m - \t/home/amiguel/phd/tools/sBART_private/tests/documentation_outputs/templates/Telluric\n",
      "2022-05-16T15:48:02 - \u001B[36mSBART.Base_Models.BASE\u001B[0m - \u001B[38;2;40;180;99mINFO\u001B[0m - Telfit-Telluric from ESPRESSO18 storing data to disk\n",
      "2022-05-16T15:48:02 - \u001B[36mSBART.Base_Models.Template_Model\u001B[0m - \u001B[38;2;40;180;99mINFO\u001B[0m - Storing Telfit-Telluric from ESPRESSO18 to disk\n",
      "2022-05-16T15:48:02 - \u001B[36mSBART.Base_Models.Template_Model\u001B[0m - \u001B[38;2;241;196;15mWARNING\u001B[0m - Disabled removal of old disk files!\n",
      "2022-05-16T15:48:17 - \u001B[36mSBART.template_creation.telluric_templates.Telluric_Template\u001B[0m - \u001B[38;2;208;211;212mDEBUG\u001B[0m - Storing template to /home/amiguel/phd/tools/sBART_private/tests/documentation_outputs/templates/Telluric/Telfit_lines_Telluric_ESPRESSO18.fits\n",
      "2022-05-16T15:48:17 - \u001B[36mSBART.Base_Models.BASE\u001B[0m - \u001B[38;2;40;180;99mINFO\u001B[0m - Telfit-Telluric from ESPRESSO19 storing data to disk\n",
      "2022-05-16T15:48:17 - \u001B[36mSBART.Base_Models.Template_Model\u001B[0m - \u001B[38;2;40;180;99mINFO\u001B[0m - The template was not created. Storing nothing to disk\n",
      "2022-05-16T15:48:17 - \u001B[36mSBART.Base_Models.BASE\u001B[0m - \u001B[38;2;40;180;99mINFO\u001B[0m - Telfit-Telluric from ESPRESSO21 storing data to disk\n",
      "2022-05-16T15:48:17 - \u001B[36mSBART.Base_Models.Template_Model\u001B[0m - \u001B[38;2;40;180;99mINFO\u001B[0m - The template was not created. Storing nothing to disk\n"
     ]
    }
   ],
   "source": [
    "from SBART.template_creation.TelluricModel import TelluricModel\n",
    "\n",
    "ModelTell = TelluricModel(\n",
    "    usage_mode=\"individual\",\n",
    "    user_configs=telluric_model_configs,\n",
    "    root_folder_path=storage_path,\n",
    ")\n",
    "\n",
    "ModelTell.Generate_Model(\n",
    "    dataClass=data,\n",
    "    telluric_configs=telluric_template_genesis_configs,\n",
    "    force_computation=False,\n",
    "    store_templates=True,\n",
    ")\n",
    "data.remove_telluric_features(ModelTell)"
   ],
   "metadata": {
    "collapsed": false,
    "pycharm": {
     "name": "#%%\n"
    }
   }
  },
  {
   "cell_type": "markdown",
   "source": [
    "## Creating the stellar templates\n"
   ],
   "metadata": {
    "collapsed": false,
    "pycharm": {
     "name": "#%% md\n"
    }
   }
  },
  {
   "cell_type": "code",
   "execution_count": 21,
   "outputs": [
    {
     "name": "stdout",
     "output_type": "stream",
     "text": [
      "2022-05-16T15:50:35 - \u001B[36mSBART.Base_Models.TemplateFramework\u001B[0m - \u001B[38;2;40;180;99mINFO\u001B[0m - Starting Stellar Model\n",
      "2022-05-16T15:50:35 - \u001B[36mSBART.utils.UserConfigs\u001B[0m - \u001B[38;2;208;211;212mDEBUG\u001B[0m - Generating internal configs of SpectralModel - Stellar\n",
      "2022-05-16T15:50:35 - \u001B[36mSBART.utils.UserConfigs\u001B[0m - \u001B[38;2;208;211;212mDEBUG\u001B[0m - Configuration <CREATION_MODE> using the default value: Sum\n",
      "2022-05-16T15:50:35 - \u001B[36mSBART.utils.UserConfigs\u001B[0m - \u001B[38;2;208;211;212mDEBUG\u001B[0m - Configuration <ALIGNEMENT_RV_SOURCE> using the default value: DRS\n",
      "2022-05-16T15:50:35 - \u001B[36mSBART.utils.UserConfigs\u001B[0m - \u001B[38;2;208;211;212mDEBUG\u001B[0m - Configuration <PREVIOUS_SBART_PATH> using the default value: \n",
      "2022-05-16T15:50:35 - \u001B[36mSBART.utils.UserConfigs\u001B[0m - \u001B[38;2;208;211;212mDEBUG\u001B[0m - Configuration <USE_MERGED_RVS> using the default value: False\n"
     ]
    }
   ],
   "source": [
    "from SBART.template_creation.StellarModel import StellarModel\n",
    "\n",
    "ModelStell = StellarModel(user_configs=stellar_model_configs,\n",
    "                          root_folder_path=storage_path\n",
    "                          )"
   ],
   "metadata": {
    "collapsed": false,
    "pycharm": {
     "name": "#%%\n"
    }
   }
  },
  {
   "cell_type": "markdown",
   "source": [
    "\n",
    "When creating the stellar templates we can also reject, temporarily, some observations. They will **not** be used to create\n",
    "the stellar template, but they will still be used during the RV extraction."
   ],
   "metadata": {
    "collapsed": false,
    "pycharm": {
     "name": "#%% md\n"
    }
   }
  },
  {
   "cell_type": "code",
   "execution_count": 22,
   "outputs": [
    {
     "name": "stdout",
     "output_type": "stream",
     "text": [
      "2022-05-16T15:50:38 - \u001B[36mSBART.template_creation.StellarModel\u001B[0m - \u001B[38;2;40;180;99mINFO\u001B[0m - Applying conditions to creation of stellar template\n",
      "2022-05-16T15:50:38 - \u001B[36mSBART.Base_Models.TemplateFramework\u001B[0m - \u001B[38;2;208;211;212mDEBUG\u001B[0m - Starting the creation of Stellar models!\n",
      "2022-05-16T15:50:38 - \u001B[36mSBART.Base_Models.TemplateFramework\u001B[0m - \u001B[38;2;40;180;99mINFO\u001B[0m - Attempting to load previous Templates from disk before creating them\n",
      "2022-05-16T15:50:38 - \u001B[36mSBART.Base_Models.TemplateFramework\u001B[0m - \u001B[38;2;208;211;212mDEBUG\u001B[0m - Searching in : /home/amiguel/phd/tools/sBART_private/tests/documentation_outputs/templates/Stellar/Iteration_0 for Sum\n",
      "2022-05-16T15:50:38 - \u001B[36mSBART.Base_Models.TemplateFramework\u001B[0m - \u001B[38;2;40;180;99mINFO\u001B[0m - Loading Stellar template of type Sum from disk inside directory\n",
      "2022-05-16T15:50:38 - \u001B[36mSBART.Base_Models.TemplateFramework\u001B[0m - \u001B[38;2;40;180;99mINFO\u001B[0m - \t/home/amiguel/phd/tools/sBART_private/tests/documentation_outputs/templates/Stellar/Iteration_0\n",
      "2022-05-16T15:50:38 - \u001B[36mSBART.Base_Models.TemplateFramework\u001B[0m - \u001B[38;2;40;180;99mINFO\u001B[0m - Found 0 available templates: [] of type Sum\n",
      "2022-05-16T15:50:38 - \u001B[36mSBART.Base_Models.TemplateFramework\u001B[0m - \u001B[38;2;241;196;15mWARNING\u001B[0m - Could not find template to load in /home/amiguel/phd/tools/sBART_private/tests/documentation_outputs/templates/Stellar/Iteration_0\n",
      "2022-05-16T15:50:38 - \u001B[36mSBART.Base_Models.TemplateFramework\u001B[0m - \u001B[38;2;40;180;99mINFO\u001B[0m - No templates to load from disk. Creating all from scratch\n",
      "2022-05-16T15:50:38 - \u001B[36mSBART.utils.UserConfigs\u001B[0m - \u001B[38;2;208;211;212mDEBUG\u001B[0m - Generating internal configs of Sum-Stellar from ESPRESSO18\n",
      "2022-05-16T15:50:38 - \u001B[36mSBART.utils.UserConfigs\u001B[0m - \u001B[38;2;208;211;212mDEBUG\u001B[0m - Configuration <MINIMUM_NUMBER_OBS> taking the value: 2\n",
      "2022-05-16T15:50:38 - \u001B[36mSBART.utils.UserConfigs\u001B[0m - \u001B[38;2;208;211;212mDEBUG\u001B[0m - Configuration <INTERPOLATION_ERR_PROP> using the default value: interpolation\n",
      "2022-05-16T15:50:38 - \u001B[36mSBART.utils.UserConfigs\u001B[0m - \u001B[38;2;208;211;212mDEBUG\u001B[0m - Configuration <NUMBER_WORKERS> using the default value: (1, 1)\n",
      "2022-05-16T15:50:38 - \u001B[36mSBART.utils.UserConfigs\u001B[0m - \u001B[38;2;208;211;212mDEBUG\u001B[0m - Configuration <MEMORY_SAVE_MODE> using the default value: False\n",
      "2022-05-16T15:50:38 - \u001B[36mSBART.utils.UserConfigs\u001B[0m - \u001B[38;2;208;211;212mDEBUG\u001B[0m - Configuration <PROPAGATE_UNCERTAINTIES> using the default value: True\n",
      "2022-05-16T15:50:38 - \u001B[36mSBART.utils.UserConfigs\u001B[0m - \u001B[38;2;208;211;212mDEBUG\u001B[0m - Configuration <ALIGNEMENT_RV_SOURCE> using the default value: DRS\n",
      "2022-05-16T15:50:38 - \u001B[36mSBART.template_creation.stellar_templates.Stellar_Template\u001B[0m - \u001B[38;2;40;180;99mINFO\u001B[0m - Starting creation of Stellar template from ESPRESSO18\n",
      "2022-05-16T15:50:38 - \u001B[36mSBART.template_creation.stellar_templates.Stellar_Template\u001B[0m - \u001B[38;2;40;180;99mINFO\u001B[0m - Evaluating spectral conditions to select the valid observations from ESPRESSO18\n",
      "2022-05-16T15:50:39 - \u001B[36mSBART.template_creation.stellar_templates.sum_stellar\u001B[0m - \u001B[38;2;40;180;99mINFO\u001B[0m - Using observation from Frame of ESPRESSO : ESPRESSO18 data (2019-02-10T08:25:37.894; ID = 0) as a basis for stellar template construction\n",
      "2022-05-16T15:50:39 - \u001B[36mSBART.template_creation.stellar_templates.sum_stellar\u001B[0m - \u001B[38;2;40;180;99mINFO\u001B[0m - Propagation spectral uncertainties through: interpolation\n",
      "2022-05-16T15:50:39 - \u001B[36mSBART.template_creation.stellar_templates.sum_stellar\u001B[0m - \u001B[38;2;40;180;99mINFO\u001B[0m - Using frameIDs: [0, 1]\n",
      "2022-05-16T15:50:39 - \u001B[36mSBART.template_creation.stellar_templates.sum_stellar\u001B[0m - \u001B[38;2;40;180;99mINFO\u001B[0m - Lauching 1 workers!\n",
      "2022-05-16T15:50:39 - \u001B[36mSBART.template_creation.stellar_templates.sum_stellar\u001B[0m - \u001B[38;2;40;180;99mINFO\u001B[0m - Using 1 cores for each interpolation!\n",
      "2022-05-16T15:50:39 - \u001B[36mSBART.template_creation.stellar_templates.Stellar_Template\u001B[0m - \u001B[38;2;40;180;99mINFO\u001B[0m - Putting the stellar template in shared memory\n"
     ]
    },
    {
     "name": "stderr",
     "output_type": "stream",
     "text": [
      "  0%|          | 0/2 [00:00<?, ?it/s]"
     ]
    },
    {
     "name": "stdout",
     "output_type": "stream",
     "text": [
      "2022-05-16T15:50:39 - \u001B[36mSBART.template_creation.stellar_templates.sum_stellar\u001B[0m - \u001B[38;2;40;180;99mINFO\u001B[0m - Starting frameID: 0\n"
     ]
    },
    {
     "name": "stderr",
     "output_type": "stream",
     "text": [
      "                                     \r"
     ]
    },
    {
     "name": "stdout",
     "output_type": "stream",
     "text": [
      "2022-05-16T15:50:40 - \u001B[36mSBART.template_creation.stellar_templates.sum_stellar\u001B[0m - \u001B[38;2;208;211;212mDEBUG\u001B[0m - Frame took 0.921999 seconds\n",
      "2022-05-16T15:50:40 - \u001B[36mSBART.template_creation.stellar_templates.sum_stellar\u001B[0m - \u001B[38;2;40;180;99mINFO\u001B[0m - Starting frameID: 1\n",
      "2022-05-16T15:50:41 - \u001B[36mSBART.template_creation.stellar_templates.sum_stellar\u001B[0m - \u001B[38;2;208;211;212mDEBUG\u001B[0m - Frame took 0.771143 seconds\n",
      "2022-05-16T15:50:41 - \u001B[36mSBART.template_creation.stellar_templates.sum_stellar\u001B[0m - \u001B[38;2;40;180;99mINFO\u001B[0m - Updating template mask\n",
      "2022-05-16T15:50:41 - \u001B[36mSBART.template_creation.stellar_templates.sum_stellar\u001B[0m - \u001B[38;2;208;211;212mDEBUG\u001B[0m - Ensuring increasing wavelenghs in the stellar template\n",
      "2022-05-16T15:50:41 - \u001B[36mSBART.template_creation.stellar_templates.Stellar_Template\u001B[0m - \u001B[38;2;40;180;99mINFO\u001B[0m - Computing orders with too many points masked\n",
      "2022-05-16T15:50:41 - \u001B[36mSBART.template_creation.stellar_templates.Stellar_Template\u001B[0m - \u001B[38;2;241;196;15mWARNING\u001B[0m - Stellar template rejecting order 0 due to having more than 9011/9111 pixels masked\n",
      "2022-05-16T15:50:41 - \u001B[36mSBART.template_creation.stellar_templates.Stellar_Template\u001B[0m - \u001B[38;2;241;196;15mWARNING\u001B[0m - Stellar template rejecting order 1 due to having more than 9011/9111 pixels masked\n",
      "2022-05-16T15:50:41 - \u001B[36mSBART.template_creation.stellar_templates.Stellar_Template\u001B[0m - \u001B[38;2;241;196;15mWARNING\u001B[0m - Stellar template rejecting order 2 due to having more than 9011/9111 pixels masked\n",
      "2022-05-16T15:50:41 - \u001B[36mSBART.template_creation.stellar_templates.Stellar_Template\u001B[0m - \u001B[38;2;241;196;15mWARNING\u001B[0m - Stellar template rejecting order 3 due to having more than 9011/9111 pixels masked\n",
      "2022-05-16T15:50:41 - \u001B[36mSBART.template_creation.stellar_templates.Stellar_Template\u001B[0m - \u001B[38;2;241;196;15mWARNING\u001B[0m - Stellar template rejecting order 4 due to having more than 9011/9111 pixels masked\n",
      "2022-05-16T15:50:41 - \u001B[36mSBART.template_creation.stellar_templates.Stellar_Template\u001B[0m - \u001B[38;2;241;196;15mWARNING\u001B[0m - Stellar template rejecting order 5 due to having more than 9011/9111 pixels masked\n",
      "2022-05-16T15:50:41 - \u001B[36mSBART.template_creation.stellar_templates.Stellar_Template\u001B[0m - \u001B[38;2;241;196;15mWARNING\u001B[0m - Stellar template rejecting order 6 due to having more than 9011/9111 pixels masked\n",
      "2022-05-16T15:50:41 - \u001B[36mSBART.template_creation.stellar_templates.Stellar_Template\u001B[0m - \u001B[38;2;241;196;15mWARNING\u001B[0m - Stellar template rejecting order 7 due to having more than 9011/9111 pixels masked\n",
      "2022-05-16T15:50:41 - \u001B[36mSBART.template_creation.stellar_templates.Stellar_Template\u001B[0m - \u001B[38;2;241;196;15mWARNING\u001B[0m - Stellar template rejecting order 8 due to having more than 9011/9111 pixels masked\n",
      "2022-05-16T15:50:41 - \u001B[36mSBART.template_creation.stellar_templates.Stellar_Template\u001B[0m - \u001B[38;2;241;196;15mWARNING\u001B[0m - Stellar template rejecting order 9 due to having more than 9011/9111 pixels masked\n",
      "2022-05-16T15:50:41 - \u001B[36mSBART.template_creation.stellar_templates.Stellar_Template\u001B[0m - \u001B[38;2;241;196;15mWARNING\u001B[0m - Stellar template rejecting order 10 due to having more than 9011/9111 pixels masked\n",
      "2022-05-16T15:50:41 - \u001B[36mSBART.template_creation.stellar_templates.Stellar_Template\u001B[0m - \u001B[38;2;241;196;15mWARNING\u001B[0m - Stellar template rejecting order 11 due to having more than 9011/9111 pixels masked\n",
      "2022-05-16T15:50:41 - \u001B[36mSBART.template_creation.stellar_templates.Stellar_Template\u001B[0m - \u001B[38;2;241;196;15mWARNING\u001B[0m - Stellar template rejecting order 12 due to having more than 9011/9111 pixels masked\n",
      "2022-05-16T15:50:41 - \u001B[36mSBART.template_creation.stellar_templates.Stellar_Template\u001B[0m - \u001B[38;2;241;196;15mWARNING\u001B[0m - Stellar template rejecting order 13 due to having more than 9011/9111 pixels masked\n",
      "2022-05-16T15:50:41 - \u001B[36mSBART.template_creation.stellar_templates.Stellar_Template\u001B[0m - \u001B[38;2;241;196;15mWARNING\u001B[0m - Stellar template rejecting order 14 due to having more than 9011/9111 pixels masked\n",
      "2022-05-16T15:50:41 - \u001B[36mSBART.template_creation.stellar_templates.Stellar_Template\u001B[0m - \u001B[38;2;241;196;15mWARNING\u001B[0m - Stellar template rejecting order 15 due to having more than 9011/9111 pixels masked\n",
      "2022-05-16T15:50:41 - \u001B[36mSBART.template_creation.stellar_templates.Stellar_Template\u001B[0m - \u001B[38;2;241;196;15mWARNING\u001B[0m - Stellar template rejecting order 16 due to having more than 9011/9111 pixels masked\n",
      "2022-05-16T15:50:41 - \u001B[36mSBART.template_creation.stellar_templates.Stellar_Template\u001B[0m - \u001B[38;2;241;196;15mWARNING\u001B[0m - Stellar template rejecting order 17 due to having more than 9011/9111 pixels masked\n",
      "2022-05-16T15:50:41 - \u001B[36mSBART.template_creation.stellar_templates.Stellar_Template\u001B[0m - \u001B[38;2;241;196;15mWARNING\u001B[0m - Stellar template rejecting order 18 due to having more than 9011/9111 pixels masked\n",
      "2022-05-16T15:50:41 - \u001B[36mSBART.template_creation.stellar_templates.Stellar_Template\u001B[0m - \u001B[38;2;241;196;15mWARNING\u001B[0m - Stellar template rejecting order 19 due to having more than 9011/9111 pixels masked\n",
      "2022-05-16T15:50:41 - \u001B[36mSBART.template_creation.stellar_templates.Stellar_Template\u001B[0m - \u001B[38;2;241;196;15mWARNING\u001B[0m - Stellar template rejecting order 20 due to having more than 9011/9111 pixels masked\n",
      "2022-05-16T15:50:41 - \u001B[36mSBART.template_creation.stellar_templates.Stellar_Template\u001B[0m - \u001B[38;2;241;196;15mWARNING\u001B[0m - Stellar template rejecting order 21 due to having more than 9011/9111 pixels masked\n",
      "2022-05-16T15:50:41 - \u001B[36mSBART.template_creation.stellar_templates.Stellar_Template\u001B[0m - \u001B[38;2;241;196;15mWARNING\u001B[0m - Stellar template rejecting order 22 due to having more than 9011/9111 pixels masked\n",
      "2022-05-16T15:50:41 - \u001B[36mSBART.template_creation.stellar_templates.Stellar_Template\u001B[0m - \u001B[38;2;241;196;15mWARNING\u001B[0m - Stellar template rejecting order 23 due to having more than 9011/9111 pixels masked\n",
      "2022-05-16T15:50:41 - \u001B[36mSBART.template_creation.stellar_templates.Stellar_Template\u001B[0m - \u001B[38;2;241;196;15mWARNING\u001B[0m - Stellar template rejecting order 24 due to having more than 9011/9111 pixels masked\n",
      "2022-05-16T15:50:41 - \u001B[36mSBART.template_creation.stellar_templates.Stellar_Template\u001B[0m - \u001B[38;2;241;196;15mWARNING\u001B[0m - Stellar template rejecting order 25 due to having more than 9011/9111 pixels masked\n",
      "2022-05-16T15:50:41 - \u001B[36mSBART.template_creation.stellar_templates.Stellar_Template\u001B[0m - \u001B[38;2;241;196;15mWARNING\u001B[0m - Stellar template rejecting order 26 due to having more than 9011/9111 pixels masked\n",
      "2022-05-16T15:50:41 - \u001B[36mSBART.template_creation.stellar_templates.Stellar_Template\u001B[0m - \u001B[38;2;241;196;15mWARNING\u001B[0m - Stellar template rejecting order 27 due to having more than 9011/9111 pixels masked\n",
      "2022-05-16T15:50:41 - \u001B[36mSBART.template_creation.stellar_templates.Stellar_Template\u001B[0m - \u001B[38;2;241;196;15mWARNING\u001B[0m - Stellar template rejecting order 28 due to having more than 9011/9111 pixels masked\n",
      "2022-05-16T15:50:41 - \u001B[36mSBART.template_creation.stellar_templates.Stellar_Template\u001B[0m - \u001B[38;2;241;196;15mWARNING\u001B[0m - Stellar template rejecting order 29 due to having more than 9011/9111 pixels masked\n",
      "2022-05-16T15:50:41 - \u001B[36mSBART.template_creation.stellar_templates.Stellar_Template\u001B[0m - \u001B[38;2;241;196;15mWARNING\u001B[0m - Stellar template rejecting order 30 due to having more than 9011/9111 pixels masked\n",
      "2022-05-16T15:50:41 - \u001B[36mSBART.template_creation.stellar_templates.Stellar_Template\u001B[0m - \u001B[38;2;241;196;15mWARNING\u001B[0m - Stellar template rejecting order 31 due to having more than 9011/9111 pixels masked\n",
      "2022-05-16T15:50:41 - \u001B[36mSBART.template_creation.stellar_templates.Stellar_Template\u001B[0m - \u001B[38;2;241;196;15mWARNING\u001B[0m - Stellar template rejecting order 32 due to having more than 9011/9111 pixels masked\n",
      "2022-05-16T15:50:41 - \u001B[36mSBART.template_creation.stellar_templates.Stellar_Template\u001B[0m - \u001B[38;2;241;196;15mWARNING\u001B[0m - Stellar template rejecting order 33 due to having more than 9011/9111 pixels masked\n",
      "2022-05-16T15:50:41 - \u001B[36mSBART.template_creation.stellar_templates.Stellar_Template\u001B[0m - \u001B[38;2;241;196;15mWARNING\u001B[0m - Stellar template rejecting order 34 due to having more than 9011/9111 pixels masked\n",
      "2022-05-16T15:50:41 - \u001B[36mSBART.template_creation.stellar_templates.Stellar_Template\u001B[0m - \u001B[38;2;241;196;15mWARNING\u001B[0m - Stellar template rejecting order 35 due to having more than 9011/9111 pixels masked\n",
      "2022-05-16T15:50:41 - \u001B[36mSBART.template_creation.stellar_templates.Stellar_Template\u001B[0m - \u001B[38;2;241;196;15mWARNING\u001B[0m - Stellar template rejecting order 36 due to having more than 9011/9111 pixels masked\n",
      "2022-05-16T15:50:41 - \u001B[36mSBART.template_creation.stellar_templates.Stellar_Template\u001B[0m - \u001B[38;2;241;196;15mWARNING\u001B[0m - Stellar template rejecting order 37 due to having more than 9011/9111 pixels masked\n",
      "2022-05-16T15:50:41 - \u001B[36mSBART.template_creation.stellar_templates.Stellar_Template\u001B[0m - \u001B[38;2;241;196;15mWARNING\u001B[0m - Stellar template rejecting order 38 due to having more than 9011/9111 pixels masked\n",
      "2022-05-16T15:50:41 - \u001B[36mSBART.template_creation.stellar_templates.Stellar_Template\u001B[0m - \u001B[38;2;241;196;15mWARNING\u001B[0m - Stellar template rejecting order 39 due to having more than 9011/9111 pixels masked\n",
      "2022-05-16T15:50:41 - \u001B[36mSBART.template_creation.stellar_templates.Stellar_Template\u001B[0m - \u001B[38;2;241;196;15mWARNING\u001B[0m - Stellar template rejecting order 40 due to having more than 9011/9111 pixels masked\n",
      "2022-05-16T15:50:41 - \u001B[36mSBART.template_creation.stellar_templates.Stellar_Template\u001B[0m - \u001B[38;2;241;196;15mWARNING\u001B[0m - Stellar template rejecting order 41 due to having more than 9011/9111 pixels masked\n",
      "2022-05-16T15:50:41 - \u001B[36mSBART.template_creation.stellar_templates.Stellar_Template\u001B[0m - \u001B[38;2;241;196;15mWARNING\u001B[0m - Stellar template rejecting order 42 due to having more than 9011/9111 pixels masked\n",
      "2022-05-16T15:50:41 - \u001B[36mSBART.template_creation.stellar_templates.Stellar_Template\u001B[0m - \u001B[38;2;241;196;15mWARNING\u001B[0m - Stellar template rejecting order 43 due to having more than 9011/9111 pixels masked\n",
      "2022-05-16T15:50:41 - \u001B[36mSBART.template_creation.stellar_templates.Stellar_Template\u001B[0m - \u001B[38;2;241;196;15mWARNING\u001B[0m - Stellar template rejecting order 44 due to having more than 9011/9111 pixels masked\n",
      "2022-05-16T15:50:41 - \u001B[36mSBART.template_creation.stellar_templates.Stellar_Template\u001B[0m - \u001B[38;2;241;196;15mWARNING\u001B[0m - Stellar template rejecting order 45 due to having more than 9011/9111 pixels masked\n",
      "2022-05-16T15:50:41 - \u001B[36mSBART.template_creation.stellar_templates.Stellar_Template\u001B[0m - \u001B[38;2;241;196;15mWARNING\u001B[0m - Stellar template rejecting order 46 due to having more than 9011/9111 pixels masked\n",
      "2022-05-16T15:50:41 - \u001B[36mSBART.template_creation.stellar_templates.Stellar_Template\u001B[0m - \u001B[38;2;241;196;15mWARNING\u001B[0m - Stellar template rejecting order 47 due to having more than 9011/9111 pixels masked\n",
      "2022-05-16T15:50:41 - \u001B[36mSBART.template_creation.stellar_templates.Stellar_Template\u001B[0m - \u001B[38;2;241;196;15mWARNING\u001B[0m - Stellar template rejecting order 48 due to having more than 9011/9111 pixels masked\n",
      "2022-05-16T15:50:41 - \u001B[36mSBART.template_creation.stellar_templates.Stellar_Template\u001B[0m - \u001B[38;2;241;196;15mWARNING\u001B[0m - Stellar template rejecting order 49 due to having more than 9011/9111 pixels masked\n",
      "2022-05-16T15:50:41 - \u001B[36mSBART.template_creation.stellar_templates.Stellar_Template\u001B[0m - \u001B[38;2;241;196;15mWARNING\u001B[0m - Stellar template rejecting order 51 due to having more than 9011/9111 pixels masked\n",
      "2022-05-16T15:50:41 - \u001B[36mSBART.template_creation.stellar_templates.Stellar_Template\u001B[0m - \u001B[38;2;241;196;15mWARNING\u001B[0m - Stellar template rejecting order 60 due to having more than 9011/9111 pixels masked\n",
      "2022-05-16T15:50:41 - \u001B[36mSBART.template_creation.stellar_templates.Stellar_Template\u001B[0m - \u001B[38;2;241;196;15mWARNING\u001B[0m - Stellar template rejecting order 76 due to having more than 9011/9111 pixels masked\n",
      "2022-05-16T15:50:41 - \u001B[36mSBART.template_creation.stellar_templates.Stellar_Template\u001B[0m - \u001B[38;2;241;196;15mWARNING\u001B[0m - Stellar template rejecting order 77 due to having more than 9011/9111 pixels masked\n",
      "2022-05-16T15:50:41 - \u001B[36mSBART.template_creation.stellar_templates.Stellar_Template\u001B[0m - \u001B[38;2;241;196;15mWARNING\u001B[0m - Stellar template rejecting order 154 due to having more than 9011/9111 pixels masked\n",
      "2022-05-16T15:50:41 - \u001B[36mSBART.template_creation.stellar_templates.Stellar_Template\u001B[0m - \u001B[38;2;241;196;15mWARNING\u001B[0m - Stellar template rejecting order 155 due to having more than 9011/9111 pixels masked\n",
      "2022-05-16T15:50:41 - \u001B[36mSBART.template_creation.stellar_templates.Stellar_Template\u001B[0m - \u001B[38;2;241;196;15mWARNING\u001B[0m - Stellar template rejecting order 156 due to having more than 9011/9111 pixels masked\n",
      "2022-05-16T15:50:41 - \u001B[36mSBART.template_creation.stellar_templates.Stellar_Template\u001B[0m - \u001B[38;2;241;196;15mWARNING\u001B[0m - Stellar template rejecting order 157 due to having more than 9011/9111 pixels masked\n",
      "2022-05-16T15:50:41 - \u001B[36mSBART.template_creation.stellar_templates.sum_stellar\u001B[0m - \u001B[38;2;40;180;99mINFO\u001B[0m - Closing shared memory interfaces of the Stellar template\n",
      "2022-05-16T15:50:41 - \u001B[36mSBART.template_creation.stellar_templates.Stellar_Template\u001B[0m - \u001B[38;2;208;211;212mDEBUG\u001B[0m - Cleaning the shared memory interfaces from the Stellar template creation\n",
      "2022-05-16T15:50:41 - \u001B[36mSBART.template_creation.stellar_templates.Stellar_Template\u001B[0m - \u001B[38;2;208;211;212mDEBUG\u001B[0m - Sum-Stellar from ESPRESSO18 closing the workers\n",
      "2022-05-16T15:50:41 - \u001B[36mSBART.template_creation.stellar_templates.Stellar_Template\u001B[0m - \u001B[38;2;208;211;212mDEBUG\u001B[0m - Sum-Stellar from ESPRESSO18 closing the communication queues\n",
      "2022-05-16T15:50:41 - \u001B[36mSBART.template_creation.stellar_templates.Stellar_Template\u001B[0m - \u001B[38;2;208;211;212mDEBUG\u001B[0m - Sum-Stellar from ESPRESSO18 closing the shared memory array\n",
      "2022-05-16T15:50:41 - \u001B[36mSBART.template_creation.stellar_templates.sum_stellar\u001B[0m - \u001B[38;2;241;196;15mWARNING\u001B[0m - Computation of SNR from stellar template temporarily disabled!\n",
      "2022-05-16T15:50:41 - \u001B[36mSBART.Base_Models.BASE\u001B[0m - \u001B[38;2;208;211;212mDEBUG\u001B[0m - Setting root path of Sum-Stellar from ESPRESSO18 to /home/amiguel/phd/tools/sBART_private/tests/documentation_outputs/templates/Stellar/Iteration_0\n",
      "2022-05-16T15:50:41 - \u001B[36mSBART.utils.UserConfigs\u001B[0m - \u001B[38;2;208;211;212mDEBUG\u001B[0m - Generating internal configs of Sum-Stellar from ESPRESSO19\n",
      "2022-05-16T15:50:41 - \u001B[36mSBART.utils.UserConfigs\u001B[0m - \u001B[38;2;208;211;212mDEBUG\u001B[0m - Configuration <MINIMUM_NUMBER_OBS> taking the value: 2\n",
      "2022-05-16T15:50:41 - \u001B[36mSBART.utils.UserConfigs\u001B[0m - \u001B[38;2;208;211;212mDEBUG\u001B[0m - Configuration <INTERPOLATION_ERR_PROP> using the default value: interpolation\n",
      "2022-05-16T15:50:41 - \u001B[36mSBART.utils.UserConfigs\u001B[0m - \u001B[38;2;208;211;212mDEBUG\u001B[0m - Configuration <NUMBER_WORKERS> using the default value: (1, 1)\n",
      "2022-05-16T15:50:41 - \u001B[36mSBART.utils.UserConfigs\u001B[0m - \u001B[38;2;208;211;212mDEBUG\u001B[0m - Configuration <MEMORY_SAVE_MODE> using the default value: False\n",
      "2022-05-16T15:50:41 - \u001B[36mSBART.utils.UserConfigs\u001B[0m - \u001B[38;2;208;211;212mDEBUG\u001B[0m - Configuration <PROPAGATE_UNCERTAINTIES> using the default value: True\n",
      "2022-05-16T15:50:41 - \u001B[36mSBART.utils.UserConfigs\u001B[0m - \u001B[38;2;208;211;212mDEBUG\u001B[0m - Configuration <ALIGNEMENT_RV_SOURCE> using the default value: DRS\n",
      "2022-05-16T15:50:41 - \u001B[36mSBART.template_creation.stellar_templates.Stellar_Template\u001B[0m - \u001B[38;2;40;180;99mINFO\u001B[0m - Starting creation of Stellar template from ESPRESSO19\n",
      "2022-05-16T15:50:41 - \u001B[36mSBART.template_creation.stellar_templates.Stellar_Template\u001B[0m - \u001B[38;2;231;76;60mCRITICAL\u001B[0m - ESPRESSO19 has no valid observations. Not computing Stellar template\n"
     ]
    },
    {
     "name": "stderr",
     "output_type": "stream",
     "text": [
      "2022-05-16T15:50:41 - SBART.template_creation.stellar_templates.Stellar_Template - CRITICAL - ESPRESSO19 has no valid observations. Not computing Stellar template\n"
     ]
    },
    {
     "name": "stdout",
     "output_type": "stream",
     "text": [
      "2022-05-16T15:50:41 - \u001B[36mSBART.Base_Models.Template_Model\u001B[0m - \u001B[38;2;241;196;15mWARNING\u001B[0m - Template will not be created. Check previous error messages\n",
      "2022-05-16T15:50:41 - \u001B[36mSBART.Base_Models.BASE\u001B[0m - \u001B[38;2;208;211;212mDEBUG\u001B[0m - Setting root path of Sum-Stellar from ESPRESSO19 to /home/amiguel/phd/tools/sBART_private/tests/documentation_outputs/templates/Stellar/Iteration_0\n",
      "2022-05-16T15:50:41 - \u001B[36mSBART.utils.UserConfigs\u001B[0m - \u001B[38;2;208;211;212mDEBUG\u001B[0m - Generating internal configs of Sum-Stellar from ESPRESSO21\n",
      "2022-05-16T15:50:41 - \u001B[36mSBART.utils.UserConfigs\u001B[0m - \u001B[38;2;208;211;212mDEBUG\u001B[0m - Configuration <MINIMUM_NUMBER_OBS> taking the value: 2\n",
      "2022-05-16T15:50:41 - \u001B[36mSBART.utils.UserConfigs\u001B[0m - \u001B[38;2;208;211;212mDEBUG\u001B[0m - Configuration <INTERPOLATION_ERR_PROP> using the default value: interpolation\n",
      "2022-05-16T15:50:41 - \u001B[36mSBART.utils.UserConfigs\u001B[0m - \u001B[38;2;208;211;212mDEBUG\u001B[0m - Configuration <NUMBER_WORKERS> using the default value: (1, 1)\n",
      "2022-05-16T15:50:41 - \u001B[36mSBART.utils.UserConfigs\u001B[0m - \u001B[38;2;208;211;212mDEBUG\u001B[0m - Configuration <MEMORY_SAVE_MODE> using the default value: False\n",
      "2022-05-16T15:50:41 - \u001B[36mSBART.utils.UserConfigs\u001B[0m - \u001B[38;2;208;211;212mDEBUG\u001B[0m - Configuration <PROPAGATE_UNCERTAINTIES> using the default value: True\n",
      "2022-05-16T15:50:41 - \u001B[36mSBART.utils.UserConfigs\u001B[0m - \u001B[38;2;208;211;212mDEBUG\u001B[0m - Configuration <ALIGNEMENT_RV_SOURCE> using the default value: DRS\n",
      "2022-05-16T15:50:41 - \u001B[36mSBART.template_creation.stellar_templates.Stellar_Template\u001B[0m - \u001B[38;2;40;180;99mINFO\u001B[0m - Starting creation of Stellar template from ESPRESSO21\n",
      "2022-05-16T15:50:41 - \u001B[36mSBART.template_creation.stellar_templates.Stellar_Template\u001B[0m - \u001B[38;2;231;76;60mCRITICAL\u001B[0m - ESPRESSO21 has no valid observations. Not computing Stellar template\n"
     ]
    },
    {
     "name": "stderr",
     "output_type": "stream",
     "text": [
      "2022-05-16T15:50:41 - SBART.template_creation.stellar_templates.Stellar_Template - CRITICAL - ESPRESSO21 has no valid observations. Not computing Stellar template\n"
     ]
    },
    {
     "name": "stdout",
     "output_type": "stream",
     "text": [
      "2022-05-16T15:50:41 - \u001B[36mSBART.Base_Models.Template_Model\u001B[0m - \u001B[38;2;241;196;15mWARNING\u001B[0m - Template will not be created. Check previous error messages\n",
      "2022-05-16T15:50:41 - \u001B[36mSBART.Base_Models.BASE\u001B[0m - \u001B[38;2;208;211;212mDEBUG\u001B[0m - Setting root path of Sum-Stellar from ESPRESSO21 to /home/amiguel/phd/tools/sBART_private/tests/documentation_outputs/templates/Stellar/Iteration_0\n",
      "2022-05-16T15:50:41 - \u001B[36mSBART.Base_Models.TemplateFramework\u001B[0m - \u001B[38;2;40;180;99mINFO\u001B[0m - Storing templates from <Stellar> under the directory\n",
      "2022-05-16T15:50:41 - \u001B[36mSBART.Base_Models.TemplateFramework\u001B[0m - \u001B[38;2;40;180;99mINFO\u001B[0m - \t/home/amiguel/phd/tools/sBART_private/tests/documentation_outputs/templates/Stellar/Iteration_0\n",
      "2022-05-16T15:50:41 - \u001B[36mSBART.Base_Models.BASE\u001B[0m - \u001B[38;2;40;180;99mINFO\u001B[0m - Sum-Stellar from ESPRESSO18 storing data to disk\n",
      "2022-05-16T15:50:41 - \u001B[36mSBART.Base_Models.Template_Model\u001B[0m - \u001B[38;2;40;180;99mINFO\u001B[0m - Storing Sum-Stellar from ESPRESSO18 to disk\n",
      "2022-05-16T15:50:41 - \u001B[36mSBART.Base_Models.Template_Model\u001B[0m - \u001B[38;2;241;196;15mWARNING\u001B[0m - Disabled removal of old disk files!\n",
      "2022-05-16T15:50:41 - \u001B[36mSBART.template_creation.stellar_templates.Stellar_Template\u001B[0m - \u001B[38;2;208;211;212mDEBUG\u001B[0m - Storing used filepaths to disk\n",
      "2022-05-16T15:50:41 - \u001B[36mSBART.template_creation.stellar_templates.Stellar_Template\u001B[0m - \u001B[38;2;40;180;99mINFO\u001B[0m - Storing template flags to disk\n",
      "2022-05-16T15:50:43 - \u001B[36mSBART.Base_Models.BASE\u001B[0m - \u001B[38;2;40;180;99mINFO\u001B[0m - Sum-Stellar from ESPRESSO19 storing data to disk\n",
      "2022-05-16T15:50:43 - \u001B[36mSBART.Base_Models.Template_Model\u001B[0m - \u001B[38;2;40;180;99mINFO\u001B[0m - The template was not created. Storing nothing to disk\n",
      "2022-05-16T15:50:43 - \u001B[36mSBART.Base_Models.BASE\u001B[0m - \u001B[38;2;40;180;99mINFO\u001B[0m - Sum-Stellar from ESPRESSO21 storing data to disk\n",
      "2022-05-16T15:50:43 - \u001B[36mSBART.Base_Models.Template_Model\u001B[0m - \u001B[38;2;40;180;99mINFO\u001B[0m - The template was not created. Storing nothing to disk\n",
      "2022-05-16T15:50:43 - \u001B[36mSBART.Base_Models.TemplateFramework\u001B[0m - \u001B[38;2;40;180;99mINFO\u001B[0m - Storing templates from <Stellar> under the directory\n",
      "2022-05-16T15:50:43 - \u001B[36mSBART.Base_Models.TemplateFramework\u001B[0m - \u001B[38;2;40;180;99mINFO\u001B[0m - \t/home/amiguel/phd/tools/sBART_private/tests/documentation_outputs/templates/Stellar/Iteration_0\n",
      "2022-05-16T15:50:43 - \u001B[36mSBART.Base_Models.BASE\u001B[0m - \u001B[38;2;40;180;99mINFO\u001B[0m - Sum-Stellar from ESPRESSO18 storing data to disk\n",
      "2022-05-16T15:50:43 - \u001B[36mSBART.Base_Models.Template_Model\u001B[0m - \u001B[38;2;40;180;99mINFO\u001B[0m - Storing Sum-Stellar from ESPRESSO18 to disk\n",
      "2022-05-16T15:50:43 - \u001B[36mSBART.Base_Models.Template_Model\u001B[0m - \u001B[38;2;241;196;15mWARNING\u001B[0m - Deleting previous outputs stored in the folder </home/amiguel/phd/tools/sBART_private/tests/documentation_outputs/templates/Stellar/Iteration_0>\n",
      "2022-05-16T15:50:43 - \u001B[36mSBART.template_creation.stellar_templates.Stellar_Template\u001B[0m - \u001B[38;2;208;211;212mDEBUG\u001B[0m - Storing used filepaths to disk\n",
      "2022-05-16T15:50:43 - \u001B[36mSBART.template_creation.stellar_templates.Stellar_Template\u001B[0m - \u001B[38;2;40;180;99mINFO\u001B[0m - Storing template flags to disk\n",
      "2022-05-16T15:50:44 - \u001B[36mSBART.Base_Models.BASE\u001B[0m - \u001B[38;2;40;180;99mINFO\u001B[0m - Sum-Stellar from ESPRESSO19 storing data to disk\n",
      "2022-05-16T15:50:44 - \u001B[36mSBART.Base_Models.Template_Model\u001B[0m - \u001B[38;2;40;180;99mINFO\u001B[0m - The template was not created. Storing nothing to disk\n",
      "2022-05-16T15:50:44 - \u001B[36mSBART.Base_Models.BASE\u001B[0m - \u001B[38;2;40;180;99mINFO\u001B[0m - Sum-Stellar from ESPRESSO21 storing data to disk\n",
      "2022-05-16T15:50:44 - \u001B[36mSBART.Base_Models.Template_Model\u001B[0m - \u001B[38;2;40;180;99mINFO\u001B[0m - The template was not created. Storing nothing to disk\n"
     ]
    }
   ],
   "source": [
    "from SBART.utils.spectral_conditions import Empty_condition\n",
    "\n",
    "StellarTemplateConditions = Empty_condition()\n",
    "\n",
    "ModelStell.Generate_Model(\n",
    "        data,\n",
    "        stellar_template_genesis_configs,\n",
    "        StellarTemplateConditions,\n",
    "        force_computation=False,\n",
    "    )\n",
    "\n",
    "ModelStell.store_templates_to_disk(storage_path)\n",
    "\n",
    "data.ingest_StellarModel(ModelStell)\n"
   ],
   "metadata": {
    "collapsed": false,
    "pycharm": {
     "name": "#%%\n"
    }
   }
  },
  {
   "cell_type": "markdown",
   "source": [
    "## Extracting Radial Velocities\n",
    "\n",
    "Lastly, we only need to define the RV model that we want to use"
   ],
   "metadata": {
    "collapsed": false,
    "pycharm": {
     "name": "#%% md\n"
    }
   }
  },
  {
   "cell_type": "code",
   "execution_count": 23,
   "outputs": [
    {
     "name": "stdout",
     "output_type": "stream",
     "text": [
      "2022-05-16T15:51:05 - \u001B[36mSBART.utils.UserConfigs\u001B[0m - \u001B[38;2;208;211;212mDEBUG\u001B[0m - Generating internal configs of Sampler - chi_squared\n",
      "2022-05-16T15:51:05 - \u001B[36mSBART.utils.UserConfigs\u001B[0m - \u001B[38;2;208;211;212mDEBUG\u001B[0m - Configuration <WINDOW_GENERATION_MODE> using the default value: OBSERVATION\n",
      "2022-05-16T15:51:05 - \u001B[36mSBART.utils.UserConfigs\u001B[0m - \u001B[38;2;208;211;212mDEBUG\u001B[0m - Configuration <STARTING_RV_PIPELINE> using the default value: DRS\n",
      "2022-05-16T15:51:05 - \u001B[36mSBART.utils.UserConfigs\u001B[0m - \u001B[38;2;208;211;212mDEBUG\u001B[0m - Generating internal configs of  - ModelParameter::RV_component\n",
      "2022-05-16T15:51:05 - \u001B[36mSBART.utils.UserConfigs\u001B[0m - \u001B[38;2;208;211;212mDEBUG\u001B[0m - Configuration <GENERATION_MODE> taking the value: OBSERVATION\n",
      "2022-05-16T15:51:05 - \u001B[36mSBART.ModelParameters.Model\u001B[0m - \u001B[38;2;40;180;99mINFO\u001B[0m - Generating model with following available parameters: [Parameter::RV]\n",
      "2022-05-16T15:51:05 - \u001B[36mSBART.utils.UserConfigs\u001B[0m - \u001B[38;2;208;211;212mDEBUG\u001B[0m - Generating internal configs of RV method - RV_step\n",
      "2022-05-16T15:51:05 - \u001B[36mSBART.utils.UserConfigs\u001B[0m - \u001B[38;2;208;211;212mDEBUG\u001B[0m - Configuration <MEMORY_SAVE_MODE> taking the value: True\n",
      "2022-05-16T15:51:05 - \u001B[36mSBART.utils.UserConfigs\u001B[0m - \u001B[38;2;208;211;212mDEBUG\u001B[0m - Configuration <order_removal_mode> taking the value: per_subInstrument\n",
      "2022-05-16T15:51:05 - \u001B[36mSBART.utils.UserConfigs\u001B[0m - \u001B[38;2;208;211;212mDEBUG\u001B[0m - Configuration <uncertainty_prop_type> using the default value: interpolation\n",
      "2022-05-16T15:51:05 - \u001B[36mSBART.utils.UserConfigs\u001B[0m - \u001B[38;2;208;211;212mDEBUG\u001B[0m - Configuration <sigma_outliers_tolerance> using the default value: 6\n",
      "2022-05-16T15:51:05 - \u001B[36mSBART.utils.UserConfigs\u001B[0m - \u001B[38;2;208;211;212mDEBUG\u001B[0m - Configuration <outlier_metric> using the default value: Paper\n",
      "2022-05-16T15:51:05 - \u001B[36mSBART.utils.UserConfigs\u001B[0m - \u001B[38;2;208;211;212mDEBUG\u001B[0m - Configuration <min_block_size> using the default value: 50\n",
      "2022-05-16T15:51:05 - \u001B[36mSBART.utils.UserConfigs\u001B[0m - \u001B[38;2;208;211;212mDEBUG\u001B[0m - Configuration <output_fmt> using the default value: ['BJD', 'RVc', 'RVc_ERR', 'SA', 'DRIFT', 'DRIFT_ERR', 'filename', 'frameIDs']\n",
      "2022-05-16T15:51:05 - \u001B[36mSBART.utils.UserConfigs\u001B[0m - \u001B[38;2;208;211;212mDEBUG\u001B[0m - Configuration <CONTINUUM_FIT_POLY_DEGREE> using the default value: 1\n",
      "2022-05-16T15:51:05 - \u001B[36mSBART.utils.UserConfigs\u001B[0m - \u001B[38;2;208;211;212mDEBUG\u001B[0m - Configuration <COMMON_WAVELENGTHS_MODE> using the default value: OBSERVATION\n",
      "2022-05-16T15:51:05 - \u001B[36mSBART.utils.UserConfigs\u001B[0m - \u001B[38;2;208;211;212mDEBUG\u001B[0m - Configuration <RV_variance_estimator> using the default value: simple\n",
      "2022-05-16T15:51:05 - \u001B[36mSBART.Base_Models.BASE\u001B[0m - \u001B[38;2;208;211;212mDEBUG\u001B[0m - Setting root path of Sampler - chi_squared to /home/amiguel/phd/tools/sBART_private/tests/documentation_outputs/Iteration_0/RV_step\n",
      "2022-05-16T15:51:05 - \u001B[36mSBART.ModelParameters.Model\u001B[0m - \u001B[38;2;40;180;99mINFO\u001B[0m - Generating priors of the model' parameters\n",
      "2022-05-16T15:51:05 - \u001B[36mSBART.ModelParameters.Parameter\u001B[0m - \u001B[38;2;208;211;212mDEBUG\u001B[0m - Generating RV priors\n",
      "2022-05-16T15:51:05 - \u001B[36mSBART.Base_Models.RV_routine\u001B[0m - \u001B[38;2;40;180;99mINFO\u001B[0m - Selecting wavelength regions to use\n",
      "2022-05-16T15:51:05 - \u001B[36mSBART.Base_Models.RV_routine\u001B[0m - \u001B[38;2;40;180;99mINFO\u001B[0m - Selected OBSERVATION mode, doing nothing\n",
      "2022-05-16T15:51:05 - \u001B[36mSBART.Base_Models.Sampler_Model\u001B[0m - \u001B[38;2;40;180;99mINFO\u001B[0m - Sampler - chi_squared enabling memory saving mode\n",
      "2022-05-16T15:51:05 - \u001B[36mSBART.utils.UserConfigs\u001B[0m - \u001B[38;2;208;211;212mDEBUG\u001B[0m - Generating internal configs of  - \n",
      "2022-05-16T15:51:05 - \u001B[36mSBART.data_objects.RV_outputs\u001B[0m - \u001B[38;2;208;211;212mDEBUG\u001B[0m - Validating keys for outputs\n",
      "2022-05-16T15:51:05 - \u001B[36mSBART.Base_Models.RV_routine\u001B[0m - \u001B[38;2;40;180;99mINFO\u001B[0m - Computing RVs with RV method - RV_step\n",
      "2022-05-16T15:51:05 - \u001B[36mSBART.Base_Models.RV_routine\u001B[0m - \u001B[38;2;40;180;99mINFO\u001B[0m - Skipping the same orders across all subInstruments []\n",
      "2022-05-16T15:51:05 - \u001B[36mSBART.Base_Models.RV_routine\u001B[0m - \u001B[38;2;208;211;212mDEBUG\u001B[0m - RV method - RV_step loading bad orders from the stellar templates\n",
      "2022-05-16T15:51:05 - \u001B[36mSBART.Base_Models.RV_routine\u001B[0m - \u001B[38;2;208;211;212mDEBUG\u001B[0m - Subinst ESPRESSO18, skip: {0, 1, 2, 3, 4, 5, 6, 7, 8, 9, 10, 11, 12, 13, 14, 15, 16, 17, 18, 19, 20, 21, 22, 23, 24, 25, 26, 27, 28, 29, 30, 31, 32, 33, 34, 35, 36, 37, 38, 39, 40, 41, 42, 43, 44, 45, 46, 47, 48, 49, 51, 154, 60, 155, 76, 77, 156, 157}\n",
      "2022-05-16T15:51:05 - \u001B[36mSBART.Base_Models.RV_routine\u001B[0m - \u001B[38;2;208;211;212mDEBUG\u001B[0m - Applying order-skip mode\n",
      "2022-05-16T15:51:05 - \u001B[36mSBART.Base_Models.RV_routine\u001B[0m - \u001B[38;2;208;211;212mDEBUG\u001B[0m - per_subInstrument mode selected. Doing nothing\n",
      "2022-05-16T15:51:05 - \u001B[36mSBART.Base_Models.RV_routine\u001B[0m - \u001B[38;2;208;211;212mDEBUG\u001B[0m - RV method - RV_step opening multiprocessing interfaces\n",
      "2022-05-16T15:51:05 - \u001B[36mSBART.Base_Models.RV_routine\u001B[0m - \u001B[38;2;208;211;212mDEBUG\u001B[0m - RV method - RV_step does not need to place data in shared memory\n",
      "2022-05-16T15:51:05 - \u001B[36mSBART.Base_Models.RV_routine\u001B[0m - \u001B[38;2;40;180;99mINFO\u001B[0m - Lauching 10 workers\n",
      "2022-05-16T15:51:05 - \u001B[36mSBART.Base_Models.RV_routine\u001B[0m - \u001B[38;2;40;180;99mINFO\u001B[0m - Workers have been launched\n",
      "2022-05-16T15:51:05 - \u001B[36mSBART.Base_Models.RV_routine\u001B[0m - \u001B[38;2;40;180;99mINFO\u001B[0m - Processing RVs from ESPRESSO18\n",
      "2022-05-16T15:51:05 - \u001B[36mSBART.Base_Models.RV_routine\u001B[0m - \u001B[38;2;40;180;99mINFO\u001B[0m - Applying the RV routine to 2 observations of ESPRESSO18\n",
      "2022-05-16T15:51:05 - \u001B[36mSBART.Base_Models.Sampler_Model\u001B[0m - \u001B[38;2;208;211;212mDEBUG\u001B[0m - Sampler - chi_squared managing the RV calculation of ESPRESSO18 in <order-wise> mode\n",
      "2022-05-16T15:51:05 - \u001B[36mSBART.Base_Models.Sampler_Model\u001B[0m - \u001B[38;2;208;211;212mDEBUG\u001B[0m - Starting orderWise manager\n",
      "2022-05-16T15:51:05 - \u001B[36mSBART.Base_Models.Sampler_Model\u001B[0m - \u001B[38;2;208;211;212mDEBUG\u001B[0m - Using RV window of: [<Quantity -0.20029146 km / s>, <Quantity 0.19970854 km / s>]\n",
      "2022-05-16T15:51:05 - \u001B[36mSBART.Base_Models.Sampler_Model\u001B[0m - \u001B[38;2;208;211;212mDEBUG\u001B[0m - Waiting for 112 data cubes from workers\n",
      "2022-05-16T15:51:10 - \u001B[36mSBART.Base_Models.Sampler_Model\u001B[0m - \u001B[38;2;208;211;212mDEBUG\u001B[0m - Received all data.\n",
      "2022-05-16T15:51:10 - \u001B[36mSBART.Base_Models.Sampler_Model\u001B[0m - \u001B[38;2;208;211;212mDEBUG\u001B[0m - Using RV window of: [<Quantity -0.20024932 km / s>, <Quantity 0.19975068 km / s>]\n",
      "2022-05-16T15:51:10 - \u001B[36mSBART.Base_Models.Sampler_Model\u001B[0m - \u001B[38;2;208;211;212mDEBUG\u001B[0m - Waiting for 112 data cubes from workers\n",
      "2022-05-16T15:51:14 - \u001B[36mSBART.Base_Models.Sampler_Model\u001B[0m - \u001B[38;2;208;211;212mDEBUG\u001B[0m - Received all data.\n",
      "2022-05-16T15:51:14 - \u001B[36mSBART.utils.UserConfigs\u001B[0m - \u001B[38;2;208;211;212mDEBUG\u001B[0m - Generating internal configs of RV cube from ESPRESSO18\n",
      "2022-05-16T15:51:14 - \u001B[36mSBART.Base_Models.BASE\u001B[0m - \u001B[38;2;208;211;212mDEBUG\u001B[0m - Setting root path of RV cube from ESPRESSO18 to /home/amiguel/phd/tools/sBART_private/tests/documentation_outputs/Iteration_0/RV_step/individual_subInst/ESPRESSO18\n",
      "2022-05-16T15:51:14 - \u001B[36mSBART.data_objects.RV_cube\u001B[0m - \u001B[38;2;208;211;212mDEBUG\u001B[0m - RV cube from ESPRESSO18 loading frame information from dataclass\n",
      "2022-05-16T15:51:14 - \u001B[36mSBART.Base_Models.RV_routine\u001B[0m - \u001B[38;2;40;180;99mINFO\u001B[0m - Finished the computation of RVs from ESPRESSO18. Took: 8.70050311088562 seconds\n",
      "2022-05-16T15:51:14 - \u001B[36mSBART.data_objects.RV_outputs\u001B[0m - \u001B[38;2;208;211;212mDEBUG\u001B[0m - Adding new RV cube to the RV_holder: RV cube from ESPRESSO18; Is merged: False\n",
      "2022-05-16T15:51:14 - \u001B[36mSBART.data_objects.RV_outputs\u001B[0m - \u001B[38;2;208;211;212mDEBUG\u001B[0m - Storing the RV products to disk: /home/amiguel/phd/tools/sBART_private/tests/documentation_outputs/Iteration_0/RV_step\n",
      "2022-05-16T15:51:14 - \u001B[36mSBART.data_objects.RV_cube\u001B[0m - \u001B[38;2;208;211;212mDEBUG\u001B[0m - RV cube storing data under the main folder: /home/amiguel/phd/tools/sBART_private/tests/documentation_outputs/Iteration_0/RV_step/individual_subInst/ESPRESSO18\n",
      "2022-05-16T15:51:14 - \u001B[36mSBART.data_objects.RV_cube\u001B[0m - \u001B[38;2;40;180;99mINFO\u001B[0m - Starting SA correction\n",
      "2022-05-16T15:51:14 - \u001B[36mSBART.data_objects.Target\u001B[0m - \u001B[38;2;40;180;99mINFO\u001B[0m - Querying simbad for simul\n",
      "2022-05-16T15:51:14 - \u001B[36mSBART.data_objects.Target\u001B[0m - \u001B[38;2;231;76;60mCRITICAL\u001B[0m - Could not compute the secular accelaration from simul\n",
      "\u001B[33m\u001B[1mTraceback (most recent call last):\u001B[0m\n",
      "\n",
      "  File \"/usr/lib/python3.8/runpy.py\", line 194, in _run_module_as_main\n",
      "    return _run_code(code, main_globals, None,\n",
      "           │         │     └ {'__name__': '__main__', '__doc__': 'Entry point for launching an IPython kernel.\\n\\nThis is separate from the ipykernel pack...\n",
      "           │         └ <code object <module> at 0x7faa280489d0, file \"/home/amiguel/.virtualenvs/sbart-xwoIdkmx-py3.8/lib/python3.8/site-packages/ip...\n",
      "           └ <function _run_code at 0x7faa27fe7310>\n",
      "  File \"/usr/lib/python3.8/runpy.py\", line 87, in _run_code\n",
      "    exec(code, run_globals)\n",
      "         │     └ {'__name__': '__main__', '__doc__': 'Entry point for launching an IPython kernel.\\n\\nThis is separate from the ipykernel pack...\n",
      "         └ <code object <module> at 0x7faa280489d0, file \"/home/amiguel/.virtualenvs/sbart-xwoIdkmx-py3.8/lib/python3.8/site-packages/ip...\n",
      "  File \"/home/amiguel/.virtualenvs/sbart-xwoIdkmx-py3.8/lib/python3.8/site-packages/ipykernel_launcher.py\", line 17, in <module>\n",
      "    app.launch_new_instance()\n",
      "    │   └ <bound method Application.launch_instance of <class 'ipykernel.kernelapp.IPKernelApp'>>\n",
      "    └ <module 'ipykernel.kernelapp' from '/home/amiguel/.virtualenvs/sbart-xwoIdkmx-py3.8/lib/python3.8/site-packages/ipykernel/ker...\n",
      "  File \"/home/amiguel/.virtualenvs/sbart-xwoIdkmx-py3.8/lib/python3.8/site-packages/traitlets/config/application.py\", line 846, in launch_instance\n",
      "    app.start()\n",
      "    │   └ <function IPKernelApp.start at 0x7faa21452c10>\n",
      "    └ <ipykernel.kernelapp.IPKernelApp object at 0x7faa280f6580>\n",
      "  File \"/home/amiguel/.virtualenvs/sbart-xwoIdkmx-py3.8/lib/python3.8/site-packages/ipykernel/kernelapp.py\", line 712, in start\n",
      "    self.io_loop.start()\n",
      "    │    │       └ <function BaseAsyncIOLoop.start at 0x7faa23dc5700>\n",
      "    │    └ <tornado.platform.asyncio.AsyncIOMainLoop object at 0x7faa213fd640>\n",
      "    └ <ipykernel.kernelapp.IPKernelApp object at 0x7faa280f6580>\n",
      "  File \"/home/amiguel/.virtualenvs/sbart-xwoIdkmx-py3.8/lib/python3.8/site-packages/tornado/platform/asyncio.py\", line 199, in start\n",
      "    self.asyncio_loop.run_forever()\n",
      "    │    │            └ <function BaseEventLoop.run_forever at 0x7faa26e88310>\n",
      "    │    └ <_UnixSelectorEventLoop running=True closed=False debug=False>\n",
      "    └ <tornado.platform.asyncio.AsyncIOMainLoop object at 0x7faa213fd640>\n",
      "  File \"/usr/lib/python3.8/asyncio/base_events.py\", line 570, in run_forever\n",
      "    self._run_once()\n",
      "    │    └ <function BaseEventLoop._run_once at 0x7faa26e8ae50>\n",
      "    └ <_UnixSelectorEventLoop running=True closed=False debug=False>\n",
      "  File \"/usr/lib/python3.8/asyncio/base_events.py\", line 1859, in _run_once\n",
      "    handle._run()\n",
      "    │      └ <function Handle._run at 0x7faa2733bc10>\n",
      "    └ <Handle <TaskWakeupMethWrapper object at 0x7fa9f72a6b20>(<Future finis...040>, ...],))>)>\n",
      "  File \"/usr/lib/python3.8/asyncio/events.py\", line 81, in _run\n",
      "    self._context.run(self._callback, *self._args)\n",
      "    │    │            │    │           │    └ <member '_args' of 'Handle' objects>\n",
      "    │    │            │    │           └ <Handle <TaskWakeupMethWrapper object at 0x7fa9f72a6b20>(<Future finis...040>, ...],))>)>\n",
      "    │    │            │    └ <member '_callback' of 'Handle' objects>\n",
      "    │    │            └ <Handle <TaskWakeupMethWrapper object at 0x7fa9f72a6b20>(<Future finis...040>, ...],))>)>\n",
      "    │    └ <member '_context' of 'Handle' objects>\n",
      "    └ <Handle <TaskWakeupMethWrapper object at 0x7fa9f72a6b20>(<Future finis...040>, ...],))>)>\n",
      "  File \"/home/amiguel/.virtualenvs/sbart-xwoIdkmx-py3.8/lib/python3.8/site-packages/ipykernel/kernelbase.py\", line 504, in dispatch_queue\n",
      "    await self.process_one()\n",
      "          │    └ <function Kernel.process_one at 0x7faa21e24ca0>\n",
      "          └ <ipykernel.ipkernel.IPythonKernel object at 0x7faa213f3c70>\n",
      "  File \"/home/amiguel/.virtualenvs/sbart-xwoIdkmx-py3.8/lib/python3.8/site-packages/ipykernel/kernelbase.py\", line 493, in process_one\n",
      "    await dispatch(*args)\n",
      "          │         └ ([<zmq.sugar.frame.Frame object at 0x7faa203e4e00>, <zmq.sugar.frame.Frame object at 0x7faa203e4eb0>, <zmq.sugar.frame.Frame ...\n",
      "          └ <bound method Kernel.dispatch_shell of <ipykernel.ipkernel.IPythonKernel object at 0x7faa213f3c70>>\n",
      "  File \"/home/amiguel/.virtualenvs/sbart-xwoIdkmx-py3.8/lib/python3.8/site-packages/ipykernel/kernelbase.py\", line 400, in dispatch_shell\n",
      "    await result\n",
      "          └ <coroutine object Kernel.execute_request at 0x7fa9d71e82c0>\n",
      "  File \"/home/amiguel/.virtualenvs/sbart-xwoIdkmx-py3.8/lib/python3.8/site-packages/ipykernel/kernelbase.py\", line 724, in execute_request\n",
      "    reply_content = await reply_content\n",
      "                          └ <coroutine object IPythonKernel.do_execute at 0x7fa9f4429940>\n",
      "  File \"/home/amiguel/.virtualenvs/sbart-xwoIdkmx-py3.8/lib/python3.8/site-packages/ipykernel/ipkernel.py\", line 390, in do_execute\n",
      "    res = shell.run_cell(code, store_history=store_history, silent=silent)\n",
      "          │     │        │                   │                     └ False\n",
      "          │     │        │                   └ True\n",
      "          │     │        └ 'from SBART.rv_calculation.RV_Bayesian.RV_Bayesian import RV_Bayesian\\nfrom SBART.rv_calculation.rv_stepping.RV_step import R...\n",
      "          │     └ <function ZMQInteractiveShell.run_cell at 0x7faa21446550>\n",
      "          └ <ipykernel.zmqshell.ZMQInteractiveShell object at 0x7faa2141c820>\n",
      "  File \"/home/amiguel/.virtualenvs/sbart-xwoIdkmx-py3.8/lib/python3.8/site-packages/ipykernel/zmqshell.py\", line 528, in run_cell\n",
      "    return super().run_cell(*args, **kwargs)\n",
      "                             │       └ {'store_history': True, 'silent': False}\n",
      "                             └ ('from SBART.rv_calculation.RV_Bayesian.RV_Bayesian import RV_Bayesian\\nfrom SBART.rv_calculation.rv_stepping.RV_step import ...\n",
      "  File \"/home/amiguel/.virtualenvs/sbart-xwoIdkmx-py3.8/lib/python3.8/site-packages/IPython/core/interactiveshell.py\", line 2863, in run_cell\n",
      "    result = self._run_cell(\n",
      "             │    └ <function InteractiveShell._run_cell at 0x7faa229010d0>\n",
      "             └ <ipykernel.zmqshell.ZMQInteractiveShell object at 0x7faa2141c820>\n",
      "  File \"/home/amiguel/.virtualenvs/sbart-xwoIdkmx-py3.8/lib/python3.8/site-packages/IPython/core/interactiveshell.py\", line 2909, in _run_cell\n",
      "    return runner(coro)\n",
      "           │      └ <coroutine object InteractiveShell.run_cell_async at 0x7fa9f720f740>\n",
      "           └ <function _pseudo_sync_runner at 0x7faa2433aaf0>\n",
      "  File \"/home/amiguel/.virtualenvs/sbart-xwoIdkmx-py3.8/lib/python3.8/site-packages/IPython/core/async_helpers.py\", line 129, in _pseudo_sync_runner\n",
      "    coro.send(None)\n",
      "    │    └ <method 'send' of 'coroutine' objects>\n",
      "    └ <coroutine object InteractiveShell.run_cell_async at 0x7fa9f720f740>\n",
      "  File \"/home/amiguel/.virtualenvs/sbart-xwoIdkmx-py3.8/lib/python3.8/site-packages/IPython/core/interactiveshell.py\", line 3106, in run_cell_async\n",
      "    has_raised = await self.run_ast_nodes(code_ast.body, cell_name,\n",
      "                       │    │             │        │     └ '/tmp/ipykernel_36486/717077360.py'\n",
      "                       │    │             │        └ [<_ast.ImportFrom object at 0x7fa9f70d9220>, <_ast.ImportFrom object at 0x7fa9f72de940>, <_ast.ImportFrom object at 0x7fa9f72...\n",
      "                       │    │             └ <_ast.Module object at 0x7fa9d6f01d90>\n",
      "                       │    └ <function InteractiveShell.run_ast_nodes at 0x7faa22901430>\n",
      "                       └ <ipykernel.zmqshell.ZMQInteractiveShell object at 0x7faa2141c820>\n",
      "  File \"/home/amiguel/.virtualenvs/sbart-xwoIdkmx-py3.8/lib/python3.8/site-packages/IPython/core/interactiveshell.py\", line 3309, in run_ast_nodes\n",
      "    if await self.run_code(code, result, async_=asy):\n",
      "             │    │        │     │              └ False\n",
      "             │    │        │     └ <ExecutionResult object at 7fa9f72de280, execution_count=23 error_before_exec=None error_in_exec=None info=<ExecutionInfo obj...\n",
      "             │    │        └ <code object <cell line: 29> at 0x7fa9f7d1eb30, file \"/tmp/ipykernel_36486/717077360.py\", line 29>\n",
      "             │    └ <function InteractiveShell.run_code at 0x7faa229014c0>\n",
      "             └ <ipykernel.zmqshell.ZMQInteractiveShell object at 0x7faa2141c820>\n",
      "  File \"/home/amiguel/.virtualenvs/sbart-xwoIdkmx-py3.8/lib/python3.8/site-packages/IPython/core/interactiveshell.py\", line 3369, in run_code\n",
      "    exec(code_obj, self.user_global_ns, self.user_ns)\n",
      "         │         │    │               │    └ {'__name__': '__main__', '__doc__': 'Automatically created module for IPython interactive environment', '__package__': None, ...\n",
      "         │         │    │               └ <ipykernel.zmqshell.ZMQInteractiveShell object at 0x7faa2141c820>\n",
      "         │         │    └ <property object at 0x7faa228fc220>\n",
      "         │         └ <ipykernel.zmqshell.ZMQInteractiveShell object at 0x7faa2141c820>\n",
      "         └ <code object <cell line: 29> at 0x7fa9f7d1eb30, file \"/tmp/ipykernel_36486/717077360.py\", line 29>\n",
      "\n",
      "  File \"\u001B[32m/tmp/ipykernel_36486/\u001B[0m\u001B[32m\u001B[1m717077360.py\u001B[0m\", line \u001B[33m29\u001B[0m, in \u001B[35m<cell line: 29>\u001B[0m\n",
      "    \u001B[1mrv_model\u001B[0m\u001B[35m\u001B[1m.\u001B[0m\u001B[1mrun_routine\u001B[0m\u001B[1m(\u001B[0m\u001B[1mdata\u001B[0m\u001B[1m,\u001B[0m \u001B[1mstorage_path\u001B[0m\u001B[1m,\u001B[0m \u001B[1morders\u001B[0m\u001B[1m)\u001B[0m\n",
      "    \u001B[36m│        │           │     │             └ \u001B[0m\u001B[36m\u001B[1m[]\u001B[0m\n",
      "    \u001B[36m│        │           │     └ \u001B[0m\u001B[36m\u001B[1mPosixPath('/home/amiguel/phd/tools/sBART_private/tests/documentation_outputs')\u001B[0m\n",
      "    \u001B[36m│        │           └ \u001B[0m\u001B[36m\u001B[1m<AutoProxy[DataClass] object, typeid 'DataClass' at 0x7faa203ddeb0>\u001B[0m\n",
      "    \u001B[36m│        └ \u001B[0m\u001B[36m\u001B[1m<function RV_step.run_routine at 0x7fa9d6df9af0>\u001B[0m\n",
      "    \u001B[36m└ \u001B[0m\u001B[36m\u001B[1m<SBART.rv_calculation.rv_stepping.RV_step.RV_step object at 0x7fa9d6df2b50>\u001B[0m\n",
      "\n",
      "  File \"\u001B[32m/home/amiguel/phd/tools/sBART_private/SBART/rv_calculation/rv_stepping/\u001B[0m\u001B[32m\u001B[1mRV_step.py\u001B[0m\", line \u001B[33m92\u001B[0m, in \u001B[35mrun_routine\u001B[0m\n",
      "    \u001B[1msuper\u001B[0m\u001B[1m(\u001B[0m\u001B[1m)\u001B[0m\u001B[35m\u001B[1m.\u001B[0m\u001B[1mrun_routine\u001B[0m\u001B[1m(\u001B[0m\n",
      "\n",
      "  File \"\u001B[32m/home/amiguel/phd/tools/sBART_private/SBART/Base_Models/\u001B[0m\u001B[32m\u001B[1mRV_routine.py\u001B[0m\", line \u001B[33m327\u001B[0m, in \u001B[35mrun_routine\u001B[0m\n",
      "    \u001B[1mself\u001B[0m\u001B[35m\u001B[1m.\u001B[0m\u001B[1m_output_RVcubes\u001B[0m\u001B[35m\u001B[1m.\u001B[0m\u001B[1mstore_computed_RVs_to_disk\u001B[0m\u001B[1m(\u001B[0m\n",
      "    \u001B[36m│    │               └ \u001B[0m\u001B[36m\u001B[1m<function RV_holder.store_computed_RVs_to_disk at 0x7fa9b0d55d30>\u001B[0m\n",
      "    \u001B[36m│    └ \u001B[0m\u001B[36m\u001B[1m<SBART.data_objects.RV_outputs.RV_holder object at 0x7fa9d6c614c0>\u001B[0m\n",
      "    \u001B[36m└ \u001B[0m\u001B[36m\u001B[1m<SBART.rv_calculation.rv_stepping.RV_step.RV_step object at 0x7fa9d6df2b50>\u001B[0m\n",
      "\n",
      "  File \"\u001B[32m/home/amiguel/phd/tools/sBART_private/SBART/data_objects/\u001B[0m\u001B[32m\u001B[1mRV_outputs.py\u001B[0m\", line \u001B[33m223\u001B[0m, in \u001B[35mstore_computed_RVs_to_disk\u001B[0m\n",
      "    \u001B[1mcube\u001B[0m\u001B[35m\u001B[1m.\u001B[0m\u001B[1mexport_results\u001B[0m\u001B[1m(\u001B[0m\n",
      "    \u001B[36m│    └ \u001B[0m\u001B[36m\u001B[1m<function RV_cube.export_results at 0x7fa9b0d55430>\u001B[0m\n",
      "    \u001B[36m└ \u001B[0m\u001B[36m\u001B[1m<SBART.data_objects.RV_cube.RV_cube object at 0x7fa9d6d1b850>\u001B[0m\n",
      "\n",
      "  File \"\u001B[32m/home/amiguel/phd/tools/sBART_private/SBART/data_objects/\u001B[0m\u001B[32m\u001B[1mRV_cube.py\u001B[0m\", line \u001B[33m565\u001B[0m, in \u001B[35mexport_results\u001B[0m\n",
      "    \u001B[1mself\u001B[0m\u001B[35m\u001B[1m.\u001B[0m\u001B[1mexport_txt\u001B[0m\u001B[1m(\u001B[0m\u001B[1mheader\u001B[0m\u001B[1m,\u001B[0m \u001B[1mappend\u001B[0m\u001B[35m\u001B[1m=\u001B[0m\u001B[1mappend\u001B[0m\u001B[1m,\u001B[0m \u001B[1mkeys\u001B[0m\u001B[35m\u001B[1m=\u001B[0m\u001B[1mkeys\u001B[0m\u001B[1m)\u001B[0m\n",
      "    \u001B[36m│    │          │              │            └ \u001B[0m\u001B[36m\u001B[1m['BJD', 'RVc', 'RVc_ERR', 'SA', 'DRIFT', 'DRIFT_ERR', 'filename', 'frameIDs']\u001B[0m\n",
      "    \u001B[36m│    │          │              └ \u001B[0m\u001B[36m\u001B[1mFalse\u001B[0m\n",
      "    \u001B[36m│    │          └ \u001B[0m\u001B[36m\u001B[1m['BJD', 'RVc [Km/s] ', 'RVc_ERR [Km/s] ', 'SA [m/s] ', 'DRIFT [m/s] ', 'DRIFT_ERR', 'filename', 'frameIDs']\u001B[0m\n",
      "    \u001B[36m│    └ \u001B[0m\u001B[36m\u001B[1m<function RV_cube.export_txt at 0x7fa9b0d55550>\u001B[0m\n",
      "    \u001B[36m└ \u001B[0m\u001B[36m\u001B[1m<SBART.data_objects.RV_cube.RV_cube object at 0x7fa9d6d1b850>\u001B[0m\n",
      "\n",
      "  File \"\u001B[32m/home/amiguel/phd/tools/sBART_private/SBART/data_objects/\u001B[0m\u001B[32m\u001B[1mRV_cube.py\u001B[0m\", line \u001B[33m717\u001B[0m, in \u001B[35mexport_txt\u001B[0m\n",
      "    \u001B[1mdata_blocks\u001B[0m \u001B[35m\u001B[1m=\u001B[0m \u001B[1mself\u001B[0m\u001B[35m\u001B[1m.\u001B[0m\u001B[1mbuild_datablock\u001B[0m\u001B[1m(\u001B[0m\u001B[1m)\u001B[0m\n",
      "    \u001B[36m              │    └ \u001B[0m\u001B[36m\u001B[1m<function RV_cube.build_datablock at 0x7fa9b0d55280>\u001B[0m\n",
      "    \u001B[36m              └ \u001B[0m\u001B[36m\u001B[1m<SBART.data_objects.RV_cube.RV_cube object at 0x7fa9d6d1b850>\u001B[0m\n",
      "\n",
      "  File \"\u001B[32m/home/amiguel/phd/tools/sBART_private/SBART/data_objects/\u001B[0m\u001B[32m\u001B[1mRV_cube.py\u001B[0m\", line \u001B[33m411\u001B[0m, in \u001B[35mbuild_datablock\u001B[0m\n",
      "    \u001B[1m_\u001B[0m\u001B[1m,\u001B[0m \u001B[1mcorr_rv\u001B[0m\u001B[1m,\u001B[0m \u001B[1mcorr_err\u001B[0m \u001B[35m\u001B[1m=\u001B[0m \u001B[1mself\u001B[0m\u001B[35m\u001B[1m.\u001B[0m\u001B[1mget_RV_timeseries\u001B[0m\u001B[1m(\u001B[0m\n",
      "    \u001B[36m                       │    └ \u001B[0m\u001B[36m\u001B[1m<function RV_cube.get_RV_timeseries at 0x7fa9b0d62af0>\u001B[0m\n",
      "    \u001B[36m                       └ \u001B[0m\u001B[36m\u001B[1m<SBART.data_objects.RV_cube.RV_cube object at 0x7fa9d6d1b850>\u001B[0m\n",
      "\n",
      "  File \"\u001B[32m/home/amiguel/phd/tools/sBART_private/SBART/data_objects/\u001B[0m\u001B[32m\u001B[1mRV_cube.py\u001B[0m\", line \u001B[33m285\u001B[0m, in \u001B[35mget_RV_timeseries\u001B[0m\n",
      "    \u001B[1mSA_corr\u001B[0m \u001B[35m\u001B[1m=\u001B[0m \u001B[1mself\u001B[0m\u001B[35m\u001B[1m.\u001B[0m\u001B[1mcompute_SA_correction\u001B[0m\u001B[1m(\u001B[0m\u001B[1m)\u001B[0m\n",
      "    \u001B[36m          │    └ \u001B[0m\u001B[36m\u001B[1m<function RV_cube.compute_SA_correction at 0x7fa9b0d62c10>\u001B[0m\n",
      "    \u001B[36m          └ \u001B[0m\u001B[36m\u001B[1m<SBART.data_objects.RV_cube.RV_cube object at 0x7fa9d6d1b850>\u001B[0m\n",
      "\n",
      "  File \"\u001B[32m/home/amiguel/phd/tools/sBART_private/SBART/data_objects/\u001B[0m\u001B[32m\u001B[1mRV_cube.py\u001B[0m\", line \u001B[33m342\u001B[0m, in \u001B[35mcompute_SA_correction\u001B[0m\n",
      "    \u001B[1mSA\u001B[0m \u001B[35m\u001B[1m=\u001B[0m \u001B[1mself\u001B[0m\u001B[35m\u001B[1m.\u001B[0m\u001B[1mcached_info\u001B[0m\u001B[1m[\u001B[0m\u001B[36m\"target\"\u001B[0m\u001B[1m]\u001B[0m\u001B[35m\u001B[1m.\u001B[0m\u001B[1msecular_acceleration\u001B[0m\n",
      "    \u001B[36m     │    └ \u001B[0m\u001B[36m\u001B[1m{'BJD': [2458524.85684441, 2458524.85684441], 'drift': [<Quantity nan km / s>, <Quantity nan km / s>], 'drift_ERR': [<Quantit...\u001B[0m\n",
      "    \u001B[36m     └ \u001B[0m\u001B[36m\u001B[1m<SBART.data_objects.RV_cube.RV_cube object at 0x7fa9d6d1b850>\u001B[0m\n",
      "\n",
      "> File \"\u001B[32m/home/amiguel/phd/tools/sBART_private/SBART/data_objects/\u001B[0m\u001B[32m\u001B[1mTarget.py\u001B[0m\", line \u001B[33m93\u001B[0m, in \u001B[35msecular_acceleration\u001B[0m\n",
      "    \u001B[1mself\u001B[0m\u001B[35m\u001B[1m.\u001B[0m\u001B[1m_SA\u001B[0m \u001B[35m\u001B[1m=\u001B[0m \u001B[1msecular_acceleration\u001B[0m\u001B[1m(\u001B[0m\u001B[1mself\u001B[0m\u001B[35m\u001B[1m.\u001B[0m\u001B[1msearchable_name\u001B[0m\u001B[1m(\u001B[0m\u001B[1mself\u001B[0m\u001B[35m\u001B[1m.\u001B[0m\u001B[1mtrue_name\u001B[0m\u001B[1m)\u001B[0m\u001B[1m)\u001B[0m\n",
      "    \u001B[36m│    │     │                    │    │               │    └ \u001B[0m\u001B[36m\u001B[1m<property object at 0x7fa9b8f90c20>\u001B[0m\n",
      "    \u001B[36m│    │     │                    │    │               └ \u001B[0m\u001B[36m\u001B[1m<SBART.data_objects.Target.Target object at 0x7fa9f4f1ffd0>\u001B[0m\n",
      "    \u001B[36m│    │     │                    │    └ \u001B[0m\u001B[36m\u001B[1m<function Target.searchable_name at 0x7fa9b8f91b80>\u001B[0m\n",
      "    \u001B[36m│    │     │                    └ \u001B[0m\u001B[36m\u001B[1m<SBART.data_objects.Target.Target object at 0x7fa9f4f1ffd0>\u001B[0m\n",
      "    \u001B[36m│    │     └ \u001B[0m\u001B[36m\u001B[1m<function secular_acceleration at 0x7fa9f4477040>\u001B[0m\n",
      "    \u001B[36m│    └ \u001B[0m\u001B[36m\u001B[1mnan\u001B[0m\n",
      "    \u001B[36m└ \u001B[0m\u001B[36m\u001B[1m<SBART.data_objects.Target.Target object at 0x7fa9f4f1ffd0>\u001B[0m\n",
      "\n",
      "  File \"\u001B[32m/home/amiguel/phd/tools/sBART_private/SBART/utils/RV_utilities/\u001B[0m\u001B[32m\u001B[1mcompute_SA.py\u001B[0m\", line \u001B[33m64\u001B[0m, in \u001B[35msecular_acceleration\u001B[0m\n",
      "    \u001B[1mrsimbad\u001B[0m\u001B[1m,\u001B[0m \u001B[1mquery\u001B[0m \u001B[35m\u001B[1m=\u001B[0m \u001B[1mbuild_query\u001B[0m\u001B[1m(\u001B[0m\u001B[1mstar\u001B[0m\u001B[1m)\u001B[0m\n",
      "    \u001B[36m                 │           └ \u001B[0m\u001B[36m\u001B[1m'simul'\u001B[0m\n",
      "    \u001B[36m                 └ \u001B[0m\u001B[36m\u001B[1m<function build_query at 0x7fa9f4470e50>\u001B[0m\n",
      "\n",
      "  File \"\u001B[32m/home/amiguel/phd/tools/sBART_private/SBART/utils/RV_utilities/\u001B[0m\u001B[32m\u001B[1mcompute_SA.py\u001B[0m\", line \u001B[33m35\u001B[0m, in \u001B[35mbuild_query\u001B[0m\n",
      "    \u001B[35m\u001B[1mraise\u001B[0m \u001B[1mValueError\u001B[0m\u001B[1m(\u001B[0m\u001B[36mf\"star {star} not found in Simbad\"\u001B[0m\u001B[1m)\u001B[0m\n",
      "\n",
      "\u001B[31m\u001B[1mValueError\u001B[0m:\u001B[1m star simul not found in Simbad\u001B[0m\n"
     ]
    },
    {
     "name": "stderr",
     "output_type": "stream",
     "text": [
      "/home/amiguel/.virtualenvs/sbart-xwoIdkmx-py3.8/lib/python3.8/site-packages/astroquery/simbad/core.py:135: UserWarning: Warning: The script line number 3 raised an error (recorded in the `errors` attribute of the result table): 'simul': No known catalog could be found\n",
      "  warnings.warn(\"Warning: The script line number %i raised \"\n",
      "2022-05-16T15:51:14 - SBART.data_objects.Target - CRITICAL - Could not compute the secular accelaration from simul\n",
      "Traceback (most recent call last):\n",
      "\n",
      "  File \"/usr/lib/python3.8/runpy.py\", line 194, in _run_module_as_main\n",
      "    return _run_code(code, main_globals, None,\n",
      "           │         │     └ {'__name__': '__main__', '__doc__': 'Entry point for launching an IPython kernel.\\n\\nThis is separate from the ipykernel pack...\n",
      "           │         └ <code object <module> at 0x7faa280489d0, file \"/home/amiguel/.virtualenvs/sbart-xwoIdkmx-py3.8/lib/python3.8/site-packages/ip...\n",
      "           └ <function _run_code at 0x7faa27fe7310>\n",
      "  File \"/usr/lib/python3.8/runpy.py\", line 87, in _run_code\n",
      "    exec(code, run_globals)\n",
      "         │     └ {'__name__': '__main__', '__doc__': 'Entry point for launching an IPython kernel.\\n\\nThis is separate from the ipykernel pack...\n",
      "         └ <code object <module> at 0x7faa280489d0, file \"/home/amiguel/.virtualenvs/sbart-xwoIdkmx-py3.8/lib/python3.8/site-packages/ip...\n",
      "  File \"/home/amiguel/.virtualenvs/sbart-xwoIdkmx-py3.8/lib/python3.8/site-packages/ipykernel_launcher.py\", line 17, in <module>\n",
      "    app.launch_new_instance()\n",
      "    │   └ <bound method Application.launch_instance of <class 'ipykernel.kernelapp.IPKernelApp'>>\n",
      "    └ <module 'ipykernel.kernelapp' from '/home/amiguel/.virtualenvs/sbart-xwoIdkmx-py3.8/lib/python3.8/site-packages/ipykernel/ker...\n",
      "  File \"/home/amiguel/.virtualenvs/sbart-xwoIdkmx-py3.8/lib/python3.8/site-packages/traitlets/config/application.py\", line 846, in launch_instance\n",
      "    app.start()\n",
      "    │   └ <function IPKernelApp.start at 0x7faa21452c10>\n",
      "    └ <ipykernel.kernelapp.IPKernelApp object at 0x7faa280f6580>\n",
      "  File \"/home/amiguel/.virtualenvs/sbart-xwoIdkmx-py3.8/lib/python3.8/site-packages/ipykernel/kernelapp.py\", line 712, in start\n",
      "    self.io_loop.start()\n",
      "    │    │       └ <function BaseAsyncIOLoop.start at 0x7faa23dc5700>\n",
      "    │    └ <tornado.platform.asyncio.AsyncIOMainLoop object at 0x7faa213fd640>\n",
      "    └ <ipykernel.kernelapp.IPKernelApp object at 0x7faa280f6580>\n",
      "  File \"/home/amiguel/.virtualenvs/sbart-xwoIdkmx-py3.8/lib/python3.8/site-packages/tornado/platform/asyncio.py\", line 199, in start\n",
      "    self.asyncio_loop.run_forever()\n",
      "    │    │            └ <function BaseEventLoop.run_forever at 0x7faa26e88310>\n",
      "    │    └ <_UnixSelectorEventLoop running=True closed=False debug=False>\n",
      "    └ <tornado.platform.asyncio.AsyncIOMainLoop object at 0x7faa213fd640>\n",
      "  File \"/usr/lib/python3.8/asyncio/base_events.py\", line 570, in run_forever\n",
      "    self._run_once()\n",
      "    │    └ <function BaseEventLoop._run_once at 0x7faa26e8ae50>\n",
      "    └ <_UnixSelectorEventLoop running=True closed=False debug=False>\n",
      "  File \"/usr/lib/python3.8/asyncio/base_events.py\", line 1859, in _run_once\n",
      "    handle._run()\n",
      "    │      └ <function Handle._run at 0x7faa2733bc10>\n",
      "    └ <Handle <TaskWakeupMethWrapper object at 0x7fa9f72a6b20>(<Future finis...040>, ...],))>)>\n",
      "  File \"/usr/lib/python3.8/asyncio/events.py\", line 81, in _run\n",
      "    self._context.run(self._callback, *self._args)\n",
      "    │    │            │    │           │    └ <member '_args' of 'Handle' objects>\n",
      "    │    │            │    │           └ <Handle <TaskWakeupMethWrapper object at 0x7fa9f72a6b20>(<Future finis...040>, ...],))>)>\n",
      "    │    │            │    └ <member '_callback' of 'Handle' objects>\n",
      "    │    │            └ <Handle <TaskWakeupMethWrapper object at 0x7fa9f72a6b20>(<Future finis...040>, ...],))>)>\n",
      "    │    └ <member '_context' of 'Handle' objects>\n",
      "    └ <Handle <TaskWakeupMethWrapper object at 0x7fa9f72a6b20>(<Future finis...040>, ...],))>)>\n",
      "  File \"/home/amiguel/.virtualenvs/sbart-xwoIdkmx-py3.8/lib/python3.8/site-packages/ipykernel/kernelbase.py\", line 504, in dispatch_queue\n",
      "    await self.process_one()\n",
      "          │    └ <function Kernel.process_one at 0x7faa21e24ca0>\n",
      "          └ <ipykernel.ipkernel.IPythonKernel object at 0x7faa213f3c70>\n",
      "  File \"/home/amiguel/.virtualenvs/sbart-xwoIdkmx-py3.8/lib/python3.8/site-packages/ipykernel/kernelbase.py\", line 493, in process_one\n",
      "    await dispatch(*args)\n",
      "          │         └ ([<zmq.sugar.frame.Frame object at 0x7faa203e4e00>, <zmq.sugar.frame.Frame object at 0x7faa203e4eb0>, <zmq.sugar.frame.Frame ...\n",
      "          └ <bound method Kernel.dispatch_shell of <ipykernel.ipkernel.IPythonKernel object at 0x7faa213f3c70>>\n",
      "  File \"/home/amiguel/.virtualenvs/sbart-xwoIdkmx-py3.8/lib/python3.8/site-packages/ipykernel/kernelbase.py\", line 400, in dispatch_shell\n",
      "    await result\n",
      "          └ <coroutine object Kernel.execute_request at 0x7fa9d71e82c0>\n",
      "  File \"/home/amiguel/.virtualenvs/sbart-xwoIdkmx-py3.8/lib/python3.8/site-packages/ipykernel/kernelbase.py\", line 724, in execute_request\n",
      "    reply_content = await reply_content\n",
      "                          └ <coroutine object IPythonKernel.do_execute at 0x7fa9f4429940>\n",
      "  File \"/home/amiguel/.virtualenvs/sbart-xwoIdkmx-py3.8/lib/python3.8/site-packages/ipykernel/ipkernel.py\", line 390, in do_execute\n",
      "    res = shell.run_cell(code, store_history=store_history, silent=silent)\n",
      "          │     │        │                   │                     └ False\n",
      "          │     │        │                   └ True\n",
      "          │     │        └ 'from SBART.rv_calculation.RV_Bayesian.RV_Bayesian import RV_Bayesian\\nfrom SBART.rv_calculation.rv_stepping.RV_step import R...\n",
      "          │     └ <function ZMQInteractiveShell.run_cell at 0x7faa21446550>\n",
      "          └ <ipykernel.zmqshell.ZMQInteractiveShell object at 0x7faa2141c820>\n",
      "  File \"/home/amiguel/.virtualenvs/sbart-xwoIdkmx-py3.8/lib/python3.8/site-packages/ipykernel/zmqshell.py\", line 528, in run_cell\n",
      "    return super().run_cell(*args, **kwargs)\n",
      "                             │       └ {'store_history': True, 'silent': False}\n",
      "                             └ ('from SBART.rv_calculation.RV_Bayesian.RV_Bayesian import RV_Bayesian\\nfrom SBART.rv_calculation.rv_stepping.RV_step import ...\n",
      "  File \"/home/amiguel/.virtualenvs/sbart-xwoIdkmx-py3.8/lib/python3.8/site-packages/IPython/core/interactiveshell.py\", line 2863, in run_cell\n",
      "    result = self._run_cell(\n",
      "             │    └ <function InteractiveShell._run_cell at 0x7faa229010d0>\n",
      "             └ <ipykernel.zmqshell.ZMQInteractiveShell object at 0x7faa2141c820>\n",
      "  File \"/home/amiguel/.virtualenvs/sbart-xwoIdkmx-py3.8/lib/python3.8/site-packages/IPython/core/interactiveshell.py\", line 2909, in _run_cell\n",
      "    return runner(coro)\n",
      "           │      └ <coroutine object InteractiveShell.run_cell_async at 0x7fa9f720f740>\n",
      "           └ <function _pseudo_sync_runner at 0x7faa2433aaf0>\n",
      "  File \"/home/amiguel/.virtualenvs/sbart-xwoIdkmx-py3.8/lib/python3.8/site-packages/IPython/core/async_helpers.py\", line 129, in _pseudo_sync_runner\n",
      "    coro.send(None)\n",
      "    │    └ <method 'send' of 'coroutine' objects>\n",
      "    └ <coroutine object InteractiveShell.run_cell_async at 0x7fa9f720f740>\n",
      "  File \"/home/amiguel/.virtualenvs/sbart-xwoIdkmx-py3.8/lib/python3.8/site-packages/IPython/core/interactiveshell.py\", line 3106, in run_cell_async\n",
      "    has_raised = await self.run_ast_nodes(code_ast.body, cell_name,\n",
      "                       │    │             │        │     └ '/tmp/ipykernel_36486/717077360.py'\n",
      "                       │    │             │        └ [<_ast.ImportFrom object at 0x7fa9f70d9220>, <_ast.ImportFrom object at 0x7fa9f72de940>, <_ast.ImportFrom object at 0x7fa9f72...\n",
      "                       │    │             └ <_ast.Module object at 0x7fa9d6f01d90>\n",
      "                       │    └ <function InteractiveShell.run_ast_nodes at 0x7faa22901430>\n",
      "                       └ <ipykernel.zmqshell.ZMQInteractiveShell object at 0x7faa2141c820>\n",
      "  File \"/home/amiguel/.virtualenvs/sbart-xwoIdkmx-py3.8/lib/python3.8/site-packages/IPython/core/interactiveshell.py\", line 3309, in run_ast_nodes\n",
      "    if await self.run_code(code, result, async_=asy):\n",
      "             │    │        │     │              └ False\n",
      "             │    │        │     └ <ExecutionResult object at 7fa9f72de280, execution_count=23 error_before_exec=None error_in_exec=None info=<ExecutionInfo obj...\n",
      "             │    │        └ <code object <cell line: 29> at 0x7fa9f7d1eb30, file \"/tmp/ipykernel_36486/717077360.py\", line 29>\n",
      "             │    └ <function InteractiveShell.run_code at 0x7faa229014c0>\n",
      "             └ <ipykernel.zmqshell.ZMQInteractiveShell object at 0x7faa2141c820>\n",
      "  File \"/home/amiguel/.virtualenvs/sbart-xwoIdkmx-py3.8/lib/python3.8/site-packages/IPython/core/interactiveshell.py\", line 3369, in run_code\n",
      "    exec(code_obj, self.user_global_ns, self.user_ns)\n",
      "         │         │    │               │    └ {'__name__': '__main__', '__doc__': 'Automatically created module for IPython interactive environment', '__package__': None, ...\n",
      "         │         │    │               └ <ipykernel.zmqshell.ZMQInteractiveShell object at 0x7faa2141c820>\n",
      "         │         │    └ <property object at 0x7faa228fc220>\n",
      "         │         └ <ipykernel.zmqshell.ZMQInteractiveShell object at 0x7faa2141c820>\n",
      "         └ <code object <cell line: 29> at 0x7fa9f7d1eb30, file \"/tmp/ipykernel_36486/717077360.py\", line 29>\n",
      "\n",
      "  File \"/tmp/ipykernel_36486/717077360.py\", line 29, in <cell line: 29>\n",
      "    rv_model.run_routine(data, storage_path, orders)\n",
      "    │        │           │     │             └ []\n",
      "    │        │           │     └ PosixPath('/home/amiguel/phd/tools/sBART_private/tests/documentation_outputs')\n",
      "    │        │           └ <AutoProxy[DataClass] object, typeid 'DataClass' at 0x7faa203ddeb0>\n",
      "    │        └ <function RV_step.run_routine at 0x7fa9d6df9af0>\n",
      "    └ <SBART.rv_calculation.rv_stepping.RV_step.RV_step object at 0x7fa9d6df2b50>\n",
      "\n",
      "  File \"/home/amiguel/phd/tools/sBART_private/SBART/rv_calculation/rv_stepping/RV_step.py\", line 92, in run_routine\n",
      "    super().run_routine(\n",
      "\n",
      "  File \"/home/amiguel/phd/tools/sBART_private/SBART/Base_Models/RV_routine.py\", line 327, in run_routine\n",
      "    self._output_RVcubes.store_computed_RVs_to_disk(\n",
      "    │    │               └ <function RV_holder.store_computed_RVs_to_disk at 0x7fa9b0d55d30>\n",
      "    │    └ <SBART.data_objects.RV_outputs.RV_holder object at 0x7fa9d6c614c0>\n",
      "    └ <SBART.rv_calculation.rv_stepping.RV_step.RV_step object at 0x7fa9d6df2b50>\n",
      "\n",
      "  File \"/home/amiguel/phd/tools/sBART_private/SBART/data_objects/RV_outputs.py\", line 223, in store_computed_RVs_to_disk\n",
      "    cube.export_results(\n",
      "    │    └ <function RV_cube.export_results at 0x7fa9b0d55430>\n",
      "    └ <SBART.data_objects.RV_cube.RV_cube object at 0x7fa9d6d1b850>\n",
      "\n",
      "  File \"/home/amiguel/phd/tools/sBART_private/SBART/data_objects/RV_cube.py\", line 565, in export_results\n",
      "    self.export_txt(header, append=append, keys=keys)\n",
      "    │    │          │              │            └ ['BJD', 'RVc', 'RVc_ERR', 'SA', 'DRIFT', 'DRIFT_ERR', 'filename', 'frameIDs']\n",
      "    │    │          │              └ False\n",
      "    │    │          └ ['BJD', 'RVc [Km/s] ', 'RVc_ERR [Km/s] ', 'SA [m/s] ', 'DRIFT [m/s] ', 'DRIFT_ERR', 'filename', 'frameIDs']\n",
      "    │    └ <function RV_cube.export_txt at 0x7fa9b0d55550>\n",
      "    └ <SBART.data_objects.RV_cube.RV_cube object at 0x7fa9d6d1b850>\n",
      "\n",
      "  File \"/home/amiguel/phd/tools/sBART_private/SBART/data_objects/RV_cube.py\", line 717, in export_txt\n",
      "    data_blocks = self.build_datablock()\n",
      "                  │    └ <function RV_cube.build_datablock at 0x7fa9b0d55280>\n",
      "                  └ <SBART.data_objects.RV_cube.RV_cube object at 0x7fa9d6d1b850>\n",
      "\n",
      "  File \"/home/amiguel/phd/tools/sBART_private/SBART/data_objects/RV_cube.py\", line 411, in build_datablock\n",
      "    _, corr_rv, corr_err = self.get_RV_timeseries(\n",
      "                           │    └ <function RV_cube.get_RV_timeseries at 0x7fa9b0d62af0>\n",
      "                           └ <SBART.data_objects.RV_cube.RV_cube object at 0x7fa9d6d1b850>\n",
      "\n",
      "  File \"/home/amiguel/phd/tools/sBART_private/SBART/data_objects/RV_cube.py\", line 285, in get_RV_timeseries\n",
      "    SA_corr = self.compute_SA_correction()\n",
      "              │    └ <function RV_cube.compute_SA_correction at 0x7fa9b0d62c10>\n",
      "              └ <SBART.data_objects.RV_cube.RV_cube object at 0x7fa9d6d1b850>\n",
      "\n",
      "  File \"/home/amiguel/phd/tools/sBART_private/SBART/data_objects/RV_cube.py\", line 342, in compute_SA_correction\n",
      "    SA = self.cached_info[\"target\"].secular_acceleration\n",
      "         │    └ {'BJD': [2458524.85684441, 2458524.85684441], 'drift': [<Quantity nan km / s>, <Quantity nan km / s>], 'drift_ERR': [<Quantit...\n",
      "         └ <SBART.data_objects.RV_cube.RV_cube object at 0x7fa9d6d1b850>\n",
      "\n",
      "> File \"/home/amiguel/phd/tools/sBART_private/SBART/data_objects/Target.py\", line 93, in secular_acceleration\n",
      "    self._SA = secular_acceleration(self.searchable_name(self.true_name))\n",
      "    │    │     │                    │    │               │    └ <property object at 0x7fa9b8f90c20>\n",
      "    │    │     │                    │    │               └ <SBART.data_objects.Target.Target object at 0x7fa9f4f1ffd0>\n",
      "    │    │     │                    │    └ <function Target.searchable_name at 0x7fa9b8f91b80>\n",
      "    │    │     │                    └ <SBART.data_objects.Target.Target object at 0x7fa9f4f1ffd0>\n",
      "    │    │     └ <function secular_acceleration at 0x7fa9f4477040>\n",
      "    │    └ nan\n",
      "    └ <SBART.data_objects.Target.Target object at 0x7fa9f4f1ffd0>\n",
      "\n",
      "  File \"/home/amiguel/phd/tools/sBART_private/SBART/utils/RV_utilities/compute_SA.py\", line 64, in secular_acceleration\n",
      "    rsimbad, query = build_query(star)\n",
      "                     │           └ 'simul'\n",
      "                     └ <function build_query at 0x7fa9f4470e50>\n",
      "\n",
      "  File \"/home/amiguel/phd/tools/sBART_private/SBART/utils/RV_utilities/compute_SA.py\", line 35, in build_query\n",
      "    raise ValueError(f\"star {star} not found in Simbad\")\n",
      "\n",
      "ValueError: star simul not found in Simbad\n"
     ]
    },
    {
     "name": "stdout",
     "output_type": "stream",
     "text": [
      "2022-05-16T15:51:14 - \u001B[36mSBART.data_objects.RV_cube\u001B[0m - \u001B[38;2;40;180;99mINFO\u001B[0m - Setting SA reference frame to BJD = 55500\n",
      "2022-05-16T15:51:14 - \u001B[36mSBART.data_objects.RV_cube\u001B[0m - \u001B[38;2;208;211;212mDEBUG\u001B[0m - Forcing the drift correction to be set to False\n",
      "2022-05-16T15:51:14 - \u001B[36mSBART.data_objects.RV_cube\u001B[0m - \u001B[38;2;208;211;212mDEBUG\u001B[0m - Forcing the drift correction to be set to False\n",
      "2022-05-16T15:51:14 - \u001B[36mSBART.data_objects.RV_cube\u001B[0m - \u001B[38;2;208;211;212mDEBUG\u001B[0m - Forcing the drift correction to be set to False\n",
      "2022-05-16T15:51:14 - \u001B[36mSBART.data_objects.RV_cube\u001B[0m - \u001B[38;2;40;180;99mINFO\u001B[0m - \n",
      "+---------------------+-----------+------------+------------------+\n",
      "| Method              | std [m/s] | wstd [m/s] | median err [m/s] |\n",
      "+---------------------+-----------+------------+------------------+\n",
      "| DRS_raw             | 0.02107   | 0.02107    | 0.00010          |\n",
      "+---------------------+-----------+------------+------------------+\n",
      "| DRS_corr            | 0.02107   | 0.02107    | 0.00010          |\n",
      "+---------------------+-----------+------------+------------------+\n",
      "| SBART_raw           | 0.00720   | 0.00720    | 0.13612          |\n",
      "+---------------------+-----------+------------+------------------+\n",
      "| SBART_corr          | 0.00720   | 0.00720    | 0.13612          |\n",
      "+---------------------+-----------+------------+------------------+\n",
      "| previous_SBART_raw  | nan       | nan        | nan              |\n",
      "+---------------------+-----------+------------+------------------+\n",
      "| previous_SBART_corr | nan       | nan        | nan              |\n",
      "+---------------------+-----------+------------+------------------+\n",
      "\n",
      "2022-05-16T15:51:15 - \u001B[36mSBART.data_objects.RV_cube\u001B[0m - \u001B[38;2;208;211;212mDEBUG\u001B[0m - Closing figures from RV cube from ESPRESSO18\n",
      "2022-05-16T15:51:15 - \u001B[36mSBART.Base_Models.RV_routine\u001B[0m - \u001B[38;2;208;211;212mDEBUG\u001B[0m - Shutting down the multiprocessing interfaces\n",
      "2022-05-16T15:51:15 - \u001B[36mSBART.Base_Models.RV_routine\u001B[0m - \u001B[38;2;208;211;212mDEBUG\u001B[0m - Sending shutdown signal to workers\n",
      "2022-05-16T15:51:15 - \u001B[36mSBART.Base_Models.RV_routine\u001B[0m - \u001B[38;2;231;76;60mCRITICAL\u001B[0m - 0 - 0\n"
     ]
    },
    {
     "name": "stderr",
     "output_type": "stream",
     "text": [
      "2022-05-16T15:51:15 - SBART.Base_Models.RV_routine - CRITICAL - 0 - 0\n"
     ]
    },
    {
     "name": "stdout",
     "output_type": "stream",
     "text": [
      "2022-05-16T15:51:15 - \u001B[36mSBART.Base_Models.RV_routine\u001B[0m - \u001B[38;2;208;211;212mDEBUG\u001B[0m - There are 10 live workers. Sending shutdown signal for all\n",
      "2022-05-16T15:51:15 - \u001B[36mSBART.Base_Models.RV_routine\u001B[0m - \u001B[38;2;208;211;212mDEBUG\u001B[0m - Waiting for worker response\n",
      "2022-05-16T15:51:15 - \u001B[36mSBART.Base_Models.RV_routine\u001B[0m - \u001B[38;2;208;211;212mDEBUG\u001B[0m - Received 0 shutdown signals. Still missing  10\n",
      "2022-05-16T15:51:15 - \u001B[36mSBART.Base_Models.RV_routine\u001B[0m - \u001B[38;2;208;211;212mDEBUG\u001B[0m - Received 8 shutdown signals. Still missing  2\n",
      "2022-05-16T15:51:15 - \u001B[36mSBART.Base_Models.RV_routine\u001B[0m - \u001B[38;2;208;211;212mDEBUG\u001B[0m - Received 0 shutdown signals. Still missing  2\n",
      "2022-05-16T15:51:15 - \u001B[36mSBART.Base_Models.RV_routine\u001B[0m - \u001B[38;2;208;211;212mDEBUG\u001B[0m - Received 0 shutdown signals. Still missing  2\n",
      "2022-05-16T15:51:15 - \u001B[36mSBART.Base_Models.RV_routine\u001B[0m - \u001B[38;2;208;211;212mDEBUG\u001B[0m - Received 2 shutdown signals. Still missing  0\n",
      "2022-05-16T15:51:15 - \u001B[36mSBART.Base_Models.RV_routine\u001B[0m - \u001B[38;2;40;180;99mINFO\u001B[0m - All workers are closed\n",
      "2022-05-16T15:51:15 - \u001B[36mSBART.Base_Models.RV_routine\u001B[0m - \u001B[38;2;208;211;212mDEBUG\u001B[0m - RV method - RV_step closing multiprocessing interfaces\n",
      "2022-05-16T15:51:15 - \u001B[36mSBART.Base_Models.RV_routine\u001B[0m - \u001B[38;2;208;211;212mDEBUG\u001B[0m - Closing shared memory arrays\n",
      "2022-05-16T15:51:15 - \u001B[36mSBART.Base_Models.RV_routine\u001B[0m - \u001B[38;2;208;211;212mDEBUG\u001B[0m - RV method - RV_step has no shared memory arrays!\n",
      "2022-05-16T15:51:15 - \u001B[36mSBART.Base_Models.RV_routine\u001B[0m - \u001B[38;2;208;211;212mDEBUG\u001B[0m - RV method - RV_step storing data to /home/amiguel/phd/tools/sBART_private/tests/documentation_outputs/Iteration_0/RV_step\n",
      "2022-05-16T15:51:15 - \u001B[36mSBART.Base_Models.BASE\u001B[0m - \u001B[38;2;40;180;99mINFO\u001B[0m -  -  storing data to disk\n",
      "2022-05-16T15:51:15 - \u001B[36mSBART.Base_Models.BASE\u001B[0m - \u001B[38;2;40;180;99mINFO\u001B[0m - RV cube from ESPRESSO18 storing data to disk\n",
      "2022-05-16T15:51:15 - \u001B[36mSBART.data_objects.RV_cube\u001B[0m - \u001B[38;2;40;180;99mINFO\u001B[0m - Storing order-wise information to fits file\n",
      "2022-05-16T15:51:15 - \u001B[36mSBART.data_objects.RV_cube\u001B[0m - \u001B[38;2;208;211;212mDEBUG\u001B[0m - Forcing the drift correction to be set to False\n",
      "2022-05-16T15:51:15 - \u001B[36mSBART.data_objects.RV_cube\u001B[0m - \u001B[38;2;208;211;212mDEBUG\u001B[0m - Forcing the drift correction to be set to False\n",
      "2022-05-16T15:51:15 - \u001B[36mSBART.data_objects.RV_cube\u001B[0m - \u001B[38;2;208;211;212mDEBUG\u001B[0m - Forcing the drift correction to be set to False\n",
      "2022-05-16T15:51:15 - \u001B[36mSBART.data_objects.RV_cube\u001B[0m - \u001B[38;2;40;180;99mINFO\u001B[0m - Storing misc information\n",
      "2022-05-16T15:51:15 - \u001B[36mSBART.data_objects.RV_cube\u001B[0m - \u001B[38;2;40;180;99mINFO\u001B[0m - Storing work packages\n",
      "2022-05-16T15:51:18 - \u001B[36mSBART.data_objects.RV_cube\u001B[0m - \u001B[38;2;40;180;99mINFO\u001B[0m - Finished export of RV cube from ESPRESSO18 to disk. Took 2.48 seconds\n",
      "2022-05-16T15:51:18 - \u001B[36mSBART.Base_Models.RV_routine\u001B[0m - \u001B[38;2;208;211;212mDEBUG\u001B[0m - RV method - RV_step data storage took 2.4901278018951416 seconds\n",
      "2022-05-16T15:51:18 - \u001B[36mSBART.rv_calculation.rv_stepping.RV_step\u001B[0m - \u001B[38;2;208;211;212mDEBUG\u001B[0m - No real need to compute the merged set of valid orders when there is only 1 valid subINst\n",
      "2022-05-16T15:51:18 - \u001B[36mSBART.rv_calculation.rv_stepping.RV_step\u001B[0m - \u001B[38;2;40;180;99mINFO\u001B[0m - RV method - RV_step computed the super-set of orders to skip: {0, 1, 2, 3, 4, 5, 6, 7, 8, 9, 10, 11, 12, 13, 14, 15, 16, 17, 18, 19, 20, 21, 22, 23, 24, 25, 26, 27, 28, 29, 30, 31, 32, 33, 34, 35, 36, 37, 38, 39, 40, 41, 42, 43, 44, 45, 46, 47, 48, 49, 51, 154, 153, 60, 155, 76, 77, 156, 157, 152}\n",
      "2022-05-16T15:51:18 - \u001B[36mSBART.rv_calculation.rv_stepping.RV_step\u001B[0m - \u001B[38;2;40;180;99mINFO\u001B[0m - Computing RVs with the 'merged' orders to skip for the following subInstruments: ['ESPRESSO18']\n",
      "2022-05-16T15:51:18 - \u001B[36mSBART.utils.UserConfigs\u001B[0m - \u001B[38;2;208;211;212mDEBUG\u001B[0m - Generating internal configs of RV cube from ESPRESSO18\n",
      "2022-05-16T15:51:18 - \u001B[36mSBART.Base_Models.BASE\u001B[0m - \u001B[38;2;208;211;212mDEBUG\u001B[0m - Setting root path of RV cube from ESPRESSO18 to /home/amiguel/phd/tools/sBART_private/tests/documentation_outputs/Iteration_0/RV_step/merged_subInst/ESPRESSO18\n",
      "2022-05-16T15:51:18 - \u001B[36mSBART.data_objects.RV_cube\u001B[0m - \u001B[38;2;40;180;99mINFO\u001B[0m - RV cube making copy of RV cube from ESPRESSO18\n",
      "2022-05-16T15:51:18 - \u001B[36mSBART.data_objects.RV_outputs\u001B[0m - \u001B[38;2;208;211;212mDEBUG\u001B[0m - Adding new RV cube to the RV_holder: RV cube from ESPRESSO18; Is merged: True\n",
      "2022-05-16T15:51:18 - \u001B[36mSBART.data_objects.RV_outputs\u001B[0m - \u001B[38;2;208;211;212mDEBUG\u001B[0m - Storing the RV products to disk: /home/amiguel/phd/tools/sBART_private/tests/documentation_outputs/Iteration_0/RV_step\n",
      "2022-05-16T15:51:18 - \u001B[36mSBART.data_objects.RV_cube\u001B[0m - \u001B[38;2;208;211;212mDEBUG\u001B[0m - RV cube storing data under the main folder: /home/amiguel/phd/tools/sBART_private/tests/documentation_outputs/Iteration_0/RV_step/merged_subInst/ESPRESSO18\n",
      "2022-05-16T15:51:18 - \u001B[36mSBART.data_objects.RV_cube\u001B[0m - \u001B[38;2;208;211;212mDEBUG\u001B[0m - Forcing the drift correction to be set to False\n",
      "2022-05-16T15:51:18 - \u001B[36mSBART.data_objects.RV_cube\u001B[0m - \u001B[38;2;208;211;212mDEBUG\u001B[0m - Forcing the drift correction to be set to False\n",
      "2022-05-16T15:51:18 - \u001B[36mSBART.data_objects.RV_cube\u001B[0m - \u001B[38;2;208;211;212mDEBUG\u001B[0m - Forcing the drift correction to be set to False\n",
      "2022-05-16T15:51:18 - \u001B[36mSBART.data_objects.RV_cube\u001B[0m - \u001B[38;2;40;180;99mINFO\u001B[0m - \n",
      "+---------------------+-----------+------------+------------------+\n",
      "| Method              | std [m/s] | wstd [m/s] | median err [m/s] |\n",
      "+---------------------+-----------+------------+------------------+\n",
      "| DRS_raw             | 0.02107   | 0.02107    | 0.00010          |\n",
      "+---------------------+-----------+------------+------------------+\n",
      "| DRS_corr            | 0.02107   | 0.02107    | 0.00010          |\n",
      "+---------------------+-----------+------------+------------------+\n",
      "| SBART_raw           | 0.00720   | 0.00720    | 0.13612          |\n",
      "+---------------------+-----------+------------+------------------+\n",
      "| SBART_corr          | 0.00720   | 0.00720    | 0.13612          |\n",
      "+---------------------+-----------+------------+------------------+\n",
      "| previous_SBART_raw  | nan       | nan        | nan              |\n",
      "+---------------------+-----------+------------+------------------+\n",
      "| previous_SBART_corr | nan       | nan        | nan              |\n",
      "+---------------------+-----------+------------+------------------+\n",
      "\n",
      "2022-05-16T15:51:19 - \u001B[36mSBART.data_objects.RV_cube\u001B[0m - \u001B[38;2;208;211;212mDEBUG\u001B[0m - Closing figures from RV cube from ESPRESSO18\n",
      "2022-05-16T15:51:19 - \u001B[36mSBART.Base_Models.RV_routine\u001B[0m - \u001B[38;2;208;211;212mDEBUG\u001B[0m - RV method - RV_step storing data to /home/amiguel/phd/tools/sBART_private/tests/documentation_outputs/Iteration_0/RV_step\n",
      "2022-05-16T15:51:19 - \u001B[36mSBART.Base_Models.BASE\u001B[0m - \u001B[38;2;40;180;99mINFO\u001B[0m -  -  storing data to disk\n",
      "2022-05-16T15:51:19 - \u001B[36mSBART.Base_Models.BASE\u001B[0m - \u001B[38;2;40;180;99mINFO\u001B[0m - RV cube from ESPRESSO18 storing data to disk\n",
      "2022-05-16T15:51:19 - \u001B[36mSBART.data_objects.RV_cube\u001B[0m - \u001B[38;2;40;180;99mINFO\u001B[0m - Storing order-wise information to fits file\n",
      "2022-05-16T15:51:19 - \u001B[36mSBART.data_objects.RV_cube\u001B[0m - \u001B[38;2;208;211;212mDEBUG\u001B[0m - Forcing the drift correction to be set to False\n",
      "2022-05-16T15:51:19 - \u001B[36mSBART.data_objects.RV_cube\u001B[0m - \u001B[38;2;208;211;212mDEBUG\u001B[0m - Forcing the drift correction to be set to False\n",
      "2022-05-16T15:51:19 - \u001B[36mSBART.data_objects.RV_cube\u001B[0m - \u001B[38;2;208;211;212mDEBUG\u001B[0m - Forcing the drift correction to be set to False\n",
      "2022-05-16T15:51:19 - \u001B[36mSBART.data_objects.RV_cube\u001B[0m - \u001B[38;2;40;180;99mINFO\u001B[0m - Storing misc information\n",
      "2022-05-16T15:51:19 - \u001B[36mSBART.data_objects.RV_cube\u001B[0m - \u001B[38;2;40;180;99mINFO\u001B[0m - Storing work packages\n",
      "2022-05-16T15:51:21 - \u001B[36mSBART.data_objects.RV_cube\u001B[0m - \u001B[38;2;40;180;99mINFO\u001B[0m - Finished export of RV cube from ESPRESSO18 to disk. Took 2.60 seconds\n",
      "2022-05-16T15:51:21 - \u001B[36mSBART.Base_Models.BASE\u001B[0m - \u001B[38;2;40;180;99mINFO\u001B[0m - RV cube from ESPRESSO18 storing data to disk\n",
      "2022-05-16T15:51:21 - \u001B[36mSBART.data_objects.RV_cube\u001B[0m - \u001B[38;2;40;180;99mINFO\u001B[0m - Storing order-wise information to fits file\n",
      "2022-05-16T15:51:21 - \u001B[36mSBART.data_objects.RV_cube\u001B[0m - \u001B[38;2;208;211;212mDEBUG\u001B[0m - Forcing the drift correction to be set to False\n",
      "2022-05-16T15:51:21 - \u001B[36mSBART.data_objects.RV_cube\u001B[0m - \u001B[38;2;208;211;212mDEBUG\u001B[0m - Forcing the drift correction to be set to False\n",
      "2022-05-16T15:51:21 - \u001B[36mSBART.data_objects.RV_cube\u001B[0m - \u001B[38;2;208;211;212mDEBUG\u001B[0m - Forcing the drift correction to be set to False\n",
      "2022-05-16T15:51:21 - \u001B[36mSBART.data_objects.RV_cube\u001B[0m - \u001B[38;2;40;180;99mINFO\u001B[0m - Storing misc information\n",
      "2022-05-16T15:51:21 - \u001B[36mSBART.data_objects.RV_cube\u001B[0m - \u001B[38;2;40;180;99mINFO\u001B[0m - Storing work packages\n",
      "2022-05-16T15:51:21 - \u001B[36mSBART.data_objects.RV_cube\u001B[0m - \u001B[38;2;40;180;99mINFO\u001B[0m - Finished export of RV cube from ESPRESSO18 to disk. Took 0.13 seconds\n",
      "2022-05-16T15:51:21 - \u001B[36mSBART.Base_Models.RV_routine\u001B[0m - \u001B[38;2;208;211;212mDEBUG\u001B[0m - RV method - RV_step data storage took 2.749178171157837 seconds\n"
     ]
    }
   ],
   "source": [
    "from SBART.rv_calculation.RV_Bayesian.RV_Bayesian import RV_Bayesian\n",
    "from SBART.rv_calculation.rv_stepping.RV_step import RV_step\n",
    "from SBART.Samplers import chi_squared_sampler, Laplace_approx\n",
    "import os\n",
    "\n",
    "\n",
    "if rv_method == \"classical\":\n",
    "    sampler = chi_squared_sampler(RVstep, RV_limits)\n",
    "    rv_model = RV_step(\n",
    "        processes=N_cores,\n",
    "        sub_processes=1,\n",
    "        RV_configs=confsRV,\n",
    "        sampler=sampler,\n",
    "    )\n",
    "\n",
    "    orders = orders_to_skip\n",
    "elif rv_method == \"Laplace\":\n",
    "    sampler = Laplace_approx(RVstep, RV_limits)\n",
    "    rv_model = RV_Bayesian(\n",
    "        processes=N_cores,\n",
    "        sub_processes=1,\n",
    "        RV_configs=confsRV,\n",
    "        sampler=sampler,\n",
    "    )\n",
    "    orders = os.path.join(storage_path, \"Iteration_0/RV_step\")\n",
    "else:\n",
    "    raise Exception\n",
    "\n",
    "rv_model.run_routine(data, storage_path, orders)"
   ],
   "metadata": {
    "collapsed": false,
    "pycharm": {
     "name": "#%%\n"
    }
   }
  }
 ],
 "metadata": {
  "kernelspec": {
   "display_name": "Python 3",
   "language": "python",
   "name": "python3"
  },
  "language_info": {
   "codemirror_mode": {
    "name": "ipython",
    "version": 2
   },
   "file_extension": ".py",
   "mimetype": "text/x-python",
   "name": "python",
   "nbconvert_exporter": "python",
   "pygments_lexer": "ipython2",
   "version": "2.7.6"
  }
 },
 "nbformat": 4,
 "nbformat_minor": 0
}